{
 "cells": [
  {
   "cell_type": "code",
   "execution_count": 1,
   "id": "1f87568c-e422-4767-9f4a-a73499982402",
   "metadata": {},
   "outputs": [],
   "source": [
    "import gc\n",
    "import torch\n",
    "import argparse\n",
    "import numpy as np\n",
    "\n",
    "from utils import *\n",
    "from tqdm import tqdm\n",
    "from os import path, makedirs\n",
    "from datasets import load_dataset\n",
    "#from unsloth import FastLanguageModel\n",
    "from huggingface_hub import login as hf_login\n",
    "\n",
    "## evaluation function\n",
    "def evaluate(model, tokenizer, data):\n",
    "    outputs=[]\n",
    "    for text in tqdm(data['text']):\n",
    "        inputs = tokenizer(text, return_tensors = \"pt\").to(\"cuda\")\n",
    "        response = model.generate(**inputs, max_new_tokens = 10)\n",
    "        response = tokenizer.decode(response[0]).split('Response')[1]\n",
    "        outputs.append(response)\n",
    "    return outputs"
   ]
  },
  {
   "cell_type": "code",
   "execution_count": 2,
   "id": "0c59b496-29d6-4098-abf7-8560f6f05194",
   "metadata": {},
   "outputs": [],
   "source": [
    "from transformers import AutoTokenizer\n",
    "tokenizer=AutoTokenizer.from_pretrained('meta-llama/Llama-3.1-8B-Instruct')"
   ]
  },
  {
   "cell_type": "code",
   "execution_count": 3,
   "id": "3475e4e1-a2cf-4943-a4ec-f4b4b9e55a7c",
   "metadata": {},
   "outputs": [
    {
     "data": {
      "application/vnd.jupyter.widget-view+json": {
       "model_id": "033d58f0aed84a64896c62d6c8fb65b8",
       "version_major": 2,
       "version_minor": 0
      },
      "text/plain": [
       "VBox(children=(HTML(value='<center> <img\\nsrc=https://huggingface.co/front/assets/huggingface_logo-noborder.sv…"
      ]
     },
     "metadata": {},
     "output_type": "display_data"
    }
   ],
   "source": [
    "#-------------------\n",
    "# Parameters\n",
    "#-------------------    \n",
    "parser = argparse.ArgumentParser()\n",
    "parser.add_argument('--model_id', type=str, default='llama3')\n",
    "parser.add_argument('--dataset', type=str, default='beanham/spatial_join_dataset')\n",
    "parser.add_argument('--max_seq_length', type=int, default=2048)\n",
    "parser.add_argument('--device', type=str, default='auto')\n",
    "args = parser.parse_args(args=[])\n",
    "args.save_path=f'inference_results/base/{args.model_id}/'\n",
    "if not path.exists(args.save_path):\n",
    "    makedirs(args.save_path)    \n",
    "data = load_dataset(args.dataset)\n",
    "methods = ['zero_shot', 'one_shot']\n",
    "modes = ['no_exp', 'with_exp']\n",
    "hf_login()"
   ]
  },
  {
   "cell_type": "code",
   "execution_count": 20,
   "id": "2bbacb14-ea51-4e7a-92de-2944418d752f",
   "metadata": {},
   "outputs": [],
   "source": [
    "def formatting_prompts_func(example):\n",
    "    output = \"\"                \n",
    "    if method=='zero_shot':                \n",
    "        if mode=='no_exp':\n",
    "            input = \"Sidewalk: \"+str(example['sidewalk'])+\"\\nRoad: \"+str(example['road'])\n",
    "            text = zero_shot_alpaca_prompt.format(instruction_no_exp, input, output)\n",
    "        else:\n",
    "            input = \"Sidewalk: \"+str(example['sidewalk'])+\\\n",
    "                    \"\\nRoad: \"+str(example['road'])+\\\n",
    "                    \"\\nmin_angle: \"+str(example['min_angle'])+\\\n",
    "                    \"\\nmin_distance: \"+str(example['euc_dist'])\n",
    "            text = zero_shot_alpaca_prompt.format(instruction_with_exp, input, output)\n",
    "    else:\n",
    "        if mode=='no_exp':\n",
    "            input = \"Sidewalk: \"+str(example['sidewalk'])+\"\\nRoad: \"+str(example['road'])\n",
    "            text = few_shot_alpaca_prompt.format(instruction_no_exp, example_one_no_exp, example_two_no_exp, input, output)\n",
    "        else:\n",
    "            input = \"Sidewalk: \"+str(example['sidewalk'])+\\\n",
    "                    \"\\nRoad: \"+str(example['road'])+\\\n",
    "                    \"\\nmin_angle: \"+str(example['min_angle'])+\\\n",
    "                    \"\\nmin_distance: \"+str(example['euc_dist'])\n",
    "            text = few_shot_alpaca_prompt.format(instruction_with_exp, example_one_with_exp, example_two_with_exp, input, output)\n",
    "    return { \"text\" : text}"
   ]
  },
  {
   "cell_type": "code",
   "execution_count": 24,
   "id": "e30a487f-fd48-403b-9bcc-273c6cd96237",
   "metadata": {},
   "outputs": [
    {
     "data": {
      "application/vnd.jupyter.widget-view+json": {
       "model_id": "57870af595874e0fa0eada09ef3baa9c",
       "version_major": 2,
       "version_minor": 0
      },
      "text/plain": [
       "Map:   0%|          | 0/3069 [00:00<?, ? examples/s]"
      ]
     },
     "metadata": {},
     "output_type": "display_data"
    }
   ],
   "source": [
    "method='few_shot'\n",
    "mode='with_exp'\n",
    "test = data['test'].map(formatting_prompts_func)"
   ]
  },
  {
   "cell_type": "code",
   "execution_count": 29,
   "id": "70a1c5ad-1925-4165-b5a1-3b723d194791",
   "metadata": {},
   "outputs": [
    {
     "name": "stdout",
     "output_type": "stream",
     "text": [
      "### Instruction:\n",
      "You are a helpful geospatial analysis assistant. I will provide you with a pair of (sidewalk, road) GeoJSON, along with two key statistics:\n",
      "\n",
      "1. min_angle: The minimum angle (in degrees) between the sidewalk and the road.\n",
      "2. min_distance: The minimum distance between the sidewalk and the road.\n",
      "\n",
      "Your task is to determine whether the sidewalk runs alongside the road by evaluating the following conditions:\n",
      "\n",
      "1. Adjacency: The sidewalk and road should be in close proximity, meaning they are near each other but do not overlap or intersect. The min_distance value helps quantify this proximity.\n",
      "2. Parallelism: The sidewalk should be approximately parallel to the road, with only a small angle difference between their orientations. The min_angle value provides a measure of this alignment.\n",
      "\n",
      "If both conditions are satisfied, return 1. Otherwise, return 0.\n",
      "\n",
      "### First Exmaple:\n",
      "Sidewalk: {'coordinates': [[-122.15646960000001, 47.58741259999999], [-122.1562564, 47.58744089999999]], 'type': 'LineString'}\n",
      "Road: {'coordinates': [[-122.1563888, 47.5874271], [-122.1563897, 47.5874341], [-122.1564949, 47.5890663], [-122.1564975, 47.5890982]], 'type': 'LineString'}\n",
      "min_angle: 86.12658269425465\n",
      "min_distance: 0.6112785794641761\n",
      "Response: {0}\n",
      "\n",
      "### Second Exmaple:\n",
      "Sidewalk: {'coordinates': [[-122.13341579999998, 47.54698270000001], [-122.1334011, 47.5468383]], 'type': 'LineString'}\n",
      "Road: {'coordinates': [[-122.1328993, 47.5458957], [-122.1329478, 47.5460104], [-122.1330183, 47.5461317], [-122.1330885, 47.5462402], [-122.1333795, 47.5466214], [-122.1334411, 47.5467369], [-122.1334757, 47.5468199], [-122.1335148, 47.5469582]], 'type': 'LineString'}\n",
      "min_angle: 9.973873687169487\n",
      "min_distance: 8.72605420848234\n",
      "Response: {1}\n",
      "\n",
      "### Input:\n",
      "Sidewalk: {'coordinates': [[-122.1349355, 47.5790911], [-122.13490050000001, 47.57926789999999]], 'type': 'LineString'}\n",
      "Road: {'coordinates': [[-122.1349177, 47.5793165], [-122.1350162, 47.5792677], [-122.1350841, 47.5792461], [-122.1353094, 47.5792379]], 'type': 'LineString'}\n",
      "min_angle: 52.447026958534295\n",
      "min_distance: 7.5974418995380715\n",
      "\n",
      "### Response:\n",
      "\n"
     ]
    }
   ],
   "source": [
    "print(test['text'][10])"
   ]
  },
  {
   "cell_type": "code",
   "execution_count": 31,
   "id": "42eb0926-79c9-4fea-b5fd-c02a20f55fe8",
   "metadata": {},
   "outputs": [
    {
     "data": {
      "text/plain": [
       "687"
      ]
     },
     "execution_count": 31,
     "metadata": {},
     "output_type": "execute_result"
    }
   ],
   "source": [
    "len(tokenizer(test['text'][10])['input_ids'])"
   ]
  }
 ],
 "metadata": {
  "kernelspec": {
   "display_name": "Python 3 (ipykernel)",
   "language": "python",
   "name": "python3"
  },
  "language_info": {
   "codemirror_mode": {
    "name": "ipython",
    "version": 3
   },
   "file_extension": ".py",
   "mimetype": "text/x-python",
   "name": "python",
   "nbconvert_exporter": "python",
   "pygments_lexer": "ipython3",
   "version": "3.10.15"
  }
 },
 "nbformat": 4,
 "nbformat_minor": 5
}
