{
 "cells": [
  {
   "cell_type": "code",
   "execution_count": 1,
   "id": "51ba5a0f-984c-448d-95da-d6f87d191006",
   "metadata": {},
   "outputs": [],
   "source": [
    "import argparse\n",
    "import numpy as np\n",
    "\n",
    "from utils import *\n",
    "from prompts import *\n",
    "from tqdm import tqdm\n",
    "from itertools import product\n",
    "from openai import OpenAI\n",
    "from os import path, makedirs\n",
    "from datasets import load_dataset\n",
    "\n",
    "def evaluate_gpt_4o_series(data, client, model):    \n",
    "    model_outputs = []            \n",
    "    for i in tqdm(range(len(data))):\n",
    "        response = client.chat.completions.create(\n",
    "            model=model,\n",
    "            messages=[\n",
    "                {\"role\": \"user\", \"content\": data['text'][i]},\n",
    "            ],\n",
    "            temperature=0,\n",
    "            max_tokens=10,\n",
    "            top_p=1\n",
    "        )\n",
    "        model_outputs.append(response.choices[0].message.content)\n",
    "    return model_outputs"
   ]
  },
  {
   "cell_type": "code",
   "execution_count": 2,
   "id": "32ce60fb-21f7-4543-bbe6-4414f5635e2f",
   "metadata": {},
   "outputs": [],
   "source": [
    "#-------------------\n",
    "# parameters\n",
    "#-------------------    \n",
    "parser = argparse.ArgumentParser()\n",
    "parser.add_argument('--model_id', type=str, default='4o_mini')\n",
    "parser.add_argument('--dataset', type=str, default='beanham/spatial_join_dataset')\n",
    "parser.add_argument('--key', type=str, default='openaikey')\n",
    "args = parser.parse_args(args=[])\n",
    "args.save_path=f'inference_results/base/{args.model_id}_sc/'"
   ]
  },
  {
   "cell_type": "code",
   "execution_count": 3,
   "id": "6758d625-f8cb-41f4-abc3-ab3ea8fbf95d",
   "metadata": {},
   "outputs": [],
   "source": [
    "def formatting_prompts_func(example):\n",
    "    output = \"\"\n",
    "    if 'value_angle' in config:\n",
    "        input = \"Sidewalk: \"+str(example['sidewalk'])+\"\\nRoad: \"+str(example['road'])+\\\n",
    "                \"\\nmin_angle: \"+str(example['min_angle'])\n",
    "    elif 'value_distance' in config:\n",
    "        input = \"Sidewalk: \"+str(example['sidewalk'])+\"\\nRoad: \"+str(example['road'])+\\\n",
    "                \"\\nmin_distance: \"+str(example['euc_dist'])    \n",
    "    elif 'value_comb' in config:\n",
    "        input = \"Sidewalk: \"+str(example['sidewalk'])+\"\\nRoad: \"+str(example['road'])+\\\n",
    "                \"\\nmin_angle: \"+str(example['min_angle'])+\"\\nmin_distance: \"+str(example['euc_dist'])        \n",
    "    else:\n",
    "        input = \"Sidewalk: \"+str(example['sidewalk'])+\"\\nRoad: \"+str(example['road'])\n",
    "    text = base_alpaca_prompt.format(base_instruction, input, output)\n",
    "    return { \"text\" : text}"
   ]
  },
  {
   "cell_type": "code",
   "execution_count": 10,
   "id": "c6252352-670b-41b2-a046-b1b1fa467e44",
   "metadata": {},
   "outputs": [],
   "source": [
    "args.model_repo = MODEL_REPOS[args.model_id]\n",
    "client = OpenAI(api_key=\"\")\n",
    "data = load_dataset(args.dataset)\n",
    "config=\"zero_shot_with_heur_value_angle\"\n",
    "base_instruction=INSTRUCTIONS[config]\n",
    "test = data['test'].map(formatting_prompts_func)\n",
    "critique=\"\\n\\n### Review: \\nPlease review and find if there are any problems with your response. Spebcifially, check if min_angle supports the parallelism condition.\"\n",
    "improve=\"\\n\\n### Improve: \\nBased on your review, please improve your response. \\n\\n### Response: \""
   ]
  },
  {
   "cell_type": "code",
   "execution_count": 11,
   "id": "8cc6a228-c877-422c-96e0-0d0639a34e7d",
   "metadata": {},
   "outputs": [
    {
     "data": {
      "text/plain": [
       "array([ 27,  37,  66,  82,  96, 125, 165, 186, 193, 197])"
      ]
     },
     "execution_count": 11,
     "metadata": {},
     "output_type": "execute_result"
    }
   ],
   "source": [
    "current=np.load(f'inference_results/base/4o_mini/4o_mini_{config}.npy')\n",
    "current=np.array([int(i) for i in current])\n",
    "np.where(current!=np.array(test['label']))[0][:10]"
   ]
  },
  {
   "cell_type": "code",
   "execution_count": 21,
   "id": "5c89bbf4-d7d0-4526-85e6-c6f52deb5ef9",
   "metadata": {
    "scrolled": true
   },
   "outputs": [
    {
     "name": "stdout",
     "output_type": "stream",
     "text": [
      "### Instruction:\n",
      "You are a helpful geospatial analysis assistant. I will provide you with a pair of (sidewalk, road) geometries in GeoJSON format, along with a key statistics:\n",
      "\n",
      "- min_angle: The minimum angle (in degrees) between the sidewalk and the road.\n",
      "\n",
      "Your task is to determine whether the sidewalk runs alongside the road by evaluating the following condition:\n",
      "\n",
      "- Parallelism: The sidewalk should be approximately parallel to the road, with only a small angle difference between their orientations. The min_angle value provides a measure of this alignment.\n",
      "\n",
      "If the condition is satisfied, return 1. Otherwise, return 0. No explaination is needed.\n",
      "\n",
      "### Input:\n",
      "Sidewalk: {'coordinates': [[-122.14894109999999, 47.615990700000005], [-122.14894500000001, 47.6160031], [-122.14894940000002, 47.6160102], [-122.1489589, 47.6160192], [-122.14897, 47.61602679999999], [-122.14898400000001, 47.61603309999998], [-122.14899680000002, 47.6160373], [-122.1490118, 47.616037999999996], [-122.1490319, 47.6160388], [-122.1491137, 47.61603839999999]], 'type': 'LineString'}\n",
      "Road: {'coordinates': [[-122.1491796, 47.6157419], [-122.1491897, 47.6160024], [-122.1491894, 47.6160358]], 'type': 'LineString'}\n",
      "min_angle: 15.238866212783577\n",
      "\n",
      "### Response:\n",
      "\n"
     ]
    }
   ],
   "source": [
    "index=37\n",
    "print(test['text'][index])"
   ]
  },
  {
   "cell_type": "code",
   "execution_count": 22,
   "id": "fce224b5-978e-451a-9569-83e7b04c2f0f",
   "metadata": {},
   "outputs": [],
   "source": [
    "initial_response = client.chat.completions.create(\n",
    "     model=args.model_repo,\n",
    "     messages=[\n",
    "         {\"role\": \"user\", \"content\": test['text'][index]},\n",
    "     ],\n",
    "     temperature=0,\n",
    "     max_tokens=10,\n",
    "     top_p=1,\n",
    ")"
   ]
  },
  {
   "cell_type": "code",
   "execution_count": 24,
   "id": "1f9c2f78-2998-461a-89c4-0bcb267b75cc",
   "metadata": {},
   "outputs": [
    {
     "data": {
      "text/plain": [
       "('1', 0)"
      ]
     },
     "execution_count": 24,
     "metadata": {},
     "output_type": "execute_result"
    }
   ],
   "source": [
    "initial_response.choices[0].message.content, test['label'][index]"
   ]
  },
  {
   "cell_type": "code",
   "execution_count": 25,
   "id": "623ceaa4-5b2a-40fb-a58c-cd6cbf6bb5a0",
   "metadata": {},
   "outputs": [
    {
     "name": "stdout",
     "output_type": "stream",
     "text": [
      "### Instruction:\n",
      "You are a helpful geospatial analysis assistant. I will provide you with a pair of (sidewalk, road) geometries in GeoJSON format, along with a key statistics:\n",
      "\n",
      "- min_angle: The minimum angle (in degrees) between the sidewalk and the road.\n",
      "\n",
      "Your task is to determine whether the sidewalk runs alongside the road by evaluating the following condition:\n",
      "\n",
      "- Parallelism: The sidewalk should be approximately parallel to the road, with only a small angle difference between their orientations. The min_angle value provides a measure of this alignment.\n",
      "\n",
      "If the condition is satisfied, return 1. Otherwise, return 0. No explaination is needed.\n",
      "\n",
      "### Input:\n",
      "Sidewalk: {'coordinates': [[-122.14894109999999, 47.615990700000005], [-122.14894500000001, 47.6160031], [-122.14894940000002, 47.6160102], [-122.1489589, 47.6160192], [-122.14897, 47.61602679999999], [-122.14898400000001, 47.61603309999998], [-122.14899680000002, 47.6160373], [-122.1490118, 47.616037999999996], [-122.1490319, 47.6160388], [-122.1491137, 47.61603839999999]], 'type': 'LineString'}\n",
      "Road: {'coordinates': [[-122.1491796, 47.6157419], [-122.1491897, 47.6160024], [-122.1491894, 47.6160358]], 'type': 'LineString'}\n",
      "min_angle: 15.238866212783577\n",
      "\n",
      "### Response:1\n",
      "\n",
      "### Review: \n",
      "Please review and find if there are any problems with your response. Spebcifially, check if min_angle supports the parallelism condition.\n"
     ]
    }
   ],
   "source": [
    "new_input=test['text'][index].strip()+initial_response.choices[0].message.content+critique\n",
    "print(new_input)"
   ]
  },
  {
   "cell_type": "code",
   "execution_count": 26,
   "id": "e9c06f5a-a25f-481c-803b-bcbc32365292",
   "metadata": {},
   "outputs": [
    {
     "data": {
      "text/plain": [
       "'The provided min_angle is 15.238866212783577 degrees. Since this angle is greater than a typical threshold for parallelism (often around 10 degrees), it indicates that the sidewalk is not approximately parallel to the road. Therefore, the correct response should be:\\n\\n### Response: 0'"
      ]
     },
     "execution_count": 26,
     "metadata": {},
     "output_type": "execute_result"
    }
   ],
   "source": [
    "critique_response = client.chat.completions.create(\n",
    "     model=args.model_repo,\n",
    "     messages=[\n",
    "         {\"role\": \"user\", \"content\": new_input},\n",
    "     ],\n",
    "     temperature=0,\n",
    "     max_tokens=100,\n",
    "     top_p=1\n",
    " )\n",
    "critique_response.choices[0].message.content"
   ]
  },
  {
   "cell_type": "code",
   "execution_count": 27,
   "id": "8a38e50e-eb15-43f1-b329-d8f6f46a61c5",
   "metadata": {
    "scrolled": true
   },
   "outputs": [
    {
     "name": "stdout",
     "output_type": "stream",
     "text": [
      "### Instruction:\n",
      "You are a helpful geospatial analysis assistant. I will provide you with a pair of (sidewalk, road) geometries in GeoJSON format, along with a key statistics:\n",
      "\n",
      "- min_angle: The minimum angle (in degrees) between the sidewalk and the road.\n",
      "\n",
      "Your task is to determine whether the sidewalk runs alongside the road by evaluating the following condition:\n",
      "\n",
      "- Parallelism: The sidewalk should be approximately parallel to the road, with only a small angle difference between their orientations. The min_angle value provides a measure of this alignment.\n",
      "\n",
      "If the condition is satisfied, return 1. Otherwise, return 0. No explaination is needed.\n",
      "\n",
      "### Input:\n",
      "Sidewalk: {'coordinates': [[-122.14894109999999, 47.615990700000005], [-122.14894500000001, 47.6160031], [-122.14894940000002, 47.6160102], [-122.1489589, 47.6160192], [-122.14897, 47.61602679999999], [-122.14898400000001, 47.61603309999998], [-122.14899680000002, 47.6160373], [-122.1490118, 47.616037999999996], [-122.1490319, 47.6160388], [-122.1491137, 47.61603839999999]], 'type': 'LineString'}\n",
      "Road: {'coordinates': [[-122.1491796, 47.6157419], [-122.1491897, 47.6160024], [-122.1491894, 47.6160358]], 'type': 'LineString'}\n",
      "min_angle: 15.238866212783577\n",
      "\n",
      "### Response:1\n",
      "\n",
      "### Review: \n",
      "Please review and find if there are any problems with your response. Spebcifially, check if min_angle supports the parallelism condition.\n",
      "\n",
      "The provided min_angle is 15.238866212783577 degrees. Since this angle is greater than a typical threshold for parallelism (often around 10 degrees), it indicates that the sidewalk is not approximately parallel to the road. Therefore, the correct response should be:\n",
      "\n",
      "### Response: 0\n",
      "\n",
      "### Improve: \n",
      "Based on your review, please improve your response. \n",
      "\n",
      "### Response: \n"
     ]
    }
   ],
   "source": [
    "new_input=test['text'][index].strip()+initial_response.choices[0].message.content+critique+'\\n\\n'+critique_response.choices[0].message.content+improve\n",
    "print(new_input)"
   ]
  },
  {
   "cell_type": "code",
   "execution_count": 28,
   "id": "bc111501-64bf-48f2-97a4-f14bbb0ff7a3",
   "metadata": {},
   "outputs": [
    {
     "data": {
      "text/plain": [
       "'0'"
      ]
     },
     "execution_count": 28,
     "metadata": {},
     "output_type": "execute_result"
    }
   ],
   "source": [
    "improve_response = client.chat.completions.create(\n",
    "     model=args.model_repo,\n",
    "     messages=[\n",
    "         {\"role\": \"user\", \"content\": new_input},\n",
    "     ],\n",
    "     temperature=0,\n",
    "     max_tokens=100,\n",
    "     top_p=1\n",
    " )\n",
    "improve_response.choices[0].message.content"
   ]
  }
 ],
 "metadata": {
  "kernelspec": {
   "display_name": "Python 3 (ipykernel)",
   "language": "python",
   "name": "python3"
  },
  "language_info": {
   "codemirror_mode": {
    "name": "ipython",
    "version": 3
   },
   "file_extension": ".py",
   "mimetype": "text/x-python",
   "name": "python",
   "nbconvert_exporter": "python",
   "pygments_lexer": "ipython3",
   "version": "3.10.15"
  }
 },
 "nbformat": 4,
 "nbformat_minor": 5
}
