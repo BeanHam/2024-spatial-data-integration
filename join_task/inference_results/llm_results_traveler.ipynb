{
 "cells": [
  {
   "cell_type": "code",
   "execution_count": 14,
   "id": "b251b8fd-08df-44ff-9b6a-111371c5cc21",
   "metadata": {},
   "outputs": [],
   "source": [
    "import string\n",
    "import numpy as np\n",
    "import pandas as pd\n",
    "from itertools import product\n",
    "from collections import Counter\n",
    "from datasets import load_dataset\n",
    "from sklearn.metrics import accuracy_score, confusion_matrix, f1_score"
   ]
  },
  {
   "cell_type": "code",
   "execution_count": 15,
   "id": "743b804f-286b-401f-a8aa-bc00c305a40f",
   "metadata": {},
   "outputs": [],
   "source": [
    "def metric_calculation(pred, gt):    \n",
    "    acc=accuracy_score(gt, pred)\n",
    "    f1=f1_score(gt, pred, average='macro')\n",
    "    confusion=confusion_matrix(gt, pred)\n",
    "    fpr=confusion[0,1]/len(gt) ## predict to be 1; actual 0\n",
    "    fnr=confusion[1,0]/len(gt) ## predict to be 0; actual 1\n",
    "    return acc, f1, fpr, fnr"
   ]
  },
  {
   "cell_type": "code",
   "execution_count": 16,
   "id": "d62c97ad-26b0-43f3-99aa-8a1692a767e5",
   "metadata": {},
   "outputs": [],
   "source": [
    "def post_processing(pred, model):\n",
    "\n",
    "    if model=='mistral':\n",
    "        new_pred = [p.replace('</s>', '').split()[0] for p in pred]\n",
    "        new_pred = np.array([int(float(i)) if i in ['0', '0.0', '1', '1.0'] else 2 for i in new_pred])\n",
    "    else:\n",
    "        new_pred=[]        \n",
    "        for p in pred:\n",
    "            if (p.split()[0]=='0') or (p.split()[0]=='1'):\n",
    "                new_pred.append(p.split()[0])\n",
    "            else:\n",
    "                p = p.lower().replace('</s>', '').replace('boxed', '')\n",
    "                splits=[s for s in p.lower().split('\\n') if s != '']\n",
    "                p = ' '.join(splits[-3:]).translate(str.maketrans('', '', string.punctuation))                \n",
    "                if 'response' in p:\n",
    "                    try: new_pred.append([t for t in p.split('response')[-1].split() if t.isnumeric()][0])\n",
    "                    except: new_pred.append(2)\n",
    "                elif 'output' in p:\n",
    "                    try: new_pred.append([t for t in p.split('output')[-1].split() if t.isnumeric()][0])\n",
    "                    except: new_pred.append(2)\n",
    "                elif 'return' in p:\n",
    "                    try: new_pred.append([t for t in p.split('return')[-1].split() if t.isnumeric()][0])\n",
    "                    except: new_pred.append(2)\n",
    "                elif 'result' in p:\n",
    "                    try: new_pred.append([t for t in p.split('result')[-1].split() if t.isnumeric()][0])\n",
    "                    except: new_pred.append(2)\n",
    "                elif 'plaintext' in p:\n",
    "                    try: new_pred.append([t for t in p.split('plaintext')[-1].split() if t.isnumeric()][0])\n",
    "                    except: new_pred.append(2)\n",
    "                elif 'json' in p:\n",
    "                    try: new_pred.append([t for t in p.split('json')[-1].split() if t.isnumeric()][0])\n",
    "                    except: new_pred.append(2)\n",
    "                else:\n",
    "                    try: new_pred.append(p.split()[0])\n",
    "                    except:new_pred.append(2)\n",
    "        new_pred = np.array([int(float(i)) if i in ['0', '0.0', '1', '1.0'] else 2 for i in new_pred])\n",
    "    return new_pred"
   ]
  },
  {
   "cell_type": "code",
   "execution_count": 17,
   "id": "730fe93f-1c13-48d6-983c-0cf3032cf7a3",
   "metadata": {},
   "outputs": [],
   "source": [
    "ds = load_dataset(\"beanham/spatial_join_dataset\")\n",
    "test=ds['test']\n",
    "gt=np.array(test['label'])[:50]\n",
    "configs = [\n",
    "    \"zero_shot_no_heur_traveler\",\n",
    "    \"zero_shot_with_heur_value_all_traveler\",\n",
    "    \"few_shot_no_heur_traveler\",\n",
    "    \"few_shot_with_heur_value_all_traveler\",\n",
    "]"
   ]
  },
  {
   "cell_type": "code",
   "execution_count": 18,
   "id": "206244fd-7b1c-4cc6-84f3-5c8aecf4943c",
   "metadata": {},
   "outputs": [
    {
     "name": "stdout",
     "output_type": "stream",
     "text": [
      "Model: 4o_mini...\n",
      "Model: 4o...\n"
     ]
    },
    {
     "data": {
      "text/html": [
       "<div>\n",
       "<style scoped>\n",
       "    .dataframe tbody tr th:only-of-type {\n",
       "        vertical-align: middle;\n",
       "    }\n",
       "\n",
       "    .dataframe tbody tr th {\n",
       "        vertical-align: top;\n",
       "    }\n",
       "\n",
       "    .dataframe thead th {\n",
       "        text-align: right;\n",
       "    }\n",
       "</style>\n",
       "<table border=\"1\" class=\"dataframe\">\n",
       "  <thead>\n",
       "    <tr style=\"text-align: right;\">\n",
       "      <th></th>\n",
       "      <th>config</th>\n",
       "      <th>model</th>\n",
       "      <th>acc</th>\n",
       "      <th>f1</th>\n",
       "    </tr>\n",
       "  </thead>\n",
       "  <tbody>\n",
       "    <tr>\n",
       "      <th>0</th>\n",
       "      <td>zero_shot_no_heur_traveler</td>\n",
       "      <td>4o_mini</td>\n",
       "      <td>0.68</td>\n",
       "      <td>0.457995</td>\n",
       "    </tr>\n",
       "    <tr>\n",
       "      <th>1</th>\n",
       "      <td>zero_shot_with_heur_value_all_traveler</td>\n",
       "      <td>4o_mini</td>\n",
       "      <td>0.62</td>\n",
       "      <td>0.336209</td>\n",
       "    </tr>\n",
       "    <tr>\n",
       "      <th>2</th>\n",
       "      <td>few_shot_no_heur_traveler</td>\n",
       "      <td>4o_mini</td>\n",
       "      <td>0.64</td>\n",
       "      <td>0.475524</td>\n",
       "    </tr>\n",
       "    <tr>\n",
       "      <th>3</th>\n",
       "      <td>few_shot_with_heur_value_all_traveler</td>\n",
       "      <td>4o_mini</td>\n",
       "      <td>0.80</td>\n",
       "      <td>0.687500</td>\n",
       "    </tr>\n",
       "    <tr>\n",
       "      <th>4</th>\n",
       "      <td>zero_shot_no_heur_traveler</td>\n",
       "      <td>4o</td>\n",
       "      <td>0.72</td>\n",
       "      <td>0.479167</td>\n",
       "    </tr>\n",
       "    <tr>\n",
       "      <th>5</th>\n",
       "      <td>zero_shot_with_heur_value_all_traveler</td>\n",
       "      <td>4o</td>\n",
       "      <td>0.76</td>\n",
       "      <td>0.406470</td>\n",
       "    </tr>\n",
       "    <tr>\n",
       "      <th>6</th>\n",
       "      <td>few_shot_no_heur_traveler</td>\n",
       "      <td>4o</td>\n",
       "      <td>0.68</td>\n",
       "      <td>0.457995</td>\n",
       "    </tr>\n",
       "    <tr>\n",
       "      <th>7</th>\n",
       "      <td>few_shot_with_heur_value_all_traveler</td>\n",
       "      <td>4o</td>\n",
       "      <td>0.74</td>\n",
       "      <td>0.539334</td>\n",
       "    </tr>\n",
       "  </tbody>\n",
       "</table>\n",
       "</div>"
      ],
      "text/plain": [
       "                                   config    model   acc        f1\n",
       "0              zero_shot_no_heur_traveler  4o_mini  0.68  0.457995\n",
       "1  zero_shot_with_heur_value_all_traveler  4o_mini  0.62  0.336209\n",
       "2               few_shot_no_heur_traveler  4o_mini  0.64  0.475524\n",
       "3   few_shot_with_heur_value_all_traveler  4o_mini  0.80  0.687500\n",
       "4              zero_shot_no_heur_traveler       4o  0.72  0.479167\n",
       "5  zero_shot_with_heur_value_all_traveler       4o  0.76  0.406470\n",
       "6               few_shot_no_heur_traveler       4o  0.68  0.457995\n",
       "7   few_shot_with_heur_value_all_traveler       4o  0.74  0.539334"
      ]
     },
     "execution_count": 18,
     "metadata": {},
     "output_type": "execute_result"
    }
   ],
   "source": [
    "results=[]\n",
    "models=['4o_mini', '4o']\n",
    "for model in models:\n",
    "    print(f'Model: {model}...')\n",
    "    for config in configs:\n",
    "        pred=np.load(f'base/{model}_traveler/{model}_{config}.npy')[:50]\n",
    "        if model=='deepseek':\n",
    "            pred=[i[0] for i in pred]\n",
    "        pred=post_processing(pred, model)\n",
    "        metrics=metric_calculation(pred, gt)\n",
    "        results.append([config, model, round(metrics[0],3), metrics[1]])\n",
    "results=pd.DataFrame(results, columns=['config', 'model', 'acc', 'f1'])\n",
    "results"
   ]
  },
  {
   "cell_type": "code",
   "execution_count": 19,
   "id": "c17ecd5d-1172-4473-a0b2-017c1f5217d1",
   "metadata": {},
   "outputs": [],
   "source": [
    "configs = [\n",
    "    \"zero_shot_no_heur_traveler\",\n",
    "    \"zero_shot_with_heur_value_all_traveler\",\n",
    "    \"few_shot_no_heur_traveler\",\n",
    "    \"few_shot_with_heur_value_all_traveler\",\n",
    "]"
   ]
  },
  {
   "cell_type": "markdown",
   "id": "f0aabcaf-a035-4b2a-8455-2a3a70e4c6a7",
   "metadata": {},
   "source": [
    "### Analysis"
   ]
  },
  {
   "cell_type": "code",
   "execution_count": 20,
   "id": "ef009c22-01d4-476d-8c6d-e567544f8a95",
   "metadata": {},
   "outputs": [
    {
     "data": {
      "text/plain": [
       "(32, 18)"
      ]
     },
     "execution_count": 20,
     "metadata": {},
     "output_type": "execute_result"
    }
   ],
   "source": [
    "model='4o_mini'\n",
    "config='few_shot_no_heur_traveler'\n",
    "pred=np.load(f'base/{model}_traveler/{model}_{config}.npy')[:50]\n",
    "if model=='deepseek': \n",
    "    output=[i[0] for i in pred]\n",
    "    reasoning=[i[1] for i in pred]\n",
    "    proc_pred=post_processing(output, model)\n",
    "else:\n",
    "    proc_pred=post_processing(pred, model)\n",
    "right=np.where(proc_pred==gt)[0]\n",
    "wrong=np.where(proc_pred!=gt)[0]\n",
    "len(right), len(wrong)"
   ]
  },
  {
   "cell_type": "code",
   "execution_count": 22,
   "id": "0ef24ab1-a942-4dfd-a751-8169fb230eab",
   "metadata": {},
   "outputs": [
    {
     "name": "stdout",
     "output_type": "stream",
     "text": [
      "To determine whether the sidewalk runs alongside the road, we need to analyze the coordinates of both the sidewalk and the road.\n",
      "\n",
      "1. **Extract Coordinates**:\n",
      "   - Sidewalk coordinates: \n",
      "     ```\n",
      "     [[-122.2017203, 47.6112977], \n",
      "      [-122.2017112, 47.61130719999999], \n",
      "      [-122.2017023, 47.611323799999994], \n",
      "      [-122.20169890000001, 47.61134139999999], \n",
      "      [-122.20169890000001, 47.6113726], \n",
      "      [-122.2017066, 47.6118441], \n",
      "      [-122.20170970000001, 47.6118763], \n",
      "      [-122.2017135, 47.611885999999984], \n",
      "      [-122.2017215, 47.61189660000001], \n",
      "      [-122.2017359, 47.6119085], \n",
      "      [-122.20174929999999, 47.6119183]]\n",
      "     ```\n",
      "   - Road coordinates: \n",
      "     ```\n",
      "     [[-122.2016161, 47.6114907], \n",
      "      [-122.2016188, 47.6113494]]\n",
      "     ```\n",
      "\n",
      "2. **Visualize the Geometry**:\n",
      "   - The sidewalk is a series of points that form a line, and the road is also a line formed by its coordinates.\n",
      "   - The sidewalk appears to be a longer line, while the road is a shorter segment.\n",
      "\n",
      "3. **Determine Proximity**:\n",
      "   - We need to check if the sidewalk is close enough to the road to be considered \"alongside.\"\n",
      "   - The road starts at `[-122.2016161, 47.6114907]` and ends at `[-122.2016188, 47.6113494]`.\n",
      "   - The sidewalk starts at `[-122.2017203, 47.6112977]` and has points that extend further along the y-axis.\n",
      "\n",
      "4. **Calculate Distances**:\n",
      "   - The closest point on the road to the sidewalk can be estimated by checking the distance from the sidewalk points to the road segment.\n",
      "   - The sidewalk's starting point `[-122.2017203, 47.6112977]` is approximately `0.1` degrees longitude away from the road's starting point, which is significant.\n",
      "\n",
      "5. **Conclusion**:\n",
      "   - Given the coordinates, the sidewalk does not appear to be close enough to the road to be considered as running alongside it. The sidewalk is further away from the road than what would typically be considered \"alongside.\"\n",
      "\n",
      "### Final Response:\n",
      "0\n"
     ]
    }
   ],
   "source": [
    "index=0\n",
    "print(pred[wrong[index]])"
   ]
  }
 ],
 "metadata": {
  "kernelspec": {
   "display_name": "Python 3 (ipykernel)",
   "language": "python",
   "name": "python3"
  },
  "language_info": {
   "codemirror_mode": {
    "name": "ipython",
    "version": 3
   },
   "file_extension": ".py",
   "mimetype": "text/x-python",
   "name": "python",
   "nbconvert_exporter": "python",
   "pygments_lexer": "ipython3",
   "version": "3.10.15"
  }
 },
 "nbformat": 4,
 "nbformat_minor": 5
}
