{
 "cells": [
  {
   "cell_type": "code",
   "execution_count": 1,
   "id": "6d37fe41",
   "metadata": {},
   "outputs": [],
   "source": [
    "import numpy as np\n",
    "import pandas as pd\n",
    "from itertools import product\n",
    "from collections import Counter\n",
    "from datasets import load_dataset\n",
    "from sklearn.metrics import accuracy_score, confusion_matrix, f1_score"
   ]
  },
  {
   "cell_type": "code",
   "execution_count": 2,
   "id": "9a145510-b475-4e84-908a-f0fdae6d4df1",
   "metadata": {},
   "outputs": [],
   "source": [
    "def metric_calculation(pred, gt):    \n",
    "    acc=accuracy_score(gt, pred)\n",
    "    f1=f1_score(gt, pred, average='macro')\n",
    "    confusion=confusion_matrix(gt, pred)\n",
    "    fpr=confusion[0,1]/len(gt) ## predict to be 1; actual 0\n",
    "    fnr=confusion[1,0]/len(gt) ## predict to be 0; actual 1\n",
    "    return acc, f1, fpr, fnr\n",
    "    \n",
    "def post_processing(pred):\n",
    "    new_pred=[]\n",
    "    for i in pred:\n",
    "        i=i.lower()\n",
    "        if 'response' in i:\n",
    "            try: new_pred.append(i.split('response')[1].split()[1].replace('</s>', ''))\n",
    "            except: new_pred.append(2)\n",
    "        elif 'output' in i:\n",
    "            try: new_pred.append(i.split('output')[1].split()[1].replace('</s>', ''))\n",
    "            except: new_pred.append(2)\n",
    "        else:\n",
    "            try: new_pred.append(i.split()[0].replace('</s>', ''))\n",
    "            except:new_pred.append(2)\n",
    "    new_pred = np.array([int(float(i)) if i in ['0', '0.0', '1', '1.0'] else 2 for i in new_pred])\n",
    "    return new_pred"
   ]
  },
  {
   "cell_type": "code",
   "execution_count": 3,
   "id": "75203cf5-8684-4f5c-a3f9-a2f6428c5ae9",
   "metadata": {},
   "outputs": [],
   "source": [
    "ds = load_dataset(\"beanham/spatial_join_dataset\")\n",
    "test=ds['test']\n",
    "gt=np.array(test['label'])\n",
    "configs = [\n",
    "    'zero_shot_no_heur',    \n",
    "    'zero_shot_with_heur_hint_angle',\n",
    "    'zero_shot_with_heur_hint_distance',\n",
    "    'zero_shot_with_heur_hint_area',\n",
    "    'zero_shot_with_heur_hint_angle_distance',\n",
    "    'zero_shot_with_heur_hint_angle_area',\n",
    "    'zero_shot_with_heur_hint_distance_area',\n",
    "    'zero_shot_with_heur_hint_all',    \n",
    "    'zero_shot_with_heur_value_angle',\n",
    "    'zero_shot_with_heur_value_distance',\n",
    "    'zero_shot_with_heur_value_area',\n",
    "    'zero_shot_with_heur_value_angle_distance',\n",
    "    'zero_shot_with_heur_value_angle_area',\n",
    "    'zero_shot_with_heur_value_distance_area',\n",
    "    'zero_shot_with_heur_value_all',    \n",
    "    'few_shot_no_heur',    \n",
    "    'few_shot_with_heur_hint_angle',\n",
    "    'few_shot_with_heur_hint_distance',\n",
    "    'few_shot_with_heur_hint_area',\n",
    "    'few_shot_with_heur_hint_angle_distance',\n",
    "    'few_shot_with_heur_hint_angle_area',\n",
    "    'few_shot_with_heur_hint_distance_area',\n",
    "    'few_shot_with_heur_hint_all',    \n",
    "    'few_shot_with_heur_value_angle',\n",
    "    'few_shot_with_heur_value_distance',\n",
    "    'few_shot_with_heur_value_area',\n",
    "    'few_shot_with_heur_value_angle_distance',\n",
    "    'few_shot_with_heur_value_angle_area',\n",
    "    'few_shot_with_heur_value_distance_area',\n",
    "    'few_shot_with_heur_value_all',\n",
    "]\n",
    "## evaluate on a subset\n",
    "np.random.seed(100)\n",
    "index=np.random.randint(0, 3069, 1000)"
   ]
  },
  {
   "cell_type": "markdown",
   "id": "203242a5-3513-467c-98d7-f027821068ce",
   "metadata": {},
   "source": [
    "### LLMs"
   ]
  },
  {
   "cell_type": "code",
   "execution_count": 4,
   "id": "f94a8d8a-cb9a-465f-af87-ab69e68b526b",
   "metadata": {},
   "outputs": [
    {
     "name": "stdout",
     "output_type": "stream",
     "text": [
      "Model: llama3...\n",
      "Model: 4o_mini...\n",
      "Model: qwen_plus...\n",
      "Model: qwen_max...\n",
      "Model: 4o...\n"
     ]
    }
   ],
   "source": [
    "results=[]\n",
    "models=['llama3', '4o_mini', 'qwen_plus', 'qwen_max','4o']\n",
    "for model in models:\n",
    "    print(f'Model: {model}...')\n",
    "    for config in configs:\n",
    "        pred=np.load(f'base/{model}/{model}_{config}.npy')\n",
    "        pred=post_processing(pred)        \n",
    "        if len(pred)==1000:\n",
    "            metrics=metric_calculation(pred, gt)\n",
    "        else:\n",
    "            metrics=metric_calculation(pred[index], gt)\n",
    "        results.append([config, model, metrics[0], metrics[1]])\n",
    "results=pd.DataFrame(results, columns=['config', 'model', 'acc', 'f1'])"
   ]
  }
 ],
 "metadata": {
  "kernelspec": {
   "display_name": "Python 3 (ipykernel)",
   "language": "python",
   "name": "python3"
  },
  "language_info": {
   "codemirror_mode": {
    "name": "ipython",
    "version": 3
   },
   "file_extension": ".py",
   "mimetype": "text/x-python",
   "name": "python",
   "nbconvert_exporter": "python",
   "pygments_lexer": "ipython3",
   "version": "3.10.15"
  }
 },
 "nbformat": 4,
 "nbformat_minor": 5
}
