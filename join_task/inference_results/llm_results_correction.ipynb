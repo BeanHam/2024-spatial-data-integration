{
 "cells": [
  {
   "cell_type": "code",
   "execution_count": 1,
   "id": "6d37fe41",
   "metadata": {},
   "outputs": [],
   "source": [
    "import numpy as np\n",
    "from itertools import product\n",
    "from collections import Counter\n",
    "from datasets import load_dataset\n",
    "from sklearn.metrics import accuracy_score, confusion_matrix, f1_score"
   ]
  },
  {
   "cell_type": "code",
   "execution_count": 2,
   "id": "ff555aab-6b7c-423c-b022-bfe8b29d0a99",
   "metadata": {},
   "outputs": [],
   "source": [
    "def metric_calculation(pred, gt):    \n",
    "    acc=accuracy_score(gt, pred)\n",
    "    f1=f1_score(gt, pred, average='macro')\n",
    "    confusion=confusion_matrix(gt, pred)\n",
    "    fpr=confusion[0,1]/len(gt) ## predict to be 1; actual 0\n",
    "    fnr=confusion[1,0]/len(gt) ## predict to be 0; actual 1\n",
    "    return acc, f1, fpr, fnr"
   ]
  },
  {
   "cell_type": "code",
   "execution_count": 3,
   "id": "9a145510-b475-4e84-908a-f0fdae6d4df1",
   "metadata": {},
   "outputs": [],
   "source": [
    "def post_processing(pred):\n",
    "    new_pred=[]\n",
    "    for i in pred:\n",
    "        i=i.lower()\n",
    "        if 'response' in i:\n",
    "            try: new_pred.append(i.split('response')[1].split()[1].replace('</s>', ''))\n",
    "            except: new_pred.append(2)\n",
    "        elif 'output' in i:\n",
    "            try: new_pred.append(i.split('output')[1].split()[1].replace('</s>', ''))\n",
    "            except: new_pred.append(2)\n",
    "        else:\n",
    "            try: new_pred.append(i.split()[0].replace('</s>', ''))\n",
    "            except:new_pred.append(2)\n",
    "    new_pred = np.array([int(float(i)) if i in ['0', '0.0', '1', '1.0'] else 2 for i in new_pred])\n",
    "    return new_pred"
   ]
  },
  {
   "cell_type": "code",
   "execution_count": 4,
   "id": "75203cf5-8684-4f5c-a3f9-a2f6428c5ae9",
   "metadata": {},
   "outputs": [],
   "source": [
    "ds = load_dataset(\"beanham/spatial_join_dataset\")\n",
    "test=ds['test']\n",
    "gt=np.array(test['label'])\n",
    "## evaluate on a subset\n",
    "np.random.seed(100)\n",
    "index=np.random.randint(0, 3069, 1000)"
   ]
  },
  {
   "cell_type": "markdown",
   "id": "0cedb7f0-d34b-48ad-968f-39d7c9c3a064",
   "metadata": {},
   "source": [
    "### 4o_mini"
   ]
  },
  {
   "cell_type": "code",
   "execution_count": 37,
   "id": "ccc6f3ce-a487-4ef3-96be-3adc61cd5e6f",
   "metadata": {},
   "outputs": [],
   "source": [
    "reviews=np.load('base/4o_mini_correction/4o_mini_degree_1_few_shot_with_heur_value_all_correction_reviews.npy')\n",
    "outputs=np.load('base/4o_mini_correction/4o_mini_degree_1_few_shot_with_heur_value_all_correction.npy')\n",
    "new_outputs=post_processing(outputs)\n",
    "wrong_index=np.where(new_outputs!=gt)[0]"
   ]
  },
  {
   "cell_type": "code",
   "execution_count": 38,
   "id": "3bc3f5c4-c33e-4dab-a1d3-14bfdaf23f02",
   "metadata": {},
   "outputs": [
    {
     "data": {
      "text/plain": [
       "\"The response provided is incorrect based on the conditions outlined for determining whether the sidewalk runs alongside the road. Let's evaluate the conditions:\\n\\n1. **Parallelism**: The min_angle is 0.045416253580953025 degrees, which indicates that the sidewalk and road are nearly parallel. This condition is satisfied.\\n\\n2. **Clearance**: The min_distance is 5.867581638586974 meters. This indicates that the sidewalk and road maintain a distance apart, which satisfies the clearance condition.\\n\\n3. **Overlap**: The max_area is 0.6352940789228652, which indicates a significant overlap in the 10-meter buffer area around both the sidewalk and the road. This condition is not satisfied, as the sidewalk and road should not have significant overlap in their buffers.\\n\\nSince the overlap condition is not satisfied, the correct response should be 0, indicating that the sidewalk does not run alongside the road. \\n\\nTherefore, the original response of 1 is incorrect\""
      ]
     },
     "execution_count": 38,
     "metadata": {},
     "output_type": "execute_result"
    }
   ],
   "source": [
    "reviews[wrong_index[1]]"
   ]
  },
  {
   "cell_type": "code",
   "execution_count": 32,
   "id": "5e6be69c-61f4-4c0b-ab93-6a61ba70893c",
   "metadata": {},
   "outputs": [],
   "source": [
    "reviews=np.load('base/qwen_correction/qwen_degree_1_few_shot_with_heur_value_all_correction_reviews.npy')\n",
    "outputs=np.load('base/qwen_correction/qwen_degree_1_few_shot_with_heur_value_all_correction.npy')\n",
    "new_outputs=post_processing(outputs)\n",
    "wrong_index=np.where(new_outputs!=gt)[0]"
   ]
  },
  {
   "cell_type": "code",
   "execution_count": 35,
   "id": "1f0aab5b-4a00-47fa-90b0-62410566e93c",
   "metadata": {},
   "outputs": [
    {
     "data": {
      "text/plain": [
       "\"Upon reviewing the given input and response, here's the breakdown:\\n\\n1. **Parallelism**:  \\n   - The `min_angle` is 0.22°, which indicates that the sidewalk and road are almost perfectly parallel. This satisfies the condition for parallelism.\\n\\n2. **Clearance**:  \\n   - The `min_distance` is approximately 8.37 meters. This value suggests there is sufficient clearance between the sidewalk and the road, satisfying the clearance condition.\\n\\n3. **Overlap**:  \\n   - The `max_area` is about 4.18%, which is relatively low. However, it still indicates some overlap within the 10-meter buffer zone around the sidewalk and road. While the overlap percentage is not very large, it meets the criteria for minimal allowable overlap in this context.\\n\\nBased on these evaluations:\\n- Parallelism is satisfied.\\n- Clearance is satisfied.\\n- Overlap, though minimal, is still present within acceptable limits.\\n\\nThus, the response of\""
      ]
     },
     "execution_count": 35,
     "metadata": {},
     "output_type": "execute_result"
    }
   ],
   "source": [
    "reviews[wrong_index[2]]"
   ]
  },
  {
   "cell_type": "code",
   "execution_count": 36,
   "id": "3c872e4e-7300-4aeb-be61-3a4e66c6d517",
   "metadata": {},
   "outputs": [
    {
     "data": {
      "text/plain": [
       "('1', 0)"
      ]
     },
     "execution_count": 36,
     "metadata": {},
     "output_type": "execute_result"
    }
   ],
   "source": [
    "outputs[wrong_index[2]], gt[wrong_index[2]]"
   ]
  },
  {
   "cell_type": "code",
   "execution_count": null,
   "id": "34ca3795-da33-4c10-9323-4dc97586086e",
   "metadata": {},
   "outputs": [],
   "source": []
  },
  {
   "cell_type": "code",
   "execution_count": 6,
   "id": "f5f430ea-5d16-4ea0-9210-3a6cbb083ad6",
   "metadata": {},
   "outputs": [
    {
     "name": "stdout",
     "output_type": "stream",
     "text": [
      "----------------------------------\n",
      "Threshold: 1...\n",
      "Heuristics:  0.867\n",
      "Zero-Shot-All:    0.912\n",
      "Few-Shot-All:     0.69\n",
      "----------------------------------\n",
      "Threshold: 2...\n",
      "Heuristics:  0.908\n",
      "Zero-Shot-All:    0.918\n",
      "Few-Shot-All:     0.692\n",
      "----------------------------------\n",
      "Threshold: 5...\n",
      "Heuristics:  0.946\n",
      "Zero-Shot-All:    0.922\n",
      "Few-Shot-All:     0.712\n",
      "----------------------------------\n",
      "Threshold: 10...\n",
      "Heuristics:  0.948\n",
      "Zero-Shot-All:    0.908\n",
      "Few-Shot-All:     0.693\n",
      "----------------------------------\n",
      "Threshold: 20...\n",
      "Heuristics:  0.934\n",
      "Zero-Shot-All:    0.906\n",
      "Few-Shot-All:     0.736\n"
     ]
    }
   ],
   "source": [
    "for threshold in [1,2,5,10,20]:\n",
    "    print('----------------------------------')\n",
    "    print(f'Threshold: {threshold}...')\n",
    "    zero_shot_all=np.load(f'base/4o_mini_correction/4o_mini_degree_{threshold}_zero_shot_with_heur_value_all_correction.npy')\n",
    "    few_shot_all=np.load(f'base/4o_mini_correction/4o_mini_degree_{threshold}_few_shot_with_heur_value_all_correction.npy')\n",
    "    zero_shot_all=post_processing(zero_shot_all)\n",
    "    few_shot_all=post_processing(few_shot_all)\n",
    "    print(f'Heuristics: ', round(metric_calculation(np.array(test['min_angle'])<=threshold, gt)[0],3))\n",
    "    print(f'Zero-Shot-All:   ', metric_calculation(zero_shot_all, gt)[0])\n",
    "    print(f'Few-Shot-All:    ', metric_calculation(few_shot_all, gt)[0])"
   ]
  },
  {
   "cell_type": "markdown",
   "id": "ad204455-0e13-477e-8bb9-956d45d6380a",
   "metadata": {},
   "source": [
    "### qwen"
   ]
  },
  {
   "cell_type": "code",
   "execution_count": 7,
   "id": "834067ce-0c39-4b70-9cdf-abd13dda556d",
   "metadata": {},
   "outputs": [
    {
     "name": "stdout",
     "output_type": "stream",
     "text": [
      "----------------------------------\n",
      "Threshold: 1...\n",
      "Heuristics:  0.867\n",
      "Zero-Shot-All:    0.928\n",
      "----------------------------------\n",
      "Threshold: 2...\n",
      "Heuristics:  0.908\n",
      "Zero-Shot-All:    0.937\n",
      "----------------------------------\n",
      "Threshold: 5...\n",
      "Heuristics:  0.946\n",
      "Zero-Shot-All:    0.94\n",
      "----------------------------------\n",
      "Threshold: 10...\n",
      "Heuristics:  0.948\n",
      "Zero-Shot-All:    0.939\n",
      "----------------------------------\n",
      "Threshold: 20...\n",
      "Heuristics:  0.934\n",
      "Zero-Shot-All:    0.929\n"
     ]
    }
   ],
   "source": [
    "for threshold in [1,2,5,10,20]:\n",
    "    print('----------------------------------')\n",
    "    print(f'Threshold: {threshold}...')\n",
    "    zero_shot_all=np.load(f'base/qwen_correction/qwen_degree_{threshold}_zero_shot_with_heur_value_all_correction.npy')\n",
    "    #few_shot_all=np.load(f'base/qwen_correction/qwen_degree_{threshold}_few_shot_with_heur_value_all_correction.npy')\n",
    "    zero_shot_all=post_processing(zero_shot_all)\n",
    "    #few_shot_all=post_processing(few_shot_all)\n",
    "    print(f'Heuristics: ', round(metric_calculation(np.array(test['min_angle'])<=threshold, gt)[0],3))\n",
    "    print(f'Zero-Shot-All:   ', metric_calculation(zero_shot_all, gt)[0])\n",
    "    #print(f'Few-Shot-All:    ', metric_calculation(few_shot_all, gt)[0])"
   ]
  },
  {
   "cell_type": "code",
   "execution_count": 6,
   "id": "6efeb974-9e6d-4912-b93e-63bbf13f44d4",
   "metadata": {},
   "outputs": [
    {
     "name": "stdout",
     "output_type": "stream",
     "text": [
      "Zero-Shot-Comb:    0.924\n",
      "Few-Shot-Comb:     0.949\n"
     ]
    }
   ],
   "source": [
    "zero_shot_comb=np.load(f'base/qwen_ec/qwen_comb_zero_shot_with_heur_value_comb_ec.npy')\n",
    "few_shot_comb=np.load(f'base/qwen_ec/qwen_comb_few_shot_with_heur_value_comb_ec.npy')\n",
    "zero_shot_comb=post_processing(zero_shot_comb)\n",
    "few_shot_comb=post_processing(few_shot_comb)\n",
    "print(f'Zero-Shot-Comb:   ', metric_calculation(zero_shot_comb, gt[index])[0])\n",
    "print(f'Few-Shot-Comb:    ', metric_calculation(few_shot_comb, gt[index])[0])"
   ]
  }
 ],
 "metadata": {
  "kernelspec": {
   "display_name": "Python 3 (ipykernel)",
   "language": "python",
   "name": "python3"
  },
  "language_info": {
   "codemirror_mode": {
    "name": "ipython",
    "version": 3
   },
   "file_extension": ".py",
   "mimetype": "text/x-python",
   "name": "python",
   "nbconvert_exporter": "python",
   "pygments_lexer": "ipython3",
   "version": "3.10.15"
  }
 },
 "nbformat": 4,
 "nbformat_minor": 5
}
