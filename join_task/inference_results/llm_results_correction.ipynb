{
 "cells": [
  {
   "cell_type": "code",
   "execution_count": 22,
   "id": "6d37fe41",
   "metadata": {},
   "outputs": [],
   "source": [
    "import numpy as np\n",
    "import pandas as pd\n",
    "\n",
    "from itertools import product\n",
    "from collections import Counter\n",
    "from datasets import load_dataset\n",
    "from sklearn.metrics import accuracy_score, confusion_matrix, f1_score"
   ]
  },
  {
   "cell_type": "code",
   "execution_count": 2,
   "id": "9a145510-b475-4e84-908a-f0fdae6d4df1",
   "metadata": {},
   "outputs": [],
   "source": [
    "def metric_calculation(pred, gt):    \n",
    "    acc=accuracy_score(gt, pred)\n",
    "    f1=f1_score(gt, pred, average='macro')\n",
    "    confusion=confusion_matrix(gt, pred)\n",
    "    fpr=confusion[0,1]/len(gt) ## predict to be 1; actual 0\n",
    "    fnr=confusion[1,0]/len(gt) ## predict to be 0; actual 1\n",
    "    return acc, f1, fpr, fnr\n",
    "    \n",
    "def post_processing(pred):\n",
    "    new_pred=[]\n",
    "    for i in pred:\n",
    "        i=i.lower()\n",
    "        if 'response' in i:\n",
    "            try: new_pred.append(i.split('response')[1].split()[1].replace('</s>', ''))\n",
    "            except: new_pred.append(2)\n",
    "        elif 'output' in i:\n",
    "            try: new_pred.append(i.split('output')[1].split()[1].replace('</s>', ''))\n",
    "            except: new_pred.append(2)\n",
    "        else:\n",
    "            try: new_pred.append(i.split()[0].replace('</s>', ''))\n",
    "            except:new_pred.append(2)\n",
    "    new_pred = np.array([int(float(i)) if i in ['0', '0.0', '1', '1.0'] else 2 for i in new_pred])\n",
    "    return new_pred"
   ]
  },
  {
   "cell_type": "code",
   "execution_count": 23,
   "id": "75203cf5-8684-4f5c-a3f9-a2f6428c5ae9",
   "metadata": {},
   "outputs": [],
   "source": [
    "ds = load_dataset(\"beanham/spatial_join_dataset\")\n",
    "test=ds['test']\n",
    "gt=np.array(test['label'])"
   ]
  },
  {
   "cell_type": "code",
   "execution_count": 28,
   "id": "50c466ea-d9ed-4ba2-aeab-fcdd861b07e8",
   "metadata": {},
   "outputs": [],
   "source": [
    "results=[]\n",
    "metric_values = ['worst_single', 'best_single', 'worst_comb']#, 'best_comb', 'worst_all', 'best_all']\n",
    "for model in ['4o_mini', 'qwen']:\n",
    "    for value in metric_values:\n",
    "        zero_shot=np.load(f'base/{model}_correction/{model}_{value}_zero_shot_with_heur_value_all_correction.npy')\n",
    "        #few_shot=np.load(f'base/{model}_correction/{model}_{value}_few_shot_with_heur_value_all_correction_reviews.npy')\n",
    "        zero_shot=post_processing(zero_shot)\n",
    "        #few_shot=post_processing(few_shot)\n",
    "        zero_metrics=metric_calculation(zero_shot, gt)\n",
    "        #few_metrics=metric_calculation(few_show, gt)\n",
    "        results.append([model, value, 'zero_shot', zero_metrics[0], zero_metrics[1]])\n",
    "        #results.append([model, value, 'few_shot', zero_metrics[0], zero_metrics[1]])\n",
    "results=pd.DataFrame(results, columns=['model', 'value', 'prompt', 'acc', 'f1'])        "
   ]
  },
  {
   "cell_type": "code",
   "execution_count": 29,
   "id": "297c5257-bb1a-4b2d-bf17-fef569a24564",
   "metadata": {},
   "outputs": [
    {
     "data": {
      "text/html": [
       "<div>\n",
       "<style scoped>\n",
       "    .dataframe tbody tr th:only-of-type {\n",
       "        vertical-align: middle;\n",
       "    }\n",
       "\n",
       "    .dataframe tbody tr th {\n",
       "        vertical-align: top;\n",
       "    }\n",
       "\n",
       "    .dataframe thead th {\n",
       "        text-align: right;\n",
       "    }\n",
       "</style>\n",
       "<table border=\"1\" class=\"dataframe\">\n",
       "  <thead>\n",
       "    <tr style=\"text-align: right;\">\n",
       "      <th></th>\n",
       "      <th>model</th>\n",
       "      <th>value</th>\n",
       "      <th>prompt</th>\n",
       "      <th>acc</th>\n",
       "      <th>f1</th>\n",
       "    </tr>\n",
       "  </thead>\n",
       "  <tbody>\n",
       "    <tr>\n",
       "      <th>0</th>\n",
       "      <td>4o_mini</td>\n",
       "      <td>worst_single</td>\n",
       "      <td>zero_shot</td>\n",
       "      <td>0.858</td>\n",
       "      <td>0.846106</td>\n",
       "    </tr>\n",
       "    <tr>\n",
       "      <th>1</th>\n",
       "      <td>4o_mini</td>\n",
       "      <td>best_single</td>\n",
       "      <td>zero_shot</td>\n",
       "      <td>0.936</td>\n",
       "      <td>0.931733</td>\n",
       "    </tr>\n",
       "    <tr>\n",
       "      <th>2</th>\n",
       "      <td>4o_mini</td>\n",
       "      <td>worst_comb</td>\n",
       "      <td>zero_shot</td>\n",
       "      <td>0.924</td>\n",
       "      <td>0.920281</td>\n",
       "    </tr>\n",
       "    <tr>\n",
       "      <th>3</th>\n",
       "      <td>qwen</td>\n",
       "      <td>worst_single</td>\n",
       "      <td>zero_shot</td>\n",
       "      <td>0.855</td>\n",
       "      <td>0.853057</td>\n",
       "    </tr>\n",
       "    <tr>\n",
       "      <th>4</th>\n",
       "      <td>qwen</td>\n",
       "      <td>best_single</td>\n",
       "      <td>zero_shot</td>\n",
       "      <td>0.921</td>\n",
       "      <td>0.917463</td>\n",
       "    </tr>\n",
       "    <tr>\n",
       "      <th>5</th>\n",
       "      <td>qwen</td>\n",
       "      <td>worst_comb</td>\n",
       "      <td>zero_shot</td>\n",
       "      <td>0.838</td>\n",
       "      <td>0.836849</td>\n",
       "    </tr>\n",
       "  </tbody>\n",
       "</table>\n",
       "</div>"
      ],
      "text/plain": [
       "     model         value     prompt    acc        f1\n",
       "0  4o_mini  worst_single  zero_shot  0.858  0.846106\n",
       "1  4o_mini   best_single  zero_shot  0.936  0.931733\n",
       "2  4o_mini    worst_comb  zero_shot  0.924  0.920281\n",
       "3     qwen  worst_single  zero_shot  0.855  0.853057\n",
       "4     qwen   best_single  zero_shot  0.921  0.917463\n",
       "5     qwen    worst_comb  zero_shot  0.838  0.836849"
      ]
     },
     "execution_count": 29,
     "metadata": {},
     "output_type": "execute_result"
    }
   ],
   "source": [
    "results"
   ]
  }
 ],
 "metadata": {
  "kernelspec": {
   "display_name": "Python 3 (ipykernel)",
   "language": "python",
   "name": "python3"
  },
  "language_info": {
   "codemirror_mode": {
    "name": "ipython",
    "version": 3
   },
   "file_extension": ".py",
   "mimetype": "text/x-python",
   "name": "python",
   "nbconvert_exporter": "python",
   "pygments_lexer": "ipython3",
   "version": "3.10.15"
  }
 },
 "nbformat": 4,
 "nbformat_minor": 5
}
