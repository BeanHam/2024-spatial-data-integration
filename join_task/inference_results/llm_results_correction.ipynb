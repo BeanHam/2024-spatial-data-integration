{
 "cells": [
  {
   "cell_type": "code",
   "execution_count": 1,
   "id": "6d37fe41",
   "metadata": {},
   "outputs": [],
   "source": [
    "import numpy as np\n",
    "import pandas as pd\n",
    "\n",
    "from itertools import product\n",
    "from collections import Counter\n",
    "from datasets import load_dataset\n",
    "from sklearn.metrics import accuracy_score, confusion_matrix, f1_score"
   ]
  },
  {
   "cell_type": "code",
   "execution_count": 2,
   "id": "9a145510-b475-4e84-908a-f0fdae6d4df1",
   "metadata": {},
   "outputs": [],
   "source": [
    "def metric_calculation(pred, gt):    \n",
    "    acc=accuracy_score(gt, pred)\n",
    "    f1=f1_score(gt, pred, average='macro')\n",
    "    confusion=confusion_matrix(gt, pred)\n",
    "    fpr=confusion[0,1]/len(gt) ## predict to be 1; actual 0\n",
    "    fnr=confusion[1,0]/len(gt) ## predict to be 0; actual 1\n",
    "    return acc, f1, fpr, fnr\n",
    "    \n",
    "def post_processing(pred):\n",
    "    new_pred=[]\n",
    "    for i in pred:\n",
    "        i=i.lower()\n",
    "        if 'response' in i:\n",
    "            try: new_pred.append(i.split('response')[1].split()[1].replace('</s>', ''))\n",
    "            except: new_pred.append(2)\n",
    "        elif 'output' in i:\n",
    "            try: new_pred.append(i.split('output')[1].split()[1].replace('</s>', ''))\n",
    "            except: new_pred.append(2)\n",
    "        else:\n",
    "            try: new_pred.append(i.split()[0].replace('</s>', ''))\n",
    "            except:new_pred.append(2)\n",
    "    new_pred = np.array([int(float(i)) if i in ['0', '0.0', '1', '1.0'] else 2 for i in new_pred])\n",
    "    return new_pred"
   ]
  },
  {
   "cell_type": "code",
   "execution_count": 3,
   "id": "75203cf5-8684-4f5c-a3f9-a2f6428c5ae9",
   "metadata": {},
   "outputs": [],
   "source": [
    "ds = load_dataset(\"beanham/spatial_join_dataset\")\n",
    "test=ds['test']\n",
    "gt=np.array(test['label'])"
   ]
  },
  {
   "cell_type": "code",
   "execution_count": 5,
   "id": "a8654891-6812-4ca5-85ec-1171d136d3a0",
   "metadata": {},
   "outputs": [],
   "source": [
    "model='4o_mini'\n",
    "value='worst_single'\n",
    "outputs=np.load(f'base/{model}_correction/{model}_{value}_few_shot_with_heur_value_all_correction.npy')\n",
    "reviews=np.load(f'base/{model}_correction/{model}_{value}_few_shot_with_heur_value_all_correction_reviews.npy')\n",
    "processed=post_processing(outputs)\n",
    "wrong_index=np.where(processed!=gt)[0]"
   ]
  },
  {
   "cell_type": "code",
   "execution_count": 16,
   "id": "5628301e-c99e-4c4f-975d-2c2a8f3c7796",
   "metadata": {},
   "outputs": [
    {
     "data": {
      "text/plain": [
       "array([  0,   2,   5,   7,  10,  16,  18,  23,  26,  28,  30,  31,  32,\n",
       "        39,  46,  50,  51,  54,  59,  60,  71,  74,  77,  80,  91,  98,\n",
       "       108, 112, 113, 126, 128, 132, 135, 136, 138, 143, 144, 146, 147,\n",
       "       152, 155, 156, 159, 162, 163, 166, 167, 173, 180, 183, 184, 198,\n",
       "       205, 207, 211, 215, 217, 222, 224, 225, 228, 229, 232, 233, 244,\n",
       "       246, 248, 256, 257, 267, 269, 270, 271, 272, 277, 281, 283, 284,\n",
       "       287, 288, 291, 294, 296, 297, 308, 310, 316, 317, 324, 325, 329,\n",
       "       330, 331, 332, 333, 336, 346, 347, 355, 368, 369, 373, 376, 377,\n",
       "       384, 385, 390, 391, 395, 402, 405, 408, 409, 410, 424, 429, 430,\n",
       "       431, 438, 442, 445, 448, 452, 462, 465, 467, 468, 474, 478, 484,\n",
       "       485, 486, 487, 491, 495, 496, 503, 505, 511, 516, 519, 520, 535,\n",
       "       536, 537, 548, 549, 556, 561, 564, 566, 567, 570, 571, 572, 575,\n",
       "       577, 581, 587, 591, 594, 600, 601, 604, 608, 610, 615, 617, 631,\n",
       "       635, 641, 642, 646, 653, 654, 656, 657, 660, 663, 669, 671, 682,\n",
       "       693, 695, 704, 712, 714, 716, 721, 722, 723, 726, 727, 728, 730,\n",
       "       731, 753, 754, 760, 764, 770, 774, 779, 780, 782, 786, 796, 797,\n",
       "       798, 799, 804, 806, 808, 811, 814, 821, 824, 828, 831, 833, 835,\n",
       "       836, 840, 842, 843, 847, 850, 852, 858, 861, 863, 867, 868, 869,\n",
       "       871, 872, 876, 880, 882, 885, 886, 887, 888, 889, 890, 893, 896,\n",
       "       897, 899, 901, 902, 903, 904, 906, 911, 914, 916, 917, 919, 923,\n",
       "       926, 927, 931, 934, 937, 938, 947, 950, 953, 955, 956, 962, 964,\n",
       "       966, 967, 968, 973, 974, 977, 979, 984, 990, 992, 994, 996])"
      ]
     },
     "execution_count": 16,
     "metadata": {},
     "output_type": "execute_result"
    }
   ],
   "source": [
    "wrong_index"
   ]
  },
  {
   "cell_type": "code",
   "execution_count": 13,
   "id": "050953f5-5f29-4f22-9465-0773e57f27e5",
   "metadata": {},
   "outputs": [
    {
     "name": "stdout",
     "output_type": "stream",
     "text": [
      "The response provided is incorrect. Let's evaluate the conditions based on the provided statistics:\n",
      "\n",
      "1. **Parallelism**: The min_angle is 1.094690596035889 degrees, which indicates that the sidewalk is approximately parallel to the road. This condition is satisfied.\n",
      "\n",
      "2. **Clearance**: The min_distance is 8.916691213846207 meters, which suggests that the sidewalk and road maintain a sufficient distance apart. This condition is also satisfied.\n",
      "\n",
      "3. **Overlap**: The max_area is 0.538494352036627, which indicates that there is a significant amount of overlap within the 10-meter buffer around each geometry. However, the requirement states that the sidewalk and road must not directly overlap. Given that the max_area exceeds 0.5, this condition is not satisfied.\n",
      "\n",
      "Since the overlap condition is not met, the correct response should be 0, indicating that the sidewalk does not run alongside the road. \n",
      "\n",
      "### Correct Response: 0\n"
     ]
    }
   ],
   "source": [
    "print(reviews[wrong_index[0]])"
   ]
  },
  {
   "cell_type": "code",
   "execution_count": null,
   "id": "fbaaac09-eb57-491c-97cb-cd623deffd1b",
   "metadata": {},
   "outputs": [],
   "source": []
  },
  {
   "cell_type": "code",
   "execution_count": null,
   "id": "a0a9329f-1d6b-4390-8ff7-b79a44733b80",
   "metadata": {},
   "outputs": [],
   "source": []
  },
  {
   "cell_type": "code",
   "execution_count": null,
   "id": "0e7f118f-575f-4836-a0f1-e3864b42ba65",
   "metadata": {},
   "outputs": [],
   "source": []
  },
  {
   "cell_type": "code",
   "execution_count": null,
   "id": "5e166dc9-84ef-4271-bf36-b312568f86bc",
   "metadata": {},
   "outputs": [],
   "source": []
  },
  {
   "cell_type": "code",
   "execution_count": 7,
   "id": "50c466ea-d9ed-4ba2-aeab-fcdd861b07e8",
   "metadata": {},
   "outputs": [],
   "source": [
    "results=[]\n",
    "metric_values = ['worst_single', 'best_single', 'worst_comb', 'best_comb', 'worst_all', 'best_all']\n",
    "for model in ['4o_mini', 'qwen']:\n",
    "    for value in metric_values:\n",
    "        few_shot=np.load(f'base/{model}_correction/{model}_{value}_few_shot_with_heur_value_all_correction.npy')\n",
    "        few_shot=post_processing(few_shot)\n",
    "        few_metrics=metric_calculation(few_shot, gt)        \n",
    "        results.append([model, value, 'few_shot', few_metrics[0], few_metrics[1]])\n",
    "results=pd.DataFrame(results, columns=['model', 'value', 'prompt', 'acc', 'f1'])        "
   ]
  },
  {
   "cell_type": "code",
   "execution_count": 8,
   "id": "297c5257-bb1a-4b2d-bf17-fef569a24564",
   "metadata": {},
   "outputs": [
    {
     "data": {
      "text/html": [
       "<div>\n",
       "<style scoped>\n",
       "    .dataframe tbody tr th:only-of-type {\n",
       "        vertical-align: middle;\n",
       "    }\n",
       "\n",
       "    .dataframe tbody tr th {\n",
       "        vertical-align: top;\n",
       "    }\n",
       "\n",
       "    .dataframe thead th {\n",
       "        text-align: right;\n",
       "    }\n",
       "</style>\n",
       "<table border=\"1\" class=\"dataframe\">\n",
       "  <thead>\n",
       "    <tr style=\"text-align: right;\">\n",
       "      <th></th>\n",
       "      <th>model</th>\n",
       "      <th>value</th>\n",
       "      <th>prompt</th>\n",
       "      <th>acc</th>\n",
       "      <th>f1</th>\n",
       "    </tr>\n",
       "  </thead>\n",
       "  <tbody>\n",
       "    <tr>\n",
       "      <th>0</th>\n",
       "      <td>4o_mini</td>\n",
       "      <td>worst_single</td>\n",
       "      <td>few_shot</td>\n",
       "      <td>0.715</td>\n",
       "      <td>0.713936</td>\n",
       "    </tr>\n",
       "    <tr>\n",
       "      <th>1</th>\n",
       "      <td>4o_mini</td>\n",
       "      <td>best_single</td>\n",
       "      <td>few_shot</td>\n",
       "      <td>0.687</td>\n",
       "      <td>0.686804</td>\n",
       "    </tr>\n",
       "    <tr>\n",
       "      <th>2</th>\n",
       "      <td>4o_mini</td>\n",
       "      <td>worst_comb</td>\n",
       "      <td>few_shot</td>\n",
       "      <td>0.730</td>\n",
       "      <td>0.728890</td>\n",
       "    </tr>\n",
       "    <tr>\n",
       "      <th>3</th>\n",
       "      <td>4o_mini</td>\n",
       "      <td>best_comb</td>\n",
       "      <td>few_shot</td>\n",
       "      <td>0.683</td>\n",
       "      <td>0.682769</td>\n",
       "    </tr>\n",
       "    <tr>\n",
       "      <th>4</th>\n",
       "      <td>4o_mini</td>\n",
       "      <td>worst_all</td>\n",
       "      <td>few_shot</td>\n",
       "      <td>0.719</td>\n",
       "      <td>0.717808</td>\n",
       "    </tr>\n",
       "    <tr>\n",
       "      <th>5</th>\n",
       "      <td>4o_mini</td>\n",
       "      <td>best_all</td>\n",
       "      <td>few_shot</td>\n",
       "      <td>0.702</td>\n",
       "      <td>0.701569</td>\n",
       "    </tr>\n",
       "    <tr>\n",
       "      <th>6</th>\n",
       "      <td>qwen</td>\n",
       "      <td>worst_single</td>\n",
       "      <td>few_shot</td>\n",
       "      <td>0.887</td>\n",
       "      <td>0.885486</td>\n",
       "    </tr>\n",
       "    <tr>\n",
       "      <th>7</th>\n",
       "      <td>qwen</td>\n",
       "      <td>best_single</td>\n",
       "      <td>few_shot</td>\n",
       "      <td>0.954</td>\n",
       "      <td>0.951287</td>\n",
       "    </tr>\n",
       "    <tr>\n",
       "      <th>8</th>\n",
       "      <td>qwen</td>\n",
       "      <td>worst_comb</td>\n",
       "      <td>few_shot</td>\n",
       "      <td>0.877</td>\n",
       "      <td>0.875521</td>\n",
       "    </tr>\n",
       "    <tr>\n",
       "      <th>9</th>\n",
       "      <td>qwen</td>\n",
       "      <td>best_comb</td>\n",
       "      <td>few_shot</td>\n",
       "      <td>0.981</td>\n",
       "      <td>0.980115</td>\n",
       "    </tr>\n",
       "    <tr>\n",
       "      <th>10</th>\n",
       "      <td>qwen</td>\n",
       "      <td>worst_all</td>\n",
       "      <td>few_shot</td>\n",
       "      <td>0.861</td>\n",
       "      <td>0.860127</td>\n",
       "    </tr>\n",
       "    <tr>\n",
       "      <th>11</th>\n",
       "      <td>qwen</td>\n",
       "      <td>best_all</td>\n",
       "      <td>few_shot</td>\n",
       "      <td>0.976</td>\n",
       "      <td>0.975000</td>\n",
       "    </tr>\n",
       "  </tbody>\n",
       "</table>\n",
       "</div>"
      ],
      "text/plain": [
       "      model         value    prompt    acc        f1\n",
       "0   4o_mini  worst_single  few_shot  0.715  0.713936\n",
       "1   4o_mini   best_single  few_shot  0.687  0.686804\n",
       "2   4o_mini    worst_comb  few_shot  0.730  0.728890\n",
       "3   4o_mini     best_comb  few_shot  0.683  0.682769\n",
       "4   4o_mini     worst_all  few_shot  0.719  0.717808\n",
       "5   4o_mini      best_all  few_shot  0.702  0.701569\n",
       "6      qwen  worst_single  few_shot  0.887  0.885486\n",
       "7      qwen   best_single  few_shot  0.954  0.951287\n",
       "8      qwen    worst_comb  few_shot  0.877  0.875521\n",
       "9      qwen     best_comb  few_shot  0.981  0.980115\n",
       "10     qwen     worst_all  few_shot  0.861  0.860127\n",
       "11     qwen      best_all  few_shot  0.976  0.975000"
      ]
     },
     "execution_count": 8,
     "metadata": {},
     "output_type": "execute_result"
    }
   ],
   "source": [
    "results"
   ]
  }
 ],
 "metadata": {
  "kernelspec": {
   "display_name": "Python 3 (ipykernel)",
   "language": "python",
   "name": "python3"
  },
  "language_info": {
   "codemirror_mode": {
    "name": "ipython",
    "version": 3
   },
   "file_extension": ".py",
   "mimetype": "text/x-python",
   "name": "python",
   "nbconvert_exporter": "python",
   "pygments_lexer": "ipython3",
   "version": "3.10.15"
  }
 },
 "nbformat": 4,
 "nbformat_minor": 5
}
