{
 "cells": [
  {
   "cell_type": "code",
   "execution_count": 1,
   "id": "b251b8fd-08df-44ff-9b6a-111371c5cc21",
   "metadata": {},
   "outputs": [],
   "source": [
    "import string\n",
    "import numpy as np\n",
    "import pandas as pd\n",
    "from itertools import product\n",
    "from collections import Counter\n",
    "from datasets import load_dataset\n",
    "from sklearn.metrics import accuracy_score, confusion_matrix, f1_score"
   ]
  },
  {
   "cell_type": "code",
   "execution_count": 2,
   "id": "743b804f-286b-401f-a8aa-bc00c305a40f",
   "metadata": {},
   "outputs": [],
   "source": [
    "def metric_calculation(pred, gt):    \n",
    "    acc=accuracy_score(gt, pred)\n",
    "    f1=f1_score(gt, pred, average='macro')\n",
    "    confusion=confusion_matrix(gt, pred)\n",
    "    fpr=confusion[0,1]/len(gt) ## predict to be 1; actual 0\n",
    "    fnr=confusion[1,0]/len(gt) ## predict to be 0; actual 1\n",
    "    return acc, f1, fpr, fnr"
   ]
  },
  {
   "cell_type": "code",
   "execution_count": 3,
   "id": "d62c97ad-26b0-43f3-99aa-8a1692a767e5",
   "metadata": {},
   "outputs": [],
   "source": [
    "def post_processing(pred, model):\n",
    "\n",
    "    if model=='mistral':\n",
    "        new_pred = [p.replace('</s>', '').split()[0] for p in pred]\n",
    "        new_pred = np.array([int(float(i)) if i in ['0', '0.0', '1', '1.0'] else 2 for i in new_pred])\n",
    "    else:\n",
    "        new_pred=[]        \n",
    "        for p in pred:\n",
    "            if (p.split()[0]=='0') or (p.split()[0]=='1'):\n",
    "                new_pred.append(p.split()[0])\n",
    "            else:\n",
    "                p = p.lower().replace('</s>', '').replace('boxed', '')\n",
    "                splits=[s for s in p.lower().split('\\n') if s != '']\n",
    "                p = ' '.join(splits[-3:]).translate(str.maketrans('', '', string.punctuation))                \n",
    "                if 'response' in p:\n",
    "                    try: new_pred.append([t for t in p.split('response')[-1].split() if t.isnumeric()][0])\n",
    "                    except: new_pred.append(2)\n",
    "                elif 'output' in p:\n",
    "                    try: new_pred.append([t for t in p.split('output')[-1].split() if t.isnumeric()][0])\n",
    "                    except: new_pred.append(2)\n",
    "                elif 'return' in p:\n",
    "                    try: new_pred.append([t for t in p.split('return')[-1].split() if t.isnumeric()][0])\n",
    "                    except: new_pred.append(2)\n",
    "                elif 'result' in p:\n",
    "                    try: new_pred.append([t for t in p.split('result')[-1].split() if t.isnumeric()][0])\n",
    "                    except: new_pred.append(2)\n",
    "                elif 'plaintext' in p:\n",
    "                    try: new_pred.append([t for t in p.split('plaintext')[-1].split() if t.isnumeric()][0])\n",
    "                    except: new_pred.append(2)\n",
    "                elif 'json' in p:\n",
    "                    try: new_pred.append([t for t in p.split('json')[-1].split() if t.isnumeric()][0])\n",
    "                    except: new_pred.append(2)\n",
    "                else:\n",
    "                    try: new_pred.append(p.split()[0])\n",
    "                    except:new_pred.append(2)\n",
    "        new_pred = np.array([int(float(i)) if i in ['0', '0.0', '1', '1.0'] else 2 for i in new_pred])\n",
    "    return new_pred"
   ]
  },
  {
   "cell_type": "code",
   "execution_count": 6,
   "id": "730fe93f-1c13-48d6-983c-0cf3032cf7a3",
   "metadata": {},
   "outputs": [],
   "source": [
    "ds = load_dataset(\"beanham/spatial_join_dataset\")\n",
    "test=ds['test']\n",
    "gt=np.array(test['label'])[:20]\n",
    "configs = [\n",
    "    \"few_shot_no_heur_cot\",\n",
    "    \"few_shot_with_heur_hint_all_cot\",\n",
    "    \"few_shot_with_heur_value_all_cot\"\n",
    "]"
   ]
  },
  {
   "cell_type": "code",
   "execution_count": 7,
   "id": "206244fd-7b1c-4cc6-84f3-5c8aecf4943c",
   "metadata": {},
   "outputs": [
    {
     "name": "stdout",
     "output_type": "stream",
     "text": [
      "Model: 4o_mini...\n",
      "Model: qwen_plus...\n",
      "Model: 4o...\n",
      "Model: o3_mini...\n",
      "Model: deepseek...\n"
     ]
    }
   ],
   "source": [
    "results=[]\n",
    "models=['4o_mini', 'qwen_plus', '4o', 'o3_mini', 'deepseek']\n",
    "for model in models:\n",
    "    print(f'Model: {model}...')\n",
    "    for config in configs:\n",
    "        pred=np.load(f'base/{model}_cot/{model}_{config}.npy')[:20]\n",
    "        if model=='deepseek':\n",
    "            pred=[i[0] for i in pred]\n",
    "        pred=post_processing(pred, model)\n",
    "        metrics=metric_calculation(pred, gt)\n",
    "        results.append([config, model, round(metrics[0],3), metrics[1]])\n",
    "results=pd.DataFrame(results, columns=['config', 'model', 'acc', 'f1'])"
   ]
  },
  {
   "cell_type": "markdown",
   "id": "f0aabcaf-a035-4b2a-8455-2a3a70e4c6a7",
   "metadata": {},
   "source": [
    "### Analysis"
   ]
  },
  {
   "cell_type": "code",
   "execution_count": 17,
   "id": "ef009c22-01d4-476d-8c6d-e567544f8a95",
   "metadata": {},
   "outputs": [
    {
     "data": {
      "text/plain": [
       "(15, 5)"
      ]
     },
     "execution_count": 17,
     "metadata": {},
     "output_type": "execute_result"
    }
   ],
   "source": [
    "model='qwen_plus'\n",
    "config='few_shot_no_heur_cot'\n",
    "pred=np.load(f'base/{model}_cot/{model}_{config}.npy')[:20]\n",
    "if model=='deepseek': \n",
    "    output=[i[0] for i in pred]\n",
    "    reasoning=[i[1] for i in pred]\n",
    "    proc_pred=post_processing(output, model)\n",
    "else:\n",
    "    proc_pred=post_processing(pred, model)\n",
    "right=np.where(proc_pred==gt)[0]\n",
    "wrong=np.where(proc_pred!=gt)[0]\n",
    "len(right), len(wrong)"
   ]
  },
  {
   "cell_type": "code",
   "execution_count": 18,
   "id": "5247f601-2f73-4888-addf-5e3e3db13633",
   "metadata": {},
   "outputs": [
    {
     "name": "stdout",
     "output_type": "stream",
     "text": [
      "To determine whether the sidewalk runs alongside the road, we can follow these steps:\n",
      "\n",
      "### Step 1: Analyze the input geometries\n",
      "We are given two LineString geometries in GeoJSON format:\n",
      "- **Sidewalk**: A series of coordinate points representing the sidewalk geometry.\n",
      "- **Road**: A series of coordinate points representing the road geometry.\n",
      "\n",
      "### Step 2: Define criteria for \"running alongside\"\n",
      "For a sidewalk to be considered as running alongside a road, the following conditions should generally hold:\n",
      "1. The sidewalk and road should be spatially close to each other.\n",
      "2. The general direction (trend) of the sidewalk should align with the road.\n",
      "\n",
      "### Step 3: Compute proximity between sidewalk and road\n",
      "To assess whether the sidewalk is close to the road, we can calculate the minimum distance between the sidewalk and the road. If the minimum distance is below a certain threshold, it indicates that the sidewalk is near the road.\n",
      "\n",
      "### Step 4: Check alignment of directions\n",
      "To determine if the sidewalk aligns with the road, we can compare the angles or directions of the two LineStrings. If the directions are similar, it suggests that the sidewalk runs parallel to the road.\n",
      "\n",
      "### Step 5: Evaluate the specific example\n",
      "Let's apply these steps to the provided input:\n",
      "\n",
      "#### Input details:\n",
      "- **Sidewalk** starts at `[-122.15343690000002, 47.61303290000001]` and ends at `[-122.152972, 47.61301749999999]`.\n",
      "- **Road** starts at `[-122.1534612, 47.6130981]` and ends at `[-122.1528869, 47.6130989]`.\n",
      "\n",
      "#### Proximity analysis:\n",
      "- The starting point of the sidewalk (`[-122.15343690000002, 47.61303290000001]`) is very close to the starting point of the road (`[-122.1534612, 47.6130981]`), with a small vertical separation.\n",
      "- The ending point of the sidewalk (`[-122.152972, 47.61301749999999]`) is also close to the ending point of the road (`[-122.1528869, 47.6130989]`).\n",
      "\n",
      "#### Direction analysis:\n",
      "- Both the sidewalk and the road have a predominantly east-west trend, indicating that they are aligned in the same general direction.\n",
      "\n",
      "### Step 6: Conclusion\n",
      "Since the sidewalk is spatially close to the road and their directions align, we conclude that the sidewalk runs alongside the road.\n",
      "\n",
      "### Final Response:\n",
      "**1**\n"
     ]
    }
   ],
   "source": [
    "index=8\n",
    "print(pred[right[index]])"
   ]
  },
  {
   "cell_type": "code",
   "execution_count": 197,
   "id": "0ef24ab1-a942-4dfd-a751-8169fb230eab",
   "metadata": {},
   "outputs": [
    {
     "name": "stdout",
     "output_type": "stream",
     "text": [
      "1\n",
      "\n",
      "The sidewalk meets all three conditions for running alongside the road:\n",
      "1. **Parallelism**: The min_angle of 0.46° indicates near-perfect alignment between the sidewalk and road.\n",
      "2. **Clearance**: The min_distance of 9.24 meters ensures no direct overlap or intersection, maintaining a safe separation.\n",
      "3. **Overlap**: The max_area of ~46.76% shows significant buffer overlap, confirming spatial association without direct contact.\n",
      "\n",
      "All criteria (parallelism, clearance, overlap) are satisfied, so the answer is **1**.\n"
     ]
    }
   ],
   "source": [
    "print(output[right[index]])"
   ]
  },
  {
   "cell_type": "markdown",
   "id": "48f2158c-94f9-447c-b1bc-a5747df4612a",
   "metadata": {},
   "source": [
    "## deepseek\n",
    "\n",
    "#### no heur\n",
    "- Maybe I can compare the direction and proximity of the line segments.\n",
    "- Looking at the road's coordinates, they are moving eastward (since longitude becomes more negative) and northward (latitude increases).\n",
    "\n",
    "- wrong conclusion: The sidewalk's start is ~23 meters west of the road's start, beyond typical adjacency for sidewalks.\n",
    "- wrong conclusoin: The sidewalk moves north, and the road moves south,"
   ]
  },
  {
   "cell_type": "markdown",
   "id": "8244637b-f070-4a11-83eb-650108bbf518",
   "metadata": {},
   "source": [
    "### 4o\n",
    "\n",
    "#### no heur\n",
    "- check proximinity by calculate distance (pairwise); check alignment\n",
    "- no calculation, but with conclusion. (indicating; likely parallele; same general direction)\n",
    "  \n",
    "#### no heur hints\n",
    "- follows the hint: calculate angle & distance;\n",
    "- wrong calculation: the change in longitude & latitude\n",
    "- unclear calculation: The closest approach between the sidewalk and the road appears to be around **2-3 meters**.\n",
    "- no calculation, but with conclusion. (For this specific input, after performing the necessary calculations, the conditions are satisfied, so the response is:) (Given the complexity of these calculations and the need for precise geospatial analysis, let's assume the calculations have been performed, and based on the input provided, the conditions are not fully satisfied.)\n",
    "\n",
    "\n",
    "#### with heur hints\n",
    "- check each heuristic hints invidually; and in combination.\n",
    "- compare values (use typical values determined by their own knowledge 10; 5 meter distance; 20%)\n",
    "- but inconsistent: overlap: 20% v.s. 30~70%; distance 2-10 meters or 1-20\n",
    "\n",
    "------------\n",
    "\n",
    "### qwen-plus\n",
    "\n",
    "#### no heur\n",
    "- check proximinity; calculate distance (pairwise); direction (northwest to southeast direction). (The sidewalk is close enough to the road to pass the proximity test.)\n",
    "- Let’s assume the computed distance is approximately **1 meter**(??)\n",
    "  \n",
    "#### no heur hints\n",
    "- follows the hint: calculate angle & distance;\n",
    "- wrong calculation: Similarly, we can use the first and last points to determine the direction of the road (wrong); or pairwise point angle?? but could happen to arrive at the correction conclusion\n",
    "- unclear calculation: The closest approach between the sidewalk and the road appears to be around **2-3 meters**.\n",
    "- no calculation, but with conclusion.\n",
    "\n",
    "\n",
    "#### with heur hints\n",
    "- check each heuristic hints invidually; and in combination.\n",
    "- compare values (use typical values determined by their own knowledge 10; 5 meter distance; 20%)\n",
    "- but inconsistent: overlap: 20% v.s. 30~70%; distance 2-10 meters or 1-20\n",
    "\n",
    "------------\n",
    "\n",
    "### 4o-mini\n",
    "\n",
    "#### no heur\n",
    "- check proximinity; calculate distance (pairwise). (We need to check if the sidewalk is close enough to the road to be considered \"alongside\".)\n",
    "- threshold 1 meter??\n",
    "- no results returned\n",
    "  \n",
    "#### no heur hints\n",
    "- follows the hint: calculate angle & distance;\n",
    "- Similarly, we can use the first and last points to determine the direction of the road (wrong)\n",
    "- Given the complexity of the calculations and checks, I will assume that the conditions are not satisfied based on the provided examples and return:\n",
    "\n",
    "#### with heur hints\n",
    "- check each heuristic hints invidually; and in combination.\n",
    "- compare values (use typical values determined by their own knowledge 10; 1 meter distance; 10%)"
   ]
  }
 ],
 "metadata": {
  "kernelspec": {
   "display_name": "Python 3 (ipykernel)",
   "language": "python",
   "name": "python3"
  },
  "language_info": {
   "codemirror_mode": {
    "name": "ipython",
    "version": 3
   },
   "file_extension": ".py",
   "mimetype": "text/x-python",
   "name": "python",
   "nbconvert_exporter": "python",
   "pygments_lexer": "ipython3",
   "version": "3.10.15"
  }
 },
 "nbformat": 4,
 "nbformat_minor": 5
}
