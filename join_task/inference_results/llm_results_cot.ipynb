{
 "cells": [
  {
   "cell_type": "code",
   "execution_count": 1,
   "id": "b251b8fd-08df-44ff-9b6a-111371c5cc21",
   "metadata": {},
   "outputs": [],
   "source": [
    "import string\n",
    "import numpy as np\n",
    "import pandas as pd\n",
    "from itertools import product\n",
    "from collections import Counter\n",
    "from datasets import load_dataset\n",
    "from sklearn.metrics import accuracy_score, confusion_matrix, f1_score"
   ]
  },
  {
   "cell_type": "code",
   "execution_count": 2,
   "id": "743b804f-286b-401f-a8aa-bc00c305a40f",
   "metadata": {},
   "outputs": [],
   "source": [
    "def metric_calculation(pred, gt):    \n",
    "    acc=accuracy_score(gt, pred)\n",
    "    f1=f1_score(gt, pred, average='macro')\n",
    "    confusion=confusion_matrix(gt, pred)\n",
    "    fpr=confusion[0,1]/len(gt) ## predict to be 1; actual 0\n",
    "    fnr=confusion[1,0]/len(gt) ## predict to be 0; actual 1\n",
    "    return acc, f1, fpr, fnr"
   ]
  },
  {
   "cell_type": "code",
   "execution_count": 3,
   "id": "d62c97ad-26b0-43f3-99aa-8a1692a767e5",
   "metadata": {},
   "outputs": [],
   "source": [
    "def post_processing(pred, model):\n",
    "\n",
    "    if model=='mistral':\n",
    "        new_pred = [p.replace('</s>', '').split()[0] for p in pred]\n",
    "        new_pred = np.array([int(float(i)) if i in ['0', '0.0', '1', '1.0'] else 2 for i in new_pred])\n",
    "    else:\n",
    "        new_pred=[]        \n",
    "        for p in pred:\n",
    "            if (p.split()[0]=='0') or (p.split()[0]=='1'):\n",
    "                new_pred.append(p.split()[0])\n",
    "            else:\n",
    "                p = p.lower().replace('</s>', '').replace('boxed', '')\n",
    "                splits=[s for s in p.lower().split('\\n') if s != '']\n",
    "                p = ' '.join(splits[-3:]).translate(str.maketrans('', '', string.punctuation))                \n",
    "                if 'response' in p:\n",
    "                    try: new_pred.append([t for t in p.split('response')[-1].split() if t.isnumeric()][0])\n",
    "                    except: new_pred.append(2)\n",
    "                elif 'output' in p:\n",
    "                    try: new_pred.append([t for t in p.split('output')[-1].split() if t.isnumeric()][0])\n",
    "                    except: new_pred.append(2)\n",
    "                elif 'return' in p:\n",
    "                    try: new_pred.append([t for t in p.split('return')[-1].split() if t.isnumeric()][0])\n",
    "                    except: new_pred.append(2)\n",
    "                elif 'result' in p:\n",
    "                    try: new_pred.append([t for t in p.split('result')[-1].split() if t.isnumeric()][0])\n",
    "                    except: new_pred.append(2)\n",
    "                elif 'plaintext' in p:\n",
    "                    try: new_pred.append([t for t in p.split('plaintext')[-1].split() if t.isnumeric()][0])\n",
    "                    except: new_pred.append(2)\n",
    "                elif 'json' in p:\n",
    "                    try: new_pred.append([t for t in p.split('json')[-1].split() if t.isnumeric()][0])\n",
    "                    except: new_pred.append(2)\n",
    "                else:\n",
    "                    try: new_pred.append(p.split()[0])\n",
    "                    except:new_pred.append(2)\n",
    "        new_pred = np.array([int(float(i)) if i in ['0', '0.0', '1', '1.0'] else 2 for i in new_pred])\n",
    "    return new_pred"
   ]
  },
  {
   "cell_type": "code",
   "execution_count": 4,
   "id": "730fe93f-1c13-48d6-983c-0cf3032cf7a3",
   "metadata": {},
   "outputs": [],
   "source": [
    "ds = load_dataset(\"beanham/spatial_join_dataset\")\n",
    "test=ds['test']\n",
    "gt=np.array(test['label'])[:20]\n",
    "configs = [\n",
    "    \"few_shot_no_heur_cot\",\n",
    "    \"few_shot_with_heur_value_all_cot\"\n",
    "]"
   ]
  },
  {
   "cell_type": "code",
   "execution_count": 5,
   "id": "206244fd-7b1c-4cc6-84f3-5c8aecf4943c",
   "metadata": {},
   "outputs": [
    {
     "name": "stdout",
     "output_type": "stream",
     "text": [
      "Model: 4o_mini...\n",
      "Model: qwen_plus...\n",
      "Model: 4o...\n",
      "Model: o3_mini...\n",
      "Model: deepseek...\n"
     ]
    }
   ],
   "source": [
    "results=[]\n",
    "models=['4o_mini', 'qwen_plus', '4o', 'o3_mini', 'deepseek']\n",
    "for model in models:\n",
    "    print(f'Model: {model}...')\n",
    "    for config in configs:\n",
    "        pred=np.load(f'base/{model}_cot/{model}_{config}.npy')[:20]\n",
    "        if model=='deepseek':\n",
    "            pred=[i[0] for i in pred]\n",
    "        pred=post_processing(pred, model)\n",
    "        metrics=metric_calculation(pred, gt)\n",
    "        results.append([config, model, round(metrics[0],3), metrics[1]])\n",
    "results=pd.DataFrame(results, columns=['config', 'model', 'acc', 'f1'])"
   ]
  },
  {
   "cell_type": "markdown",
   "id": "f0aabcaf-a035-4b2a-8455-2a3a70e4c6a7",
   "metadata": {},
   "source": [
    "### Analysis"
   ]
  },
  {
   "cell_type": "code",
   "execution_count": null,
   "id": "231f4233-71c8-4d1a-b7a0-20ba3b81e9d2",
   "metadata": {},
   "outputs": [],
   "source": [
    "configs = [\n",
    "    \"few_shot_no_heur_cot\",\n",
    "    \"few_shot_with_heur_value_all_cot\"\n",
    "]"
   ]
  },
  {
   "cell_type": "code",
   "execution_count": 96,
   "id": "ef009c22-01d4-476d-8c6d-e567544f8a95",
   "metadata": {},
   "outputs": [
    {
     "data": {
      "text/plain": [
       "(13, 7)"
      ]
     },
     "execution_count": 96,
     "metadata": {},
     "output_type": "execute_result"
    }
   ],
   "source": [
    "model='4o_mini'\n",
    "config='few_shot_no_heur_cot'\n",
    "pred=np.load(f'base/{model}_cot/{model}_{config}.npy')[:20]\n",
    "if model=='deepseek': \n",
    "    output=[i[0] for i in pred]\n",
    "    reasoning=[i[1] for i in pred]\n",
    "    proc_pred=post_processing(output, model)\n",
    "else:\n",
    "    proc_pred=post_processing(pred, model)\n",
    "right=np.where(proc_pred==gt)[0]\n",
    "wrong=np.where(proc_pred!=gt)[0]\n",
    "len(right), len(wrong)"
   ]
  },
  {
   "cell_type": "code",
   "execution_count": 97,
   "id": "6d505743-067d-44bd-a23a-f5937f1cba1a",
   "metadata": {},
   "outputs": [
    {
     "data": {
      "text/plain": [
       "(19, 5)"
      ]
     },
     "execution_count": 97,
     "metadata": {},
     "output_type": "execute_result"
    }
   ],
   "source": [
    "proximity=0\n",
    "alignment=0\n",
    "for p in pred:\n",
    "    proximity += 1*('proximity' in p.lower() or 'distance' in p.lower())\n",
    "    alignment += 1*('alignment' in p.lower() or 'angle' in p.lower())\n",
    "proximity, alignment"
   ]
  },
  {
   "cell_type": "code",
   "execution_count": 98,
   "id": "4975e8ba-7e72-48a7-bb64-12149ba9a833",
   "metadata": {},
   "outputs": [
    {
     "data": {
      "text/plain": [
       "(13, 4, 0)"
      ]
     },
     "execution_count": 98,
     "metadata": {},
     "output_type": "execute_result"
    }
   ],
   "source": [
    "appear_examples=[]\n",
    "approximate_examples=[]\n",
    "assume_exampels=[]\n",
    "for p in pred:\n",
    "    if 'appear' in p.lower():\n",
    "        appear_examples.append(p.replace('appear', 'APPEAR'))\n",
    "    if 'approximate' in p.lower():\n",
    "        approximate_examples.append(p.replace('approximate', 'APPROXIMATE'))\n",
    "    if 'assume' in p.lower():\n",
    "        assume_exampels.append(p.replace('assume', 'ASSUME'))\n",
    "len(appear_examples), len(approximate_examples), len(assume_exampels)"
   ]
  },
  {
   "cell_type": "code",
   "execution_count": 100,
   "id": "4026f1dd-1997-4591-bac1-4c3244d612b3",
   "metadata": {},
   "outputs": [
    {
     "data": {
      "text/plain": [
       "14"
      ]
     },
     "execution_count": 100,
     "metadata": {},
     "output_type": "execute_result"
    }
   ],
   "source": [
    "examples=[]\n",
    "for p in pred:\n",
    "    if 1*('appear' in p.lower() or 'approximate' in p.lower() or 'assume' in p.lower()):\n",
    "        examples.append(p)\n",
    "len(examples)"
   ]
  },
  {
   "cell_type": "code",
   "execution_count": 91,
   "id": "dc9e4f41-117c-41d6-85b4-8add2c376ea8",
   "metadata": {},
   "outputs": [
    {
     "name": "stdout",
     "output_type": "stream",
     "text": [
      "To determine whether the sidewalk runs alongside the road, we will analyze the provided coordinates of both geometries step by step.\n",
      "\n",
      "1. **Extract Coordinates**:\n",
      "   - Sidewalk coordinates: \n",
      "     ```\n",
      "     [[-122.15343690000002, 47.61303290000001], \n",
      "      [-122.1534257, 47.613036799999996], \n",
      "      [-122.1534098, 47.613039199999996], \n",
      "      [-122.1531203, 47.613043699999984], \n",
      "      [-122.1530779, 47.6130432], \n",
      "      [-122.1530471, 47.61303959999999], \n",
      "      [-122.1530222, 47.6130356], \n",
      "      [-122.15300619999998, 47.6130315], \n",
      "      [-122.15299070000002, 47.613027], \n",
      "      [-122.15298000000001, 47.6130224], \n",
      "      [-122.152972, 47.61301749999999]]\n",
      "     ```\n",
      "   - Road coordinates: \n",
      "     ```\n",
      "     [[-122.1534612, 47.6130981], \n",
      "      [-122.1533986, 47.6131006], \n",
      "      [-122.1533184, 47.6131003], \n",
      "      [-122.1528869, 47.6130989]]\n",
      "     ```\n",
      "\n",
      "2. **Visualize the Coordinates**:\n",
      "   - The sidewalk appears to have a series of points that are relatively close together, indicating a continuous path.\n",
      "   - The road also has a series of points, but we need to check their proximity to the sidewalk.\n",
      "\n",
      "3. **Check Proximity**:\n",
      "   - We will check if any of the sidewalk points are close to the road points. A common threshold for determining if two lines are \"alongside\" each other is to check if the distance between them is within a certain small range (e.g., 5 meters).\n",
      "\n",
      "4. **Calculate Distances**:\n",
      "   - For each point on the sidewalk, calculate the distance to each point on the road. If any sidewalk point is within a small distance (e.g., 5 meters) of any road point, we can conclude that the sidewalk runs alongside the road.\n",
      "\n",
      "5. **Perform Distance Calculations**:\n",
      "   - Using the Haversine formula or a similar method, we can compute the distances. However, for simplicity, we can visually inspect the coordinates:\n",
      "     - The sidewalk coordinates are around `[-122.1534, 47.6130]` and the road coordinates are around `[-122.1534, 47.6131]`.\n",
      "     - The sidewalk is slightly to the west of the road.\n",
      "\n",
      "6. **Conclusion**:\n",
      "   - Since the sidewalk coordinates are very close to the road coordinates, and given the proximity of the points, we can conclude that the sidewalk runs alongside the road.\n",
      "\n",
      "### Final Response:\n",
      "1\n"
     ]
    }
   ],
   "source": [
    "print(examples[7])"
   ]
  },
  {
   "cell_type": "code",
   "execution_count": 71,
   "id": "0ef24ab1-a942-4dfd-a751-8169fb230eab",
   "metadata": {},
   "outputs": [
    {
     "name": "stdout",
     "output_type": "stream",
     "text": [
      "To determine whether the sidewalk runs alongside the road, we will analyze the coordinates of both geometries step by step.\n",
      "\n",
      "1. **Extract Coordinates**:\n",
      "   - Sidewalk coordinates: \n",
      "     ```\n",
      "     [[-122.1909905, 47.54851559999999], \n",
      "      [-122.1909933, 47.54832630000001], \n",
      "      [-122.19099799999998, 47.54809680000001], \n",
      "      [-122.1909995, 47.5480882], \n",
      "      [-122.1910037, 47.548079499999986], \n",
      "      [-122.191008, 47.54807359999999], \n",
      "      [-122.19101569999998, 47.54806740000001], \n",
      "      [-122.19102939999999, 47.5480583]]\n",
      "     ```\n",
      "   - Road coordinates: \n",
      "     ```\n",
      "     [[-122.1918109, 47.5480049], \n",
      "      [-122.1910218, 47.5479995]]\n",
      "     ```\n",
      "\n",
      "2. **Visualize the Coordinates**:\n",
      "   - The sidewalk appears to be a continuous line with multiple points, while the road is represented by two points.\n",
      "   - The sidewalk starts at APPROXIMATEly `(-122.1909905, 47.5485156)` and ends at `(-122.1910294, 47.5480583)`.\n",
      "   - The road starts at `(-122.1918109, 47.5480049)` and ends at `(-122.1910218, 47.5479995)`.\n",
      "\n",
      "3. **Check Proximity**:\n",
      "   - The coordinates of the sidewalk are located to the west of the road's coordinates.\n",
      "   - The road's coordinates are further east than the sidewalk's coordinates, indicating that they do not run alongside each other.\n",
      "\n",
      "4. **Conclusion**:\n",
      "   - Since the sidewalk does not run alongside the road, we return 0.\n",
      "\n",
      "### Final Response:\n",
      "0\n"
     ]
    }
   ],
   "source": [
    "print(approximate_examples[3])"
   ]
  },
  {
   "cell_type": "markdown",
   "id": "48f2158c-94f9-447c-b1bc-a5747df4612a",
   "metadata": {},
   "source": [
    "## deepseek\n",
    "\n",
    "#### no heur\n",
    "- Maybe I can compare the direction and proximity of the line segments.\n",
    "- Looking at the road's coordinates, they are moving eastward (since longitude becomes more negative) and northward (latitude increases).\n",
    "\n",
    "- wrong conclusion: The sidewalk's start is ~23 meters west of the road's start, beyond typical adjacency for sidewalks.\n",
    "- wrong conclusoin: The sidewalk moves north, and the road moves south,"
   ]
  },
  {
   "cell_type": "markdown",
   "id": "8244637b-f070-4a11-83eb-650108bbf518",
   "metadata": {},
   "source": [
    "### 4o\n",
    "\n",
    "#### no heur\n",
    "- check proximinity by calculate distance (pairwise); check alignment\n",
    "- no calculation, but with conclusion. (indicating; likely parallele; same general direction)\n",
    "  \n",
    "#### no heur hints\n",
    "- follows the hint: calculate angle & distance;\n",
    "- wrong calculation: the change in longitude & latitude\n",
    "- unclear calculation: The closest approach between the sidewalk and the road appears to be around **2-3 meters**.\n",
    "- no calculation, but with conclusion. (For this specific input, after performing the necessary calculations, the conditions are satisfied, so the response is:) (Given the complexity of these calculations and the need for precise geospatial analysis, let's assume the calculations have been performed, and based on the input provided, the conditions are not fully satisfied.)\n",
    "\n",
    "\n",
    "#### with heur hints\n",
    "- check each heuristic hints invidually; and in combination.\n",
    "- compare values (use typical values determined by their own knowledge 10; 5 meter distance; 20%)\n",
    "- but inconsistent: overlap: 20% v.s. 30~70%; distance 2-10 meters or 1-20\n",
    "\n",
    "------------\n",
    "\n",
    "### qwen-plus\n",
    "\n",
    "#### no heur\n",
    "- check proximinity; calculate distance (pairwise); direction (northwest to southeast direction). (The sidewalk is close enough to the road to pass the proximity test.)\n",
    "- Let’s assume the computed distance is approximately **1 meter**(??)\n",
    "  \n",
    "#### no heur hints\n",
    "- follows the hint: calculate angle & distance;\n",
    "- wrong calculation: Similarly, we can use the first and last points to determine the direction of the road (wrong); or pairwise point angle?? but could happen to arrive at the correction conclusion\n",
    "- unclear calculation: The closest approach between the sidewalk and the road appears to be around **2-3 meters**.\n",
    "- no calculation, but with conclusion.\n",
    "\n",
    "\n",
    "#### with heur hints\n",
    "- check each heuristic hints invidually; and in combination.\n",
    "- compare values (use typical values determined by their own knowledge 10; 5 meter distance; 20%)\n",
    "- but inconsistent: overlap: 20% v.s. 30~70%; distance 2-10 meters or 1-20\n",
    "\n",
    "------------\n",
    "\n",
    "### 4o-mini\n",
    "\n",
    "#### no heur\n",
    "- check proximinity; calculate distance (pairwise). (We need to check if the sidewalk is close enough to the road to be considered \"alongside\".)\n",
    "- threshold 1 meter??\n",
    "- no results returned\n",
    "  \n",
    "#### no heur hints\n",
    "- follows the hint: calculate angle & distance;\n",
    "- Similarly, we can use the first and last points to determine the direction of the road (wrong)\n",
    "- Given the complexity of the calculations and checks, I will assume that the conditions are not satisfied based on the provided examples and return:\n",
    "\n",
    "#### with heur hints\n",
    "- check each heuristic hints invidually; and in combination.\n",
    "- compare values (use typical values determined by their own knowledge 10; 1 meter distance; 10%)"
   ]
  }
 ],
 "metadata": {
  "kernelspec": {
   "display_name": "Python 3 (ipykernel)",
   "language": "python",
   "name": "python3"
  },
  "language_info": {
   "codemirror_mode": {
    "name": "ipython",
    "version": 3
   },
   "file_extension": ".py",
   "mimetype": "text/x-python",
   "name": "python",
   "nbconvert_exporter": "python",
   "pygments_lexer": "ipython3",
   "version": "3.10.15"
  }
 },
 "nbformat": 4,
 "nbformat_minor": 5
}
