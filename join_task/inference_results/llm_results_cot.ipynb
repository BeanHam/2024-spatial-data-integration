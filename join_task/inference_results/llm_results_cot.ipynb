{
 "cells": [
  {
   "cell_type": "code",
   "execution_count": 1,
   "id": "b251b8fd-08df-44ff-9b6a-111371c5cc21",
   "metadata": {},
   "outputs": [],
   "source": [
    "import string\n",
    "import numpy as np\n",
    "import pandas as pd\n",
    "from itertools import product\n",
    "from collections import Counter\n",
    "from datasets import load_dataset\n",
    "from sklearn.metrics import accuracy_score, confusion_matrix, f1_score"
   ]
  },
  {
   "cell_type": "code",
   "execution_count": 2,
   "id": "743b804f-286b-401f-a8aa-bc00c305a40f",
   "metadata": {},
   "outputs": [],
   "source": [
    "def metric_calculation(pred, gt):    \n",
    "    acc=accuracy_score(gt, pred)\n",
    "    f1=f1_score(gt, pred, average='macro')\n",
    "    confusion=confusion_matrix(gt, pred)\n",
    "    fpr=confusion[0,1]/len(gt) ## predict to be 1; actual 0\n",
    "    fnr=confusion[1,0]/len(gt) ## predict to be 0; actual 1\n",
    "    return acc, f1, fpr, fnr"
   ]
  },
  {
   "cell_type": "code",
   "execution_count": 3,
   "id": "d62c97ad-26b0-43f3-99aa-8a1692a767e5",
   "metadata": {},
   "outputs": [],
   "source": [
    "def post_processing(pred, model):\n",
    "\n",
    "    if model=='mistral':\n",
    "        new_pred = [p.replace('</s>', '').split()[0] for p in pred]\n",
    "        new_pred = np.array([int(float(i)) if i in ['0', '0.0', '1', '1.0'] else 2 for i in new_pred])\n",
    "    else:\n",
    "        new_pred=[]        \n",
    "        for p in pred:\n",
    "            if (p.split()[0]=='0') or (p.split()[0]=='1'):\n",
    "                new_pred.append(p.split()[0])\n",
    "            else:\n",
    "                p = p.lower().replace('</s>', '').replace('boxed', '')\n",
    "                splits=[s for s in p.lower().split('\\n') if s != '']\n",
    "                p = ' '.join(splits[-3:]).translate(str.maketrans('', '', string.punctuation))                \n",
    "                if 'response' in p:\n",
    "                    try: new_pred.append([t for t in p.split('response')[-1].split() if t.isnumeric()][0])\n",
    "                    except: new_pred.append(2)\n",
    "                elif 'output' in p:\n",
    "                    try: new_pred.append([t for t in p.split('output')[-1].split() if t.isnumeric()][0])\n",
    "                    except: new_pred.append(2)\n",
    "                elif 'return' in p:\n",
    "                    try: new_pred.append([t for t in p.split('return')[-1].split() if t.isnumeric()][0])\n",
    "                    except: new_pred.append(2)\n",
    "                elif 'result' in p:\n",
    "                    try: new_pred.append([t for t in p.split('result')[-1].split() if t.isnumeric()][0])\n",
    "                    except: new_pred.append(2)\n",
    "                elif 'plaintext' in p:\n",
    "                    try: new_pred.append([t for t in p.split('plaintext')[-1].split() if t.isnumeric()][0])\n",
    "                    except: new_pred.append(2)\n",
    "                elif 'json' in p:\n",
    "                    try: new_pred.append([t for t in p.split('json')[-1].split() if t.isnumeric()][0])\n",
    "                    except: new_pred.append(2)\n",
    "                else:\n",
    "                    try: new_pred.append(p.split()[0])\n",
    "                    except:new_pred.append(2)\n",
    "        new_pred = np.array([int(float(i)) if i in ['0', '0.0', '1', '1.0'] else 2 for i in new_pred])\n",
    "    return new_pred"
   ]
  },
  {
   "cell_type": "code",
   "execution_count": 4,
   "id": "730fe93f-1c13-48d6-983c-0cf3032cf7a3",
   "metadata": {},
   "outputs": [],
   "source": [
    "ds = load_dataset(\"beanham/spatial_join_dataset\")\n",
    "test=ds['test']\n",
    "gt=np.array(test['label'])\n",
    "configs = [\n",
    "    \"few_shot_no_heur_cot\",\n",
    "    \"few_shot_with_heur_hint_all_cot\",\n",
    "    \"few_shot_with_heur_value_all_cot\"\n",
    "]"
   ]
  },
  {
   "cell_type": "code",
   "execution_count": 9,
   "id": "206244fd-7b1c-4cc6-84f3-5c8aecf4943c",
   "metadata": {},
   "outputs": [
    {
     "name": "stdout",
     "output_type": "stream",
     "text": [
      "Model: 4o_mini...\n",
      "Model: qwen_plus...\n"
     ]
    }
   ],
   "source": [
    "results=[]\n",
    "models=['4o_mini', 'qwen_plus']\n",
    "for model in models:\n",
    "    print(f'Model: {model}...')\n",
    "    for config in configs:\n",
    "        pred=np.load(f'base/{model}_cot/{model}_{config}.npy')\n",
    "        pred=post_processing(pred, model)\n",
    "        metrics=metric_calculation(pred, gt)\n",
    "        results.append([config, model, round(metrics[0],3), metrics[1]])\n",
    "results=pd.DataFrame(results, columns=['config', 'model', 'acc', 'f1'])"
   ]
  },
  {
   "cell_type": "code",
   "execution_count": 26,
   "id": "ef009c22-01d4-476d-8c6d-e567544f8a95",
   "metadata": {},
   "outputs": [],
   "source": [
    "model='4o_mini'\n",
    "config='few_shot_with_heur_hint_all_cot'\n",
    "pred=np.load(f'base/{model}_cot/{model}_{config}.npy')\n",
    "proc_pred=post_processing(pred, model)\n",
    "index=np.where(proc_pred==2)[0]"
   ]
  },
  {
   "cell_type": "code",
   "execution_count": 30,
   "id": "941650f0-bea9-499e-a2cb-ef4504cc280d",
   "metadata": {},
   "outputs": [
    {
     "name": "stdout",
     "output_type": "stream",
     "text": [
      "To determine whether the sidewalk runs alongside the road based on the provided conditions, we will evaluate the following steps:\n",
      "\n",
      "1. **Extract Coordinates**: \n",
      "   - Sidewalk coordinates: \n",
      "     ```\n",
      "     [[-122.10419000000002, 47.55392949999999], \n",
      "      [-122.1041552, 47.553988100000005], \n",
      "      [-122.1040971, 47.554099499999985], \n",
      "      [-122.1040119, 47.5542421], \n",
      "      [-122.1039511, 47.5543572], \n",
      "      [-122.10393710000001, 47.554414699999995], \n",
      "      [-122.1039292, 47.5544353], \n",
      "      [-122.10391910000001, 47.55444569999999], \n",
      "      [-122.103895, 47.554466499999975], \n",
      "      [-122.10387349999999, 47.5544882], \n",
      "      [-122.10386210000001, 47.5545036], \n",
      "      [-122.10385670000001, 47.55451719999999], \n",
      "      [-122.10385610000002, 47.55454609999999], \n",
      "      [-122.10386080000002, 47.55457099999999], \n",
      "      [-122.1038695, 47.55459230000001], \n",
      "      [-122.1038782, 47.5546077], \n",
      "      [-122.1039043, 47.55462709999999], \n",
      "      [-122.10393649999999, 47.554646999999996], \n",
      "      [-122.1039681, 47.5546602], \n",
      "      [-122.1040036, 47.554667399999985], \n",
      "      [-122.1040405, 47.55466919999999]]\n",
      "     ```\n",
      "   - Road coordinates: \n",
      "     ```\n",
      "     [[-122.1043227, 47.5538671], \n",
      "      [-122.1042353, 47.5540109], \n",
      "      [-122.104132, 47.5542024], \n",
      "      [-122.1040412, 47.5543652], \n",
      "      [-122.1040308, 47.5544096], \n",
      "      [-122.1040335, 47.5544712], \n",
      "      [-122.1040467, 47.5545295]]\n",
      "     ```\n",
      "\n",
      "2. **Calculate Orientations**:\n",
      "   - The orientation of a line can be calculated using the angle between the first and last points of the line. \n",
      "   - For the sidewalk, the angle can be calculated using the coordinates of the first and last points.\n",
      "   - For the road, the same calculation applies.\n",
      "\n",
      "3. **Check Parallelism**:\n",
      "   - Calculate the angle difference between the sidewalk and road orientations. If the angle difference is small (let's say less than 10 degrees), they are considered approximately parallel.\n",
      "\n",
      "4. **Check Clearance**:\n",
      "   - Ensure that the sidewalk and road do not overlap or intersect. This can be checked using geometric libraries that can determine if two lines intersect.\n",
      "   - Additionally, check that the distance between the two lines is greater than a specified clearance distance (e.g., 1 meter).\n",
      "\n",
      "5. **Check Overlap with Buffers**:\n",
      "   - Create a buffer of 10 meters around both the sidewalk and road geometries.\n",
      "   - Check if there is any overlap between these two buffered geometries.\n",
      "\n",
      "Now, let's perform these calculations step by step:\n",
      "\n",
      "### Step 1: Calculate Orientations\n",
      "- **Sidewalk Orientation**:\n",
      "  - Start point: (-122.10419000000002, 47.55392949999999)\n",
      "  - End point: (-122.1040405, 47.55466919999999)\n",
      "  \n",
      "  The slope (rise/run) can be calculated as:\n",
      "  ```\n",
      "  rise = 47.55466919999999 - 47.55392949999999\n",
      "  run = -122.1040405 - (-122.10419000000002)\n",
      "  ```\n",
      "  \n",
      "- **Road Orientation**:\n",
      "  - Start point: (-122.1043227, 47.5538671)\n",
      "  - End point: (-122.1040467, 47.5545295)\n",
      "  \n",
      "  The slope can be calculated similarly.\n",
      "\n",
      "### Step 2: Check Parallelism\n",
      "- Calculate the angle for both the sidewalk and road using the arctangent of the slope and check the difference.\n",
      "\n",
      "### Step 3: Check Clearance\n",
      "- Use geometric libraries to check for intersection and calculate the distance between the two lines.\n",
      "\n",
      "### Step 4\n"
     ]
    }
   ],
   "source": [
    "print(pred[index[6]])"
   ]
  }
 ],
 "metadata": {
  "kernelspec": {
   "display_name": "Python 3 (ipykernel)",
   "language": "python",
   "name": "python3"
  },
  "language_info": {
   "codemirror_mode": {
    "name": "ipython",
    "version": 3
   },
   "file_extension": ".py",
   "mimetype": "text/x-python",
   "name": "python",
   "nbconvert_exporter": "python",
   "pygments_lexer": "ipython3",
   "version": "3.10.15"
  }
 },
 "nbformat": 4,
 "nbformat_minor": 5
}
