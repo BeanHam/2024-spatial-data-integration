{
 "cells": [
  {
   "cell_type": "code",
   "execution_count": 1,
   "id": "6d37fe41",
   "metadata": {},
   "outputs": [],
   "source": [
    "import numpy as np\n",
    "from itertools import product\n",
    "from collections import Counter\n",
    "from datasets import load_dataset\n",
    "from sklearn.metrics import accuracy_score, confusion_matrix, f1_score"
   ]
  },
  {
   "cell_type": "code",
   "execution_count": 2,
   "id": "ff555aab-6b7c-423c-b022-bfe8b29d0a99",
   "metadata": {},
   "outputs": [],
   "source": [
    "def metric_calculation(pred, gt):    \n",
    "    acc=accuracy_score(gt, pred)\n",
    "    f1=f1_score(gt, pred, average='macro')\n",
    "    confusion=confusion_matrix(gt, pred)\n",
    "    fpr=confusion[0,1]/len(gt) ## predict to be 1; actual 0\n",
    "    fnr=confusion[1,0]/len(gt) ## predict to be 0; actual 1\n",
    "    return acc, f1, fpr, fnr"
   ]
  },
  {
   "cell_type": "code",
   "execution_count": 3,
   "id": "9a145510-b475-4e84-908a-f0fdae6d4df1",
   "metadata": {},
   "outputs": [],
   "source": [
    "def post_processing(pred):\n",
    "    new_pred=[]\n",
    "    for i in pred:\n",
    "        i=i.lower()\n",
    "        if 'response' in i:\n",
    "            try: new_pred.append(i.split('response')[1].split()[1].replace('</s>', ''))\n",
    "            except: new_pred.append(2)\n",
    "        elif 'output' in i:\n",
    "            try: new_pred.append(i.split('output')[1].split()[1].replace('</s>', ''))\n",
    "            except: new_pred.append(2)\n",
    "        else:\n",
    "            try: new_pred.append(i.split()[0].replace('</s>', ''))\n",
    "            except:new_pred.append(2)\n",
    "    new_pred = np.array([int(float(i)) if i in ['0', '0.0', '1', '1.0'] else 2 for i in new_pred])\n",
    "    return new_pred"
   ]
  },
  {
   "cell_type": "code",
   "execution_count": 4,
   "id": "75203cf5-8684-4f5c-a3f9-a2f6428c5ae9",
   "metadata": {},
   "outputs": [],
   "source": [
    "ds = load_dataset(\"beanham/spatial_join_dataset\")\n",
    "test=ds['test']\n",
    "gt=np.array(test['label'])\n",
    "## evaluate on a subset\n",
    "np.random.seed(100)\n",
    "index=np.random.randint(0, len(test), 1000)"
   ]
  },
  {
   "cell_type": "markdown",
   "id": "0cedb7f0-d34b-48ad-968f-39d7c9c3a064",
   "metadata": {},
   "source": [
    "### 4o_mini"
   ]
  },
  {
   "cell_type": "code",
   "execution_count": 5,
   "id": "f5f430ea-5d16-4ea0-9210-3a6cbb083ad6",
   "metadata": {},
   "outputs": [
    {
     "name": "stdout",
     "output_type": "stream",
     "text": [
      "----------------------------------\n",
      "Threshold: 1...\n",
      "Heuristics:  0.8572825024437928\n",
      "Zero-Shot-Comb:    0.946\n",
      "Few-Shot-Comb:     0.949\n",
      "----------------------------------\n",
      "Threshold: 2...\n",
      "Heuristics:  0.90257412838058\n",
      "Zero-Shot-Comb:    0.946\n",
      "Few-Shot-Comb:     0.948\n",
      "----------------------------------\n",
      "Threshold: 5...\n",
      "Heuristics:  0.9377647442163571\n",
      "Zero-Shot-Comb:    0.948\n",
      "Few-Shot-Comb:     0.948\n",
      "----------------------------------\n",
      "Threshold: 10...\n",
      "Heuristics:  0.9433040078201369\n",
      "Zero-Shot-Comb:    0.95\n",
      "Few-Shot-Comb:     0.948\n",
      "----------------------------------\n",
      "Threshold: 20...\n",
      "Heuristics:  0.9354838709677419\n",
      "Zero-Shot-Comb:    0.941\n",
      "Few-Shot-Comb:     0.94\n"
     ]
    }
   ],
   "source": [
    "model='4o_mini'\n",
    "for threshold in [1,2,5,10,20]:\n",
    "    print('----------------------------------')\n",
    "    print(f'Threshold: {threshold}...')\n",
    "    zero_shot_comb=np.load(f'base/4o_mini_ec/4o_mini_degree_{threshold}_zero_shot_with_heur_value_comb_ec.npy')\n",
    "    few_shot_comb=np.load(f'base/4o_mini_ec/4o_mini_degree_{threshold}_few_shot_with_heur_value_comb_ec.npy')\n",
    "    zero_shot_comb=post_processing(zero_shot_comb)\n",
    "    few_shot_comb=post_processing(few_shot_comb)\n",
    "    print(f'Heuristics: ', metric_calculation(np.array(test['min_angle'])<=threshold, gt)[0])\n",
    "    print(f'Zero-Shot-Comb:   ', metric_calculation(zero_shot_comb[index], gt[index])[0])\n",
    "    print(f'Few-Shot-Comb:    ', metric_calculation(few_shot_comb[index], gt[index])[0])"
   ]
  },
  {
   "cell_type": "markdown",
   "id": "ad204455-0e13-477e-8bb9-956d45d6380a",
   "metadata": {},
   "source": [
    "### qwen"
   ]
  },
  {
   "cell_type": "code",
   "execution_count": 7,
   "id": "834067ce-0c39-4b70-9cdf-abd13dda556d",
   "metadata": {},
   "outputs": [
    {
     "name": "stdout",
     "output_type": "stream",
     "text": [
      "----------------------------------\n",
      "Threshold: 1...\n",
      "Heuristics:  0.8572825024437928\n",
      "Zero-Shot-Comb:    0.913\n",
      "Few-Shot-Comb:     0.95\n"
     ]
    }
   ],
   "source": [
    "for threshold in [1]:#,2,5,10,20]:\n",
    "    print('----------------------------------')\n",
    "    print(f'Threshold: {threshold}...')\n",
    "    zero_shot_comb=np.load(f'base/qwen_ec/qwen_degree_{threshold}_zero_shot_with_heur_value_comb_ec.npy')\n",
    "    few_shot_comb=np.load(f'base/qwen_ec/qwen_degree_{threshold}_few_shot_with_heur_value_comb_ec.npy')    \n",
    "    zero_shot_comb=post_processing(zero_shot_comb)\n",
    "    few_shot_comb=post_processing(few_shot_comb)\n",
    "    print(f'Heuristics: ', metric_calculation(np.array(test['min_angle'])<=threshold, gt)[0])    \n",
    "    print(f'Zero-Shot-Comb:   ', metric_calculation(zero_shot_comb, gt[index])[0])\n",
    "    print(f'Few-Shot-Comb:    ', metric_calculation(few_shot_comb, gt[index])[0])"
   ]
  }
 ],
 "metadata": {
  "kernelspec": {
   "display_name": "Python 3 (ipykernel)",
   "language": "python",
   "name": "python3"
  },
  "language_info": {
   "codemirror_mode": {
    "name": "ipython",
    "version": 3
   },
   "file_extension": ".py",
   "mimetype": "text/x-python",
   "name": "python",
   "nbconvert_exporter": "python",
   "pygments_lexer": "ipython3",
   "version": "3.10.15"
  }
 },
 "nbformat": 4,
 "nbformat_minor": 5
}
