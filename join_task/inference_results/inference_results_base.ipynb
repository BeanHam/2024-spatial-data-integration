{
 "cells": [
  {
   "cell_type": "code",
   "execution_count": 1,
   "id": "6d37fe41",
   "metadata": {},
   "outputs": [],
   "source": [
    "import numpy as np\n",
    "from collections import Counter\n",
    "from datasets import load_dataset,concatenate_datasets\n",
    "from sklearn.metrics import accuracy_score, confusion_matrix"
   ]
  },
  {
   "cell_type": "code",
   "execution_count": 2,
   "id": "ac231661-2663-44fd-b5ef-00a2c57b01ac",
   "metadata": {},
   "outputs": [],
   "source": [
    "ds = load_dataset(\"beanham/spatial_join_dataset\")\n",
    "test=ds['test']\n",
    "gt=np.array(test['label'])"
   ]
  },
  {
   "cell_type": "markdown",
   "id": "617c2ca8-cad7-4707-b7f3-2d98e75e0d6e",
   "metadata": {},
   "source": [
    "### llama"
   ]
  },
  {
   "cell_type": "code",
   "execution_count": 5,
   "id": "d93b0afd-f8b1-4db3-97a0-29e8957535a2",
   "metadata": {},
   "outputs": [],
   "source": [
    "zero_no_exp=np.load('base/llama3/llama3_zero_shot_no_exp.npy')\n",
    "zero_with_exp=np.load('base/llama3/llama3_zero_shot_with_exp.npy')\n",
    "few_no_exp=np.load('base/llama3/llama3_few_shot_no_exp.npy')\n",
    "few_with_exp=np.load('base/llama3/llama3_few_shot_with_exp.npy')\n",
    "\n",
    "## post-processing\n",
    "zero_no_exp = np.array([i.split('Response')[1].split('\\n')[1] if 'Response' in i else i.split()[0] for i in zero_no_exp])\n",
    "zero_with_exp = np.array([i.split('Response')[1].split('\\n')[1] if 'Response' in i else i.split()[0] for i in zero_with_exp])\n",
    "few_no_exp = np.array([i.split('}')[0].replace('{','') if '{' in i else i.split()[0] for i in few_no_exp])\n",
    "few_with_exp = np.array([i.split('}')[0].replace('{','') if '{' in i else i.split()[0] for i in few_with_exp])\n",
    "\n",
    "zero_no_exp = [int(float(i)) if i in ['0', '0.0', '1', '1.0'] else 2 for i in zero_no_exp]\n",
    "zero_with_exp = [int(float(i)) if i in ['0', '0.0', '1', '1.0'] else 2 for i in zero_with_exp]\n",
    "few_no_exp = [int(float(i)) if i in ['0', '0.0', '1', '1.0'] else 2 for i in few_no_exp]\n",
    "few_with_exp = [int(float(i)) if i in ['0', '0.0', '1', '1.0'] else 2 for i in few_with_exp]"
   ]
  },
  {
   "cell_type": "code",
   "execution_count": 6,
   "id": "119db32a-e7a6-41c4-bbb0-7c072adae88a",
   "metadata": {},
   "outputs": [
    {
     "name": "stdout",
     "output_type": "stream",
     "text": [
      "Zero Shot, No Heuristics 0.47409579667644186\n",
      "Zero Shot, With Heuristics 0.5294884327142392\n",
      "Few Shot, No Heuristics 0.47768002606712284\n",
      "Few Shot, With Heuristics 0.6168132942326491\n"
     ]
    }
   ],
   "source": [
    "print('Zero Shot, No Heuristics', (zero_no_exp==gt).mean())\n",
    "print('Zero Shot, With Heuristics', (zero_with_exp==gt).mean())\n",
    "print('Few Shot, No Heuristics', (few_no_exp==gt).mean())\n",
    "print('Few Shot, With Heuristics', (few_with_exp==gt).mean())"
   ]
  },
  {
   "cell_type": "markdown",
   "id": "18fc3f81-6cd4-407e-847a-b3e6927f9da7",
   "metadata": {},
   "source": [
    "### mistral"
   ]
  },
  {
   "cell_type": "code",
   "execution_count": 76,
   "id": "b58291a7-af1f-4b55-9b56-d64042d833d2",
   "metadata": {},
   "outputs": [],
   "source": [
    "zero_no_exp=np.load('base/mistral/mistral_zero_shot_no_exp.npy')\n",
    "zero_with_exp=np.load('base/mistral/mistral_zero_shot_with_exp.npy')\n",
    "few_no_exp=np.load('base/mistral/mistral_few_shot_no_exp.npy')\n",
    "few_with_exp=np.load('base/mistral/mistral_few_shot_with_exp.npy')\n",
    "\n",
    "## post-processing\n",
    "zero_no_exp = np.array([i.split('Response')[1].split('\\n')[1].replace('</s>', '') if 'Response' in i else i.split()[0].replace('</s>', '') for i in zero_no_exp])\n",
    "zero_with_exp = np.array([i.split('Response')[1].split('\\n')[1].replace('</s>', '') if 'Response' in i else i.split()[0].replace('</s>', '') for i in zero_with_exp])\n",
    "few_no_exp = np.array([i.split('Response')[1].split('}')[0].split('{')[1] if 'Response' in i else i.split('}')[0].replace('{','') if '{' in i else i.split()[0] for i in few_no_exp])\n",
    "few_with_exp = np.array([i.split('Response')[1].split('}')[0].split('{')[1] if 'Response' in i else i.split('}')[0].replace('{','') if '{' in i else i.split()[0] for i in few_with_exp])\n",
    "\n",
    "zero_no_exp = [int(float(i)) if i in ['0', '0.0', '1', '1.0'] else 2 for i in zero_no_exp]\n",
    "zero_with_exp = [int(float(i)) if i in ['0', '0.0', '1', '1.0'] else 2 for i in zero_with_exp]\n",
    "few_no_exp = [int(float(i)) if i in ['0', '0.0', '1', '1.0'] else 2 for i in few_no_exp]\n",
    "few_with_exp = [int(float(i)) if i in ['0', '0.0', '1', '1.0'] else 2 for i in few_with_exp]"
   ]
  },
  {
   "cell_type": "code",
   "execution_count": 77,
   "id": "ba94a846-cb05-4719-83d3-5db91e24ce56",
   "metadata": {},
   "outputs": [
    {
     "name": "stdout",
     "output_type": "stream",
     "text": [
      "Zero Shot, No Heuristics 0.6008471814923427\n",
      "Zero Shot, With Heuristics 0.6008471814923427\n",
      "Few Shot, No Heuristics 0.5158031932225481\n",
      "Few Shot, With Heuristics 0.5187357445421962\n"
     ]
    }
   ],
   "source": [
    "print('Zero Shot, No Heuristics', (zero_no_exp==gt).mean())\n",
    "print('Zero Shot, With Heuristics', (zero_with_exp==gt).mean())\n",
    "print('Few Shot, No Heuristics', (few_no_exp==gt).mean())\n",
    "print('Few Shot, With Heuristics', (few_with_exp==gt).mean())"
   ]
  }
 ],
 "metadata": {
  "kernelspec": {
   "display_name": "Python 3 (ipykernel)",
   "language": "python",
   "name": "python3"
  },
  "language_info": {
   "codemirror_mode": {
    "name": "ipython",
    "version": 3
   },
   "file_extension": ".py",
   "mimetype": "text/x-python",
   "name": "python",
   "nbconvert_exporter": "python",
   "pygments_lexer": "ipython3",
   "version": "3.10.15"
  }
 },
 "nbformat": 4,
 "nbformat_minor": 5
}
