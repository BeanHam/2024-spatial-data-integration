{
 "cells": [
  {
   "cell_type": "code",
   "execution_count": 1,
   "id": "6d37fe41",
   "metadata": {},
   "outputs": [],
   "source": [
    "import numpy as np\n",
    "import pandas as pd\n",
    "import seaborn as sns\n",
    "import seaborn.objects as so\n",
    "import matplotlib.pyplot as plt\n",
    "import matplotlib.patches as mpatches\n",
    "from datasets import load_dataset,concatenate_datasets\n",
    "from sklearn.metrics import accuracy_score, confusion_matrix"
   ]
  },
  {
   "cell_type": "code",
   "execution_count": 96,
   "id": "ac231661-2663-44fd-b5ef-00a2c57b01ac",
   "metadata": {},
   "outputs": [],
   "source": [
    "ds = load_dataset(\"beanham/spatial_join_dataset\")\n",
    "test=ds['test']\n",
    "gt=np.array(test['label'][:10])"
   ]
  },
  {
   "cell_type": "code",
   "execution_count": 97,
   "id": "1b299b0a-bb9e-4786-8267-bd59c08daae6",
   "metadata": {},
   "outputs": [],
   "source": [
    "zero_no_exp=np.load('base/llama3/llama3_zero_shot_no_exp.npy')\n",
    "zero_with_exp=np.load('base/llama3/llama3_zero_shot_with_exp.npy')\n",
    "few_no_exp=np.load('base/llama3/llama3_few_shot_no_exp.npy')\n",
    "few_with_exp=np.load('base/llama3/llama3_few_shot_with_exp.npy')"
   ]
  },
  {
   "cell_type": "code",
   "execution_count": 98,
   "id": "7767a447-e7a4-45fe-8de6-5a5045cd5acc",
   "metadata": {},
   "outputs": [],
   "source": [
    "zero_no_exp_pred = np.array([int(float(i.split('Response')[1].split('\\n')[1])) for i in zero_no_exp])\n",
    "zero_with_exp_pred = np.array([int(float(i.split('Response')[1].split('\\n')[1])) for i in zero_with_exp])\n",
    "few_no_exp_pred = np.array([int(float(i.split('### Response')[1].split('}')[0].replace('{','').replace(':','').strip())) for i in few_no_exp])\n",
    "few_with_exp_pred = np.array([int(float(i.split('### Response')[1].split('}')[0].replace('{','').replace(':','').strip())) for i in few_with_exp])"
   ]
  },
  {
   "cell_type": "code",
   "execution_count": 103,
   "id": "119db32a-e7a6-41c4-bbb0-7c072adae88a",
   "metadata": {},
   "outputs": [
    {
     "name": "stdout",
     "output_type": "stream",
     "text": [
      "Zero Shot, No Heuristics 0.4\n",
      "Zero Shot, With Heuristics 0.4\n",
      "Few Shot, No Heuristics 0.4\n",
      "Few Shot, With Heuristics 0.6\n"
     ]
    }
   ],
   "source": [
    "print('Zero Shot, No Heuristics', (zero_no_exp_pred==gt).mean())\n",
    "print('Zero Shot, With Heuristics', (zero_with_exp_pred==gt).mean())\n",
    "print('Few Shot, No Heuristics', (few_no_exp_pred==gt).mean())\n",
    "print('Few Shot, With Heuristics', (few_with_exp_pred==gt).mean())"
   ]
  }
 ],
 "metadata": {
  "kernelspec": {
   "display_name": "Python 3 (ipykernel)",
   "language": "python",
   "name": "python3"
  },
  "language_info": {
   "codemirror_mode": {
    "name": "ipython",
    "version": 3
   },
   "file_extension": ".py",
   "mimetype": "text/x-python",
   "name": "python",
   "nbconvert_exporter": "python",
   "pygments_lexer": "ipython3",
   "version": "3.10.15"
  }
 },
 "nbformat": 4,
 "nbformat_minor": 5
}
