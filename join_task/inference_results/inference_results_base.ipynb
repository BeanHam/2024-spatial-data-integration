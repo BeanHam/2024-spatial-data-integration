{
 "cells": [
  {
   "cell_type": "code",
   "execution_count": 1,
   "id": "6d37fe41",
   "metadata": {},
   "outputs": [],
   "source": [
    "import numpy as np\n",
    "import pandas as pd\n",
    "from itertools import product\n",
    "from collections import Counter\n",
    "from datasets import load_dataset\n",
    "from sklearn.metrics import accuracy_score, confusion_matrix, f1_score"
   ]
  },
  {
   "cell_type": "code",
   "execution_count": 2,
   "id": "ff555aab-6b7c-423c-b022-bfe8b29d0a99",
   "metadata": {},
   "outputs": [],
   "source": [
    "def metric_calculation(pred, gt):    \n",
    "    acc=accuracy_score(gt, pred)\n",
    "    f1=f1_score(gt, pred, average='macro')\n",
    "    confusion=confusion_matrix(gt, pred)\n",
    "    fpr=confusion[0,1]/len(gt) ## predict to be 1; actual 0\n",
    "    fnr=confusion[1,0]/len(gt) ## predict to be 0; actual 1\n",
    "    return acc, f1, fpr, fnr"
   ]
  },
  {
   "cell_type": "code",
   "execution_count": 3,
   "id": "9a145510-b475-4e84-908a-f0fdae6d4df1",
   "metadata": {},
   "outputs": [],
   "source": [
    "def post_processing(pred):\n",
    "    new_pred=[]\n",
    "    for i in pred:\n",
    "        i=i.lower()\n",
    "        if 'response' in i:\n",
    "            try: new_pred.append(i.split('response')[1].split()[1].replace('</s>', ''))\n",
    "            except: new_pred.append(2)\n",
    "        elif 'output' in i:\n",
    "            try: new_pred.append(i.split('output')[1].split()[1].replace('</s>', ''))\n",
    "            except: new_pred.append(2)\n",
    "        else:\n",
    "            try: new_pred.append(i.split()[0].replace('</s>', ''))\n",
    "            except:new_pred.append(2)\n",
    "    new_pred = np.array([int(float(i)) if i in ['0', '0.0', '1', '1.0'] else 2 for i in new_pred])\n",
    "    return new_pred"
   ]
  },
  {
   "cell_type": "code",
   "execution_count": 4,
   "id": "75203cf5-8684-4f5c-a3f9-a2f6428c5ae9",
   "metadata": {},
   "outputs": [],
   "source": [
    "ds = load_dataset(\"beanham/spatial_join_dataset\")\n",
    "test=ds['test']\n",
    "gt=np.array(test['label'])"
   ]
  },
  {
   "cell_type": "code",
   "execution_count": 5,
   "id": "1f92d655-cc0c-48d9-92fb-4f238d3932fb",
   "metadata": {},
   "outputs": [],
   "source": [
    "models = ['llama3', '4o_mini', 'gemini', 'qwen']\n",
    "methods = ['zero_shot', 'few_shot'] \n",
    "modes = ['no_heur', 'with_heur_hint', 'with_heur_value']\n",
    "heuristics = ['angle', 'distance', 'comb']\n",
    "configs=['_'.join(i) for i in list(product(methods, modes, heuristics))]\n",
    "configs.remove('zero_shot_no_heur_angle')\n",
    "configs.remove('zero_shot_no_heur_distance')\n",
    "configs.remove('zero_shot_no_heur_comb')\n",
    "configs.remove('few_shot_no_heur_angle')\n",
    "configs.remove('few_shot_no_heur_distance')\n",
    "configs.remove('few_shot_no_heur_comb')\n",
    "configs.insert(0, 'zero_shot_no_heur')\n",
    "configs.insert(7, 'few_shot_no_heur')"
   ]
  },
  {
   "cell_type": "code",
   "execution_count": 22,
   "id": "9f7abd5d-899c-4d85-b9ec-5a90a79e2a3e",
   "metadata": {},
   "outputs": [],
   "source": [
    "## evaluate on a subset\n",
    "np.random.seed(100)\n",
    "index=np.random.randint(0, len(test), 1000)"
   ]
  },
  {
   "cell_type": "code",
   "execution_count": 23,
   "id": "e438e09a-7f6a-4f31-a1ca-f601ea59fc8f",
   "metadata": {},
   "outputs": [
    {
     "data": {
      "text/plain": [
       "array([1544, 2840, 1859,   79, 1930,  350, 1972, 1890,   53, 1602])"
      ]
     },
     "execution_count": 23,
     "metadata": {},
     "output_type": "execute_result"
    }
   ],
   "source": [
    "index[:10]"
   ]
  },
  {
   "cell_type": "code",
   "execution_count": 8,
   "id": "2e958cbb-f5c2-4185-ac19-85492c2d0e7e",
   "metadata": {},
   "outputs": [
    {
     "name": "stdout",
     "output_type": "stream",
     "text": [
      "1 0.867 0.8649569334461061\n",
      "2 0.908 0.9047760996290408\n",
      "5 0.946 0.9429281655844156\n",
      "10 0.948 0.9445921985815603\n",
      "20 0.934 0.9288927961938254\n"
     ]
    }
   ],
   "source": [
    "## heuristcis\n",
    "for i in [1,2,5,10,20]:\n",
    "    pred=np.array(test['min_angle'])<=i\n",
    "    metrics=metric_calculation(pred[index], gt[index])\n",
    "    print(i, metrics[0], metrics[1])"
   ]
  },
  {
   "cell_type": "code",
   "execution_count": 9,
   "id": "f94a8d8a-cb9a-465f-af87-ab69e68b526b",
   "metadata": {},
   "outputs": [
    {
     "name": "stdout",
     "output_type": "stream",
     "text": [
      "Model: llama3...\n",
      "Model: 4o_mini...\n",
      "Model: gemini...\n",
      "Model: qwen...\n"
     ]
    }
   ],
   "source": [
    "results=[]\n",
    "for model in models:\n",
    "    print(f'Model: {model}...')\n",
    "    for config in configs:\n",
    "        pred=np.load(f'base/{model}/{model}_{config}.npy')\n",
    "        pred=post_processing(pred)        \n",
    "        metrics=metric_calculation(pred[index], gt[index])\n",
    "        results.append([config, model, metrics[0], metrics[1]])\n",
    "results=pd.DataFrame(results, columns=['config', 'model', 'acc', 'f1'])"
   ]
  },
  {
   "cell_type": "code",
   "execution_count": 10,
   "id": "cbbfa7bb-aa7a-458f-8dfd-5f83ea3a7ec8",
   "metadata": {},
   "outputs": [
    {
     "data": {
      "text/html": [
       "<div>\n",
       "<style scoped>\n",
       "    .dataframe tbody tr th:only-of-type {\n",
       "        vertical-align: middle;\n",
       "    }\n",
       "\n",
       "    .dataframe tbody tr th {\n",
       "        vertical-align: top;\n",
       "    }\n",
       "\n",
       "    .dataframe thead th {\n",
       "        text-align: right;\n",
       "    }\n",
       "</style>\n",
       "<table border=\"1\" class=\"dataframe\">\n",
       "  <thead>\n",
       "    <tr style=\"text-align: right;\">\n",
       "      <th></th>\n",
       "      <th>config</th>\n",
       "      <th>model</th>\n",
       "      <th>acc</th>\n",
       "      <th>f1</th>\n",
       "    </tr>\n",
       "  </thead>\n",
       "  <tbody>\n",
       "    <tr>\n",
       "      <th>42</th>\n",
       "      <td>zero_shot_no_heur</td>\n",
       "      <td>qwen</td>\n",
       "      <td>0.603</td>\n",
       "      <td>0.392110</td>\n",
       "    </tr>\n",
       "    <tr>\n",
       "      <th>43</th>\n",
       "      <td>zero_shot_with_heur_hint_angle</td>\n",
       "      <td>qwen</td>\n",
       "      <td>0.645</td>\n",
       "      <td>0.496562</td>\n",
       "    </tr>\n",
       "    <tr>\n",
       "      <th>44</th>\n",
       "      <td>zero_shot_with_heur_hint_distance</td>\n",
       "      <td>qwen</td>\n",
       "      <td>0.609</td>\n",
       "      <td>0.405572</td>\n",
       "    </tr>\n",
       "    <tr>\n",
       "      <th>45</th>\n",
       "      <td>zero_shot_with_heur_hint_comb</td>\n",
       "      <td>qwen</td>\n",
       "      <td>0.676</td>\n",
       "      <td>0.564495</td>\n",
       "    </tr>\n",
       "    <tr>\n",
       "      <th>46</th>\n",
       "      <td>zero_shot_with_heur_value_angle</td>\n",
       "      <td>qwen</td>\n",
       "      <td>0.946</td>\n",
       "      <td>0.942522</td>\n",
       "    </tr>\n",
       "    <tr>\n",
       "      <th>47</th>\n",
       "      <td>zero_shot_with_heur_value_distance</td>\n",
       "      <td>qwen</td>\n",
       "      <td>0.732</td>\n",
       "      <td>0.656840</td>\n",
       "    </tr>\n",
       "    <tr>\n",
       "      <th>48</th>\n",
       "      <td>zero_shot_with_heur_value_comb</td>\n",
       "      <td>qwen</td>\n",
       "      <td>0.950</td>\n",
       "      <td>0.946998</td>\n",
       "    </tr>\n",
       "    <tr>\n",
       "      <th>49</th>\n",
       "      <td>few_shot_no_heur</td>\n",
       "      <td>qwen</td>\n",
       "      <td>0.633</td>\n",
       "      <td>0.565963</td>\n",
       "    </tr>\n",
       "    <tr>\n",
       "      <th>50</th>\n",
       "      <td>few_shot_with_heur_hint_angle</td>\n",
       "      <td>qwen</td>\n",
       "      <td>0.682</td>\n",
       "      <td>0.657786</td>\n",
       "    </tr>\n",
       "    <tr>\n",
       "      <th>51</th>\n",
       "      <td>few_shot_with_heur_hint_distance</td>\n",
       "      <td>qwen</td>\n",
       "      <td>0.679</td>\n",
       "      <td>0.655147</td>\n",
       "    </tr>\n",
       "    <tr>\n",
       "      <th>52</th>\n",
       "      <td>few_shot_with_heur_hint_comb</td>\n",
       "      <td>qwen</td>\n",
       "      <td>0.663</td>\n",
       "      <td>0.649679</td>\n",
       "    </tr>\n",
       "    <tr>\n",
       "      <th>53</th>\n",
       "      <td>few_shot_with_heur_value_angle</td>\n",
       "      <td>qwen</td>\n",
       "      <td>0.936</td>\n",
       "      <td>0.931127</td>\n",
       "    </tr>\n",
       "    <tr>\n",
       "      <th>54</th>\n",
       "      <td>few_shot_with_heur_value_distance</td>\n",
       "      <td>qwen</td>\n",
       "      <td>0.845</td>\n",
       "      <td>0.822936</td>\n",
       "    </tr>\n",
       "    <tr>\n",
       "      <th>55</th>\n",
       "      <td>few_shot_with_heur_value_comb</td>\n",
       "      <td>qwen</td>\n",
       "      <td>0.941</td>\n",
       "      <td>0.936758</td>\n",
       "    </tr>\n",
       "  </tbody>\n",
       "</table>\n",
       "</div>"
      ],
      "text/plain": [
       "                                config model    acc        f1\n",
       "42                   zero_shot_no_heur  qwen  0.603  0.392110\n",
       "43      zero_shot_with_heur_hint_angle  qwen  0.645  0.496562\n",
       "44   zero_shot_with_heur_hint_distance  qwen  0.609  0.405572\n",
       "45       zero_shot_with_heur_hint_comb  qwen  0.676  0.564495\n",
       "46     zero_shot_with_heur_value_angle  qwen  0.946  0.942522\n",
       "47  zero_shot_with_heur_value_distance  qwen  0.732  0.656840\n",
       "48      zero_shot_with_heur_value_comb  qwen  0.950  0.946998\n",
       "49                    few_shot_no_heur  qwen  0.633  0.565963\n",
       "50       few_shot_with_heur_hint_angle  qwen  0.682  0.657786\n",
       "51    few_shot_with_heur_hint_distance  qwen  0.679  0.655147\n",
       "52        few_shot_with_heur_hint_comb  qwen  0.663  0.649679\n",
       "53      few_shot_with_heur_value_angle  qwen  0.936  0.931127\n",
       "54   few_shot_with_heur_value_distance  qwen  0.845  0.822936\n",
       "55       few_shot_with_heur_value_comb  qwen  0.941  0.936758"
      ]
     },
     "execution_count": 10,
     "metadata": {},
     "output_type": "execute_result"
    }
   ],
   "source": [
    "results[results.model=='qwen']"
   ]
  }
 ],
 "metadata": {
  "kernelspec": {
   "display_name": "Python 3 (ipykernel)",
   "language": "python",
   "name": "python3"
  },
  "language_info": {
   "codemirror_mode": {
    "name": "ipython",
    "version": 3
   },
   "file_extension": ".py",
   "mimetype": "text/x-python",
   "name": "python",
   "nbconvert_exporter": "python",
   "pygments_lexer": "ipython3",
   "version": "3.10.15"
  }
 },
 "nbformat": 4,
 "nbformat_minor": 5
}
