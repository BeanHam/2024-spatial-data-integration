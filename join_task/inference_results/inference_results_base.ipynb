{
 "cells": [
  {
   "cell_type": "code",
   "execution_count": 2,
   "id": "6d37fe41",
   "metadata": {},
   "outputs": [],
   "source": [
    "import numpy as np\n",
    "from collections import Counter\n",
    "from datasets import load_dataset,concatenate_datasets\n",
    "from sklearn.metrics import accuracy_score, confusion_matrix"
   ]
  },
  {
   "cell_type": "code",
   "execution_count": 3,
   "id": "ac231661-2663-44fd-b5ef-00a2c57b01ac",
   "metadata": {},
   "outputs": [],
   "source": [
    "ds = load_dataset(\"beanham/spatial_join_dataset\")\n",
    "test=ds['test']\n",
    "gt=np.array(test['label'])"
   ]
  },
  {
   "cell_type": "markdown",
   "id": "617c2ca8-cad7-4707-b7f3-2d98e75e0d6e",
   "metadata": {},
   "source": [
    "### llama"
   ]
  },
  {
   "cell_type": "code",
   "execution_count": 19,
   "id": "d93b0afd-f8b1-4db3-97a0-29e8957535a2",
   "metadata": {},
   "outputs": [],
   "source": [
    "zero_no_exp=np.load('base/llama3/llama3_zero_shot_no_exp.npy')\n",
    "few_no_exp=np.load('base/llama3/llama3_few_shot_no_exp.npy')\n",
    "\n",
    "## post-processing\n",
    "zero_no_exp = np.array([i.split('Response')[1].split('\\n')[1] if 'Response' in i else i.split()[0] for i in zero_no_exp])\n",
    "few_no_exp = np.array([i.split('}')[0].replace('{','') if '{' in i else i.split()[0] for i in few_no_exp])\n",
    "zero_no_exp = np.array([int(float(i)) if i in ['0', '0.0', '1', '1.0'] else 2 for i in zero_no_exp])\n",
    "few_no_exp = np.array([int(float(i)) if i in ['0', '0.0', '1', '1.0'] else 2 for i in few_no_exp])\n",
    "\n",
    "# metric \n",
    "zero_acc=accuracy_score(gt, zero_no_exp)\n",
    "few_acc=accuracy_score(gt, few_no_exp)\n",
    "zero_confusion=confusion_matrix(gt, zero_no_exp)\n",
    "few_confusion=confusion_matrix(gt, few_no_exp)\n",
    "zero_fpr=(zero_confusion[1,0]+zero_confusion[1,2])/len(test)\n",
    "zero_fnr=(zero_confusion[0,1]+zero_confusion[0,2])/len(test)\n",
    "few_fpr=(few_confusion[1,0]+few_confusion[1,2])/len(test)\n",
    "few_fnr=(few_confusion[0,1]+few_confusion[0,2])/len(test)"
   ]
  },
  {
   "cell_type": "code",
   "execution_count": 20,
   "id": "119db32a-e7a6-41c4-bbb0-7c072adae88a",
   "metadata": {},
   "outputs": [
    {
     "name": "stdout",
     "output_type": "stream",
     "text": [
      "Zero Shot, Acc 0.47409579667644186\n",
      "Zero Shot, FPR 0.3884001303356142\n",
      "Zero Shot, FNR 0.13750407298794395\n",
      "Few Shot, ACC 0.47768002606712284\n",
      "Few Shot, FPR 0.4975562072336266\n",
      "Few Shot, FNR 0.02476376669925057\n"
     ]
    }
   ],
   "source": [
    "print('Zero Shot, Acc', zero_acc)\n",
    "print('Zero Shot, FPR', zero_fpr)\n",
    "print('Zero Shot, FNR', zero_fnr)\n",
    "print('Few Shot, ACC', few_acc)\n",
    "print('Few Shot, FPR', few_fpr)\n",
    "print('Few Shot, FNR', few_fnr)"
   ]
  },
  {
   "cell_type": "markdown",
   "id": "18fc3f81-6cd4-407e-847a-b3e6927f9da7",
   "metadata": {},
   "source": [
    "### mistral"
   ]
  },
  {
   "cell_type": "code",
   "execution_count": 24,
   "id": "b58291a7-af1f-4b55-9b56-d64042d833d2",
   "metadata": {},
   "outputs": [],
   "source": [
    "zero_no_exp=np.load('base/mistral/mistral_zero_shot_no_exp.npy')\n",
    "few_no_exp=np.load('base/mistral/mistral_few_shot_no_exp.npy')\n",
    "\n",
    "## post-processing\n",
    "zero_no_exp = np.array([i.split('Response')[1].split('\\n')[1].replace('</s>', '') if 'Response' in i else i.split()[0].replace('</s>', '') for i in zero_no_exp])\n",
    "few_no_exp = np.array([i.split('Response')[1].split('}')[0].split('{')[1] if 'Response' in i else i.split('}')[0].replace('{','') if '{' in i else i.split()[0] for i in few_no_exp])\n",
    "zero_no_exp = np.array([int(float(i)) if i in ['0', '0.0', '1', '1.0'] else 2 for i in zero_no_exp])\n",
    "few_no_exp = np.array([int(float(i)) if i in ['0', '0.0', '1', '1.0'] else 2 for i in few_no_exp])\n",
    "\n",
    "# metric \n",
    "zero_acc=accuracy_score(gt, zero_no_exp)\n",
    "few_acc=accuracy_score(gt, few_no_exp)\n",
    "zero_confusion=confusion_matrix(gt, zero_no_exp)\n",
    "few_confusion=confusion_matrix(gt, few_no_exp)\n",
    "zero_fpr=(zero_confusion[1,0])/len(test)\n",
    "zero_fnr=(zero_confusion[0,1])/len(test)\n",
    "few_fpr=(few_confusion[1,0])/len(test)\n",
    "few_fnr=(few_confusion[0,1])/len(test)"
   ]
  },
  {
   "cell_type": "code",
   "execution_count": 25,
   "id": "ba94a846-cb05-4719-83d3-5db91e24ce56",
   "metadata": {},
   "outputs": [
    {
     "name": "stdout",
     "output_type": "stream",
     "text": [
      "Zero Shot, Acc 0.6008471814923427\n",
      "Zero Shot, FPR 0.0006516780710329097\n",
      "Zero Shot, FNR 0.3985011404366243\n",
      "Few Shot, ACC 0.5158031932225481\n",
      "Few Shot, FPR 0.4072987943955686\n",
      "Few Shot, FNR 0.07689801238188335\n"
     ]
    }
   ],
   "source": [
    "print('Zero Shot, Acc', zero_acc)\n",
    "print('Zero Shot, FPR', zero_fpr)\n",
    "print('Zero Shot, FNR', zero_fnr)\n",
    "print('Few Shot, ACC', few_acc)\n",
    "print('Few Shot, FPR', few_fpr)\n",
    "print('Few Shot, FNR', few_fnr)"
   ]
  },
  {
   "cell_type": "markdown",
   "id": "96785e98-3a55-47b1-b44c-5bc930b1bc2c",
   "metadata": {},
   "source": [
    "### 4o-mini"
   ]
  },
  {
   "cell_type": "code",
   "execution_count": 16,
   "id": "f7bf5a72-04e9-451d-9c81-9b9a266409b7",
   "metadata": {},
   "outputs": [],
   "source": [
    "zero_no_exp=np.load('base/4o_mini/4o_mini_zero_shot_no_exp.npy')\n",
    "few_no_exp=np.load('base/4o_mini/4o_mini_few_shot_no_exp.npy')\n",
    "\n",
    "## post-processing\n",
    "few_no_exp = np.array([i.split('}')[0].split('{')[1] for i in few_no_exp])\n",
    "zero_no_exp = np.array([int(float(i)) if i in ['0', '0.0', '1', '1.0'] else 2 for i in zero_no_exp])\n",
    "few_no_exp = np.array([int(float(i)) if i in ['0', '0.0', '1', '1.0'] else 2 for i in few_no_exp])\n",
    "\n",
    "# metric \n",
    "zero_acc=accuracy_score(gt, zero_no_exp)\n",
    "few_acc=accuracy_score(gt, few_no_exp)\n",
    "zero_confusion=confusion_matrix(gt, zero_no_exp)\n",
    "few_confusion=confusion_matrix(gt, few_no_exp)\n",
    "zero_fpr=(zero_confusion[1,0])/len(test)\n",
    "zero_fnr=(zero_confusion[0,1])/len(test)\n",
    "few_fpr=(few_confusion[1,0])/len(test)\n",
    "few_fnr=(few_confusion[0,1])/len(test)"
   ]
  },
  {
   "cell_type": "code",
   "execution_count": 18,
   "id": "36031fc2-5172-47f3-906d-fe285ce51b09",
   "metadata": {},
   "outputs": [
    {
     "name": "stdout",
     "output_type": "stream",
     "text": [
      "Zero Shot, Acc 0.4447702834799609\n",
      "Zero Shot, FPR 0.3831867057673509\n",
      "Zero Shot, FNR 0.17204301075268819\n",
      "Few Shot, ACC 0.5135223199739328\n",
      "Few Shot, FPR 0.27891821440208536\n",
      "Few Shot, FNR 0.20755946562398175\n"
     ]
    }
   ],
   "source": [
    "print('Zero Shot, Acc', zero_acc)\n",
    "print('Zero Shot, FPR', zero_fpr)\n",
    "print('Zero Shot, FNR', zero_fnr)\n",
    "print('Few Shot, ACC', few_acc)\n",
    "print('Few Shot, FPR', few_fpr)\n",
    "print('Few Shot, FNR', few_fnr)"
   ]
  }
 ],
 "metadata": {
  "kernelspec": {
   "display_name": "Python 3 (ipykernel)",
   "language": "python",
   "name": "python3"
  },
  "language_info": {
   "codemirror_mode": {
    "name": "ipython",
    "version": 3
   },
   "file_extension": ".py",
   "mimetype": "text/x-python",
   "name": "python",
   "nbconvert_exporter": "python",
   "pygments_lexer": "ipython3",
   "version": "3.10.15"
  }
 },
 "nbformat": 4,
 "nbformat_minor": 5
}
