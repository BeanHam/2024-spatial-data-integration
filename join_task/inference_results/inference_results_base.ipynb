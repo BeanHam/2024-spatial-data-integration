{
 "cells": [
  {
   "cell_type": "code",
   "execution_count": 1,
   "id": "6d37fe41",
   "metadata": {},
   "outputs": [],
   "source": [
    "import numpy as np\n",
    "from collections import Counter\n",
    "from datasets import load_dataset,concatenate_datasets\n",
    "from sklearn.metrics import accuracy_score, confusion_matrix"
   ]
  },
  {
   "cell_type": "code",
   "execution_count": 2,
   "id": "ac231661-2663-44fd-b5ef-00a2c57b01ac",
   "metadata": {},
   "outputs": [],
   "source": [
    "ds = load_dataset(\"beanham/spatial_join_dataset\")\n",
    "test=ds['test']\n",
    "gt=np.array(test['label'])"
   ]
  },
  {
   "cell_type": "code",
   "execution_count": 43,
   "id": "ff555aab-6b7c-423c-b022-bfe8b29d0a99",
   "metadata": {},
   "outputs": [],
   "source": [
    "def metric_calculation(pred, gt):\n",
    "    \n",
    "    acc=accuracy_score(gt, pred)    \n",
    "    confusion=confusion_matrix(gt, pred)\n",
    "    fpr=confusion[0,1]/len(gt) ## predict to be 1; actual 0\n",
    "    fnr=confusion[1,0]/len(gt) ## predict to be 0; actual 1\n",
    "    return acc, fpr, fnr"
   ]
  },
  {
   "cell_type": "markdown",
   "id": "617c2ca8-cad7-4707-b7f3-2d98e75e0d6e",
   "metadata": {},
   "source": [
    "### llama"
   ]
  },
  {
   "cell_type": "code",
   "execution_count": 53,
   "id": "285047a4-0567-4640-8cec-0b14ce78113c",
   "metadata": {},
   "outputs": [],
   "source": [
    "zero_no_exp=np.load('base/llama3/llama3_zero_shot_no_exp.npy')\n",
    "zero_with_exp=np.load('base/llama3/llama3_zero_shot_with_exp.npy')\n",
    "few_no_exp=np.load('base/llama3/llama3_few_shot_no_exp.npy')\n",
    "few_with_exp=np.load('base/llama3/llama3_few_shot_with_exp.npy')\n",
    "\n",
    "## post-processing\n",
    "zero_no_exp = np.array([i.split('Response')[1].split('\\n')[1] if 'Response' in i else i.split()[0] for i in zero_no_exp])\n",
    "few_no_exp = np.array([i.split('}')[0].replace('{','') if '{' in i else i.split()[0] for i in few_no_exp])\n",
    "zero_with_exp = np.array([i.split('Response')[1].split()[1] if 'Response' in i else i.split()[0] for i in zero_with_exp])\n",
    "few_with_exp = np.array([i.split('}')[0].replace('{','') if '{' in i else i.split()[0] for i in few_with_exp])\n",
    "zero_no_exp = np.array([int(float(i)) if i in ['0', '0.0', '1', '1.0'] else 2 for i in zero_no_exp])\n",
    "zero_with_exp = np.array([int(float(i)) if i in ['0', '0.0', '1', '1.0'] else 2 for i in zero_with_exp])\n",
    "few_no_exp = np.array([int(float(i)) if i in ['0', '0.0', '1', '1.0'] else 2 for i in few_no_exp])\n",
    "few_with_exp = np.array([int(float(i)) if i in ['0', '0.0', '1', '1.0'] else 2 for i in few_with_exp])"
   ]
  },
  {
   "cell_type": "code",
   "execution_count": 54,
   "id": "511faacd-329b-4acf-8a72-d391f9b3120e",
   "metadata": {},
   "outputs": [
    {
     "data": {
      "text/plain": [
       "(Counter({0: 1962, 1: 1062, 2: 45}),\n",
       " Counter({1: 1942, 0: 1125, 2: 2}),\n",
       " Counter({0: 2668, 1: 392, 2: 9}),\n",
       " Counter({1: 1722, 0: 1334, 2: 13}))"
      ]
     },
     "execution_count": 54,
     "metadata": {},
     "output_type": "execute_result"
    }
   ],
   "source": [
    "Counter(zero_no_exp), Counter(zero_with_exp), Counter(few_no_exp), Counter(few_with_exp)"
   ]
  },
  {
   "cell_type": "code",
   "execution_count": 55,
   "id": "2bd58011-b06a-44e2-9cbd-72651d20683c",
   "metadata": {},
   "outputs": [
    {
     "name": "stdout",
     "output_type": "stream",
     "text": [
      "Zero, No Heuristic (0.47409579667644186, 0.1335940045617465, 0.3776474421635712)\n",
      "Zero, With Heuristic (0.5294884327142392, 0.2512218963831867, 0.21863799283154123)\n",
      "Few, No Heuristic (0.47768002606712284, 0.024437927663734114, 0.494949494949495)\n",
      "Few, With Heuristic (0.6168132942326491, 0.17139133268165527, 0.20755946562398175)\n"
     ]
    }
   ],
   "source": [
    "print('Zero, No Heuristic', metric_calculation(zero_no_exp, gt))\n",
    "print('Zero, With Heuristic', metric_calculation(zero_with_exp, gt))\n",
    "print('Few, No Heuristic', metric_calculation(few_no_exp, gt))\n",
    "print('Few, With Heuristic', metric_calculation(few_with_exp, gt))"
   ]
  },
  {
   "cell_type": "markdown",
   "id": "18fc3f81-6cd4-407e-847a-b3e6927f9da7",
   "metadata": {},
   "source": [
    "### mistral"
   ]
  },
  {
   "cell_type": "code",
   "execution_count": 76,
   "id": "2a1991e2-d0c6-4095-8d16-4f26f76f4c4e",
   "metadata": {},
   "outputs": [],
   "source": [
    "zero_no_exp=np.load('base/mistral/mistral_zero_shot_no_exp.npy')\n",
    "zero_with_exp=np.load('base/mistral/mistral_zero_shot_with_exp.npy')\n",
    "few_no_exp=np.load('base/mistral/mistral_few_shot_no_exp.npy')\n",
    "few_with_exp=np.load('base/mistral/mistral_few_shot_with_exp.npy')"
   ]
  },
  {
   "cell_type": "code",
   "execution_count": 77,
   "id": "a68de35e-2779-4bb5-97e3-fb427463b56e",
   "metadata": {},
   "outputs": [],
   "source": [
    "## post-processing\n",
    "zero_no_exp = np.array([i.split('Response')[1].split('\\n')[1].replace('</s>', '') if 'Response' in i else i.split()[0].replace('</s>', '') for i in zero_no_exp])\n",
    "few_no_exp = np.array([i.split('Response')[1].split('}')[0].split('{')[1] if 'Response' in i else i.split('}')[0].replace('{','').replace('</s>', '') for i in few_no_exp])\n",
    "zero_with_exp = np.array([i.split('Response')[1].split('\\n')[1].replace('</s>', '') if 'Response' in i else i.split()[0].replace('</s>', '') for i in zero_with_exp])\n",
    "few_with_exp = np.array([i.split('Response')[1].split('}')[0].split('{')[1] if 'Response' in i else i.split('}')[0].replace('{','').replace('</s>', '') for i in few_with_exp])\n",
    "zero_no_exp = np.array([int(float(i)) if i in ['0', '0.0', '1', '1.0'] else 2 for i in zero_no_exp])\n",
    "zero_with_exp = np.array([int(float(i)) if i in ['0', '0.0', '1', '1.0'] else 2 for i in zero_with_exp])\n",
    "few_no_exp = np.array([int(float(i)) if i in ['0', '0.0', '1', '1.0'] else 2 for i in few_no_exp])\n",
    "few_with_exp = np.array([int(float(i)) if i in ['0', '0.0', '1', '1.0'] else 2 for i in few_with_exp])"
   ]
  },
  {
   "cell_type": "code",
   "execution_count": 78,
   "id": "3b84619f-5eb5-4f1e-bcca-90a30df3394e",
   "metadata": {},
   "outputs": [
    {
     "data": {
      "text/plain": [
       "(Counter({1: 3065, 0: 4}),\n",
       " Counter({1: 3069}),\n",
       " Counter({0: 2239, 1: 830}),\n",
       " Counter({0: 2429, 1: 637, 2: 3}))"
      ]
     },
     "execution_count": 78,
     "metadata": {},
     "output_type": "execute_result"
    }
   ],
   "source": [
    "Counter(zero_no_exp), Counter(zero_with_exp), Counter(few_no_exp), Counter(few_with_exp)"
   ]
  },
  {
   "cell_type": "code",
   "execution_count": 79,
   "id": "ba94a846-cb05-4719-83d3-5db91e24ce56",
   "metadata": {},
   "outputs": [
    {
     "name": "stdout",
     "output_type": "stream",
     "text": [
      "Zero, No Heuristic (0.6008471814923427, 0.3985011404366243, 0.0006516780710329097)\n",
      "Zero, With Heuristic (0.6008471814923427, 0.3991528185076572, 0.0)\n",
      "Few, No Heuristic (0.5158031932225481, 0.07689801238188335, 0.4072987943955686)\n",
      "Few, With Heuristic (0.5187357445421962, 0.04398826979472141, 0.4362984685565331)\n"
     ]
    }
   ],
   "source": [
    "print('Zero, No Heuristic', metric_calculation(zero_no_exp, gt))\n",
    "print('Zero, With Heuristic', metric_calculation(zero_with_exp, gt))\n",
    "print('Few, No Heuristic', metric_calculation(few_no_exp, gt))\n",
    "print('Few, With Heuristic', metric_calculation(few_with_exp, gt))"
   ]
  },
  {
   "cell_type": "markdown",
   "id": "96785e98-3a55-47b1-b44c-5bc930b1bc2c",
   "metadata": {},
   "source": [
    "### 4o-mini"
   ]
  },
  {
   "cell_type": "code",
   "execution_count": 16,
   "id": "f7bf5a72-04e9-451d-9c81-9b9a266409b7",
   "metadata": {},
   "outputs": [],
   "source": [
    "zero_no_exp=np.load('base/4o_mini/4o_mini_zero_shot_no_exp.npy')\n",
    "few_no_exp=np.load('base/4o_mini/4o_mini_few_shot_no_exp.npy')\n",
    "\n",
    "## post-processing\n",
    "few_no_exp = np.array([i.split('}')[0].split('{')[1] for i in few_no_exp])\n",
    "zero_no_exp = np.array([int(float(i)) if i in ['0', '0.0', '1', '1.0'] else 2 for i in zero_no_exp])\n",
    "few_no_exp = np.array([int(float(i)) if i in ['0', '0.0', '1', '1.0'] else 2 for i in few_no_exp])\n",
    "\n",
    "# metric \n",
    "zero_acc=accuracy_score(gt, zero_no_exp)\n",
    "few_acc=accuracy_score(gt, few_no_exp)\n",
    "zero_confusion=confusion_matrix(gt, zero_no_exp)\n",
    "few_confusion=confusion_matrix(gt, few_no_exp)\n",
    "zero_fpr=(zero_confusion[1,0])/len(test)\n",
    "zero_fnr=(zero_confusion[0,1])/len(test)\n",
    "few_fpr=(few_confusion[1,0])/len(test)\n",
    "few_fnr=(few_confusion[0,1])/len(test)"
   ]
  },
  {
   "cell_type": "code",
   "execution_count": 18,
   "id": "36031fc2-5172-47f3-906d-fe285ce51b09",
   "metadata": {},
   "outputs": [
    {
     "name": "stdout",
     "output_type": "stream",
     "text": [
      "Zero Shot, Acc 0.4447702834799609\n",
      "Zero Shot, FPR 0.3831867057673509\n",
      "Zero Shot, FNR 0.17204301075268819\n",
      "Few Shot, ACC 0.5135223199739328\n",
      "Few Shot, FPR 0.27891821440208536\n",
      "Few Shot, FNR 0.20755946562398175\n"
     ]
    }
   ],
   "source": [
    "print('Zero Shot, Acc', zero_acc)\n",
    "print('Zero Shot, FPR', zero_fpr)\n",
    "print('Zero Shot, FNR', zero_fnr)\n",
    "print('Few Shot, ACC', few_acc)\n",
    "print('Few Shot, FPR', few_fpr)\n",
    "print('Few Shot, FNR', few_fnr)"
   ]
  },
  {
   "cell_type": "markdown",
   "id": "5287fe31-2399-40f0-b4d2-434fbe7c134a",
   "metadata": {},
   "source": [
    "### 4o"
   ]
  },
  {
   "cell_type": "code",
   "execution_count": 20,
   "id": "81887730-c917-4dd9-a259-e1e5fa18d35c",
   "metadata": {},
   "outputs": [],
   "source": [
    "zero_no_exp=np.load('base/4o/4o_zero_shot_no_exp.npy')\n",
    "few_no_exp=np.load('base/4o/4o_few_shot_no_exp.npy')\n",
    "\n",
    "## post-processing\n",
    "few_no_exp = np.array([i.split('}')[0].split('{')[1] for i in few_no_exp])\n",
    "zero_no_exp = np.array([int(float(i)) if i in ['0', '0.0', '1', '1.0'] else 2 for i in zero_no_exp])\n",
    "few_no_exp = np.array([int(float(i)) if i in ['0', '0.0', '1', '1.0'] else 2 for i in few_no_exp])"
   ]
  },
  {
   "cell_type": "code",
   "execution_count": null,
   "id": "a8368e3d-66e4-40e7-baa3-9cc7411fe1a3",
   "metadata": {},
   "outputs": [],
   "source": []
  },
  {
   "cell_type": "code",
   "execution_count": 27,
   "id": "b4cf2f06-f0e3-4294-9786-7d23071a6632",
   "metadata": {},
   "outputs": [],
   "source": [
    "acc=accuracy_score(gt, zero_no_exp)\n",
    "confusion=confusion_matrix(gt, zero_no_exp)"
   ]
  },
  {
   "cell_type": "code",
   "execution_count": 28,
   "id": "a5835222-3f02-46d2-865d-aa4aac8435c8",
   "metadata": {},
   "outputs": [],
   "source": [
    "tn, fp, fn, tp=confusion.ravel()"
   ]
  },
  {
   "cell_type": "code",
   "execution_count": 30,
   "id": "ab88d88e-8483-4a34-ab88-79b86d6cf4fe",
   "metadata": {},
   "outputs": [
    {
     "data": {
      "text/plain": [
       "552"
      ]
     },
     "execution_count": 30,
     "metadata": {},
     "output_type": "execute_result"
    }
   ],
   "source": [
    "fp"
   ]
  },
  {
   "cell_type": "code",
   "execution_count": 32,
   "id": "4cb54e5f-1e93-443a-94d5-31a034d7abad",
   "metadata": {},
   "outputs": [
    {
     "data": {
      "text/plain": [
       "996"
      ]
     },
     "execution_count": 32,
     "metadata": {},
     "output_type": "execute_result"
    }
   ],
   "source": [
    "confusion[1,0]"
   ]
  },
  {
   "cell_type": "code",
   "execution_count": 31,
   "id": "8f4ef821-5006-4155-b6cd-cc627743bfbb",
   "metadata": {},
   "outputs": [
    {
     "data": {
      "text/plain": [
       "996"
      ]
     },
     "execution_count": 31,
     "metadata": {},
     "output_type": "execute_result"
    }
   ],
   "source": [
    "fn"
   ]
  },
  {
   "cell_type": "code",
   "execution_count": 23,
   "id": "c5c40ca5-39cb-44dd-b1f3-f2558226ca8d",
   "metadata": {},
   "outputs": [
    {
     "data": {
      "text/plain": [
       "array([[673, 552],\n",
       "       [996, 848]])"
      ]
     },
     "execution_count": 23,
     "metadata": {},
     "output_type": "execute_result"
    }
   ],
   "source": [
    "confusion"
   ]
  },
  {
   "cell_type": "code",
   "execution_count": 11,
   "id": "77079c72-0408-4a76-ba4f-0a99af21414d",
   "metadata": {},
   "outputs": [
    {
     "name": "stdout",
     "output_type": "stream",
     "text": [
      "Zero Shot, Acc 0.49560117302052786\n",
      "Zero Shot, FPR 0.32453567937438904\n",
      "Zero Shot, FNR 0.1798631476050831\n",
      "Few Shot, ACC 0.6340827631150212\n",
      "Few Shot, FPR 0.03519061583577713\n",
      "Few Shot, FNR 0.3307266210492017\n"
     ]
    }
   ],
   "source": [
    "zero_no_exp=np.load('base/4o/4o_zero_shot_no_exp.npy')\n",
    "few_no_exp=np.load('base/4o/4o_few_shot_no_exp.npy')\n",
    "\n",
    "## post-processing\n",
    "few_no_exp = np.array([i.split('}')[0].split('{')[1] for i in few_no_exp])\n",
    "zero_no_exp = np.array([int(float(i)) if i in ['0', '0.0', '1', '1.0'] else 2 for i in zero_no_exp])\n",
    "few_no_exp = np.array([int(float(i)) if i in ['0', '0.0', '1', '1.0'] else 2 for i in few_no_exp])\n",
    "\n",
    "# metric \n",
    "zero_acc=accuracy_score(gt, zero_no_exp)\n",
    "few_acc=accuracy_score(gt, few_no_exp)\n",
    "zero_confusion=confusion_matrix(gt, zero_no_exp)\n",
    "few_confusion=confusion_matrix(gt, few_no_exp)\n",
    "zero_fpr=(zero_confusion[1,0])/len(test)\n",
    "zero_fnr=(zero_confusion[0,1])/len(test)\n",
    "few_fpr=(few_confusion[1,0])/len(test)\n",
    "few_fnr=(few_confusion[0,1])/len(test)\n",
    "\n",
    "print('Zero Shot, Acc', zero_acc)\n",
    "print('Zero Shot, FPR', zero_fpr)\n",
    "print('Zero Shot, FNR', zero_fnr)\n",
    "print('Few Shot, ACC', few_acc)\n",
    "print('Few Shot, FPR', few_fpr)\n",
    "print('Few Shot, FNR', few_fnr)"
   ]
  }
 ],
 "metadata": {
  "kernelspec": {
   "display_name": "Python 3 (ipykernel)",
   "language": "python",
   "name": "python3"
  },
  "language_info": {
   "codemirror_mode": {
    "name": "ipython",
    "version": 3
   },
   "file_extension": ".py",
   "mimetype": "text/x-python",
   "name": "python",
   "nbconvert_exporter": "python",
   "pygments_lexer": "ipython3",
   "version": "3.10.15"
  }
 },
 "nbformat": 4,
 "nbformat_minor": 5
}
