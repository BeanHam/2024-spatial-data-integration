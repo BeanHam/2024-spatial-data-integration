{
 "cells": [
  {
   "cell_type": "code",
   "execution_count": 17,
   "id": "41bd87bf",
   "metadata": {},
   "outputs": [],
   "source": [
    "import numpy as np\n",
    "import pandas as pd\n",
    "from datasets import load_dataset"
   ]
  },
  {
   "cell_type": "code",
   "execution_count": 12,
   "id": "7142028c",
   "metadata": {},
   "outputs": [],
   "source": [
    "test = load_dataset('beanham/spatial_join', split='test')\n",
    "fp = load_dataset('beanham/spatial_join', split='fp')\n",
    "fn = load_dataset('beanham/spatial_join', split='fn')\n",
    "test_gt=np.array(test['label'])\n",
    "fp_gt=np.array(fp['label'])\n",
    "fn_gt=np.array(fn['label'])\n",
    "models=['gpt-4o-mini-2024-07-18']\n",
    "ft_fs = [['False', 'False'],\n",
    "         ['False', 'True'],\n",
    "         ['True', 'False']]"
   ]
  },
  {
   "cell_type": "code",
   "execution_count": 34,
   "id": "f523e142",
   "metadata": {},
   "outputs": [
    {
     "name": "stdout",
     "output_type": "stream",
     "text": [
      "================================\n",
      "Model: gpt-4o-mini-2024-07-18...\n",
      "   -----------------------\n",
      "   Fine-Tuned: False.\n",
      "   Few-Shot: False.\n",
      "   -----------------------\n",
      "   Fine-Tuned: False.\n",
      "   Few-Shot: True.\n",
      "   -----------------------\n",
      "   Fine-Tuned: True.\n",
      "   Few-Shot: False.\n"
     ]
    }
   ],
   "source": [
    "results=[]\n",
    "for model in models:\n",
    "    print('================================')\n",
    "    print(f'Model: {model}...')\n",
    "    for ft, fs in ft_fs:\n",
    "        print('   -----------------------')\n",
    "        print(f'   Fine-Tuned: {ft}.')\n",
    "        print(f'   Few-Shot: {fs}.')        \n",
    "        test=np.load(f'{model}_finetuned_{ft}_fewshot_{fs}_test.npy')\n",
    "        fp=np.load(f'{model}_finetuned_{ft}_fewshot_{fs}_fp.npy')\n",
    "        fn=np.load(f'{model}_finetuned_{ft}_fewshot_{fs}_fn.npy')\n",
    "        \n",
    "        ## post-process for format\n",
    "        test=[int(i.replace('Label:', '').strip()) for i in test]\n",
    "        fp=[int(i.replace('Label:', '').strip()) for i in fp]\n",
    "        fn=[int(i.replace('Label:', '').strip()) for i in fn]        \n",
    "        \n",
    "        ## accuracy calculation\n",
    "        test = (test_gt==test).mean()\n",
    "        fp = (fp_gt==fp).mean()\n",
    "        fn = (fn_gt==fn).mean()        \n",
    "        results.append([model, ft, fs, test, fp, fn])        "
   ]
  },
  {
   "cell_type": "code",
   "execution_count": 35,
   "id": "d3c0993d",
   "metadata": {},
   "outputs": [
    {
     "data": {
      "text/html": [
       "<div>\n",
       "<style scoped>\n",
       "    .dataframe tbody tr th:only-of-type {\n",
       "        vertical-align: middle;\n",
       "    }\n",
       "\n",
       "    .dataframe tbody tr th {\n",
       "        vertical-align: top;\n",
       "    }\n",
       "\n",
       "    .dataframe thead th {\n",
       "        text-align: right;\n",
       "    }\n",
       "</style>\n",
       "<table border=\"1\" class=\"dataframe\">\n",
       "  <thead>\n",
       "    <tr style=\"text-align: right;\">\n",
       "      <th></th>\n",
       "      <th>model</th>\n",
       "      <th>finetuned</th>\n",
       "      <th>fewshot</th>\n",
       "      <th>test</th>\n",
       "      <th>fp</th>\n",
       "      <th>fn</th>\n",
       "    </tr>\n",
       "  </thead>\n",
       "  <tbody>\n",
       "    <tr>\n",
       "      <th>0</th>\n",
       "      <td>gpt-4o-mini-2024-07-18</td>\n",
       "      <td>False</td>\n",
       "      <td>False</td>\n",
       "      <td>0.461942</td>\n",
       "      <td>0.952381</td>\n",
       "      <td>0.060976</td>\n",
       "    </tr>\n",
       "    <tr>\n",
       "      <th>1</th>\n",
       "      <td>gpt-4o-mini-2024-07-18</td>\n",
       "      <td>False</td>\n",
       "      <td>True</td>\n",
       "      <td>0.524934</td>\n",
       "      <td>0.916667</td>\n",
       "      <td>0.109756</td>\n",
       "    </tr>\n",
       "    <tr>\n",
       "      <th>2</th>\n",
       "      <td>gpt-4o-mini-2024-07-18</td>\n",
       "      <td>True</td>\n",
       "      <td>False</td>\n",
       "      <td>0.977690</td>\n",
       "      <td>0.416667</td>\n",
       "      <td>0.390244</td>\n",
       "    </tr>\n",
       "  </tbody>\n",
       "</table>\n",
       "</div>"
      ],
      "text/plain": [
       "                    model finetuned fewshot      test        fp        fn\n",
       "0  gpt-4o-mini-2024-07-18     False   False  0.461942  0.952381  0.060976\n",
       "1  gpt-4o-mini-2024-07-18     False    True  0.524934  0.916667  0.109756\n",
       "2  gpt-4o-mini-2024-07-18      True   False  0.977690  0.416667  0.390244"
      ]
     },
     "execution_count": 35,
     "metadata": {},
     "output_type": "execute_result"
    }
   ],
   "source": [
    "pd.DataFrame(results, columns=['model', 'finetuned', 'fewshot', 'test', 'fp', 'fn'])"
   ]
  }
 ],
 "metadata": {
  "kernelspec": {
   "display_name": "Python 3 (ipykernel)",
   "language": "python",
   "name": "python3"
  },
  "language_info": {
   "codemirror_mode": {
    "name": "ipython",
    "version": 3
   },
   "file_extension": ".py",
   "mimetype": "text/x-python",
   "name": "python",
   "nbconvert_exporter": "python",
   "pygments_lexer": "ipython3",
   "version": "3.11.5"
  }
 },
 "nbformat": 4,
 "nbformat_minor": 5
}
