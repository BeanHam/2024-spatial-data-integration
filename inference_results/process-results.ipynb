{
 "cells": [
  {
   "cell_type": "code",
   "execution_count": 1,
   "id": "41bd87bf",
   "metadata": {},
   "outputs": [],
   "source": [
    "import numpy as np\n",
    "from datasets import load_dataset"
   ]
  },
  {
   "cell_type": "code",
   "execution_count": 42,
   "id": "7142028c",
   "metadata": {},
   "outputs": [],
   "source": [
    "test = load_dataset('beanham/spatial_join', split='test')\n",
    "gt=np.array(test['label'])"
   ]
  },
  {
   "cell_type": "code",
   "execution_count": 38,
   "id": "b0547aac",
   "metadata": {},
   "outputs": [],
   "source": [
    "## load predictions\n",
    "llama3_ft=np.load('llama3_finetuned_True.npy')\n",
    "gpt4_base=np.load('gpt4o_finetuned_False.npy')\n",
    "gpt4_ft=np.load('gpt4o_finetuned_True.npy')\n",
    "\n",
    "## post-processing\n",
    "llama3_ft = np.array([int(i.split()[1]) if 'Lable' in i else 2 for i in llama3_ft])\n",
    "gpt4_base = np.array([int(i) for i in gpt4_base])\n",
    "gpt4_ft = np.array([int(i.split()[1]) if 'Lable' in i else 2 for i in gpt4_ft])"
   ]
  },
  {
   "cell_type": "code",
   "execution_count": 47,
   "id": "7eab6dc9",
   "metadata": {},
   "outputs": [
    {
     "data": {
      "text/plain": [
       "0.6180555555555556"
      ]
     },
     "execution_count": 47,
     "metadata": {},
     "output_type": "execute_result"
    }
   ],
   "source": [
    "(gt==gpt4_base).mean()"
   ]
  },
  {
   "cell_type": "code",
   "execution_count": 48,
   "id": "44b5c97e",
   "metadata": {},
   "outputs": [
    {
     "data": {
      "text/plain": [
       "0.9965277777777778"
      ]
     },
     "execution_count": 48,
     "metadata": {},
     "output_type": "execute_result"
    }
   ],
   "source": [
    "(gt==gpt4_ft).mean()"
   ]
  },
  {
   "cell_type": "code",
   "execution_count": 46,
   "id": "991c8b68",
   "metadata": {},
   "outputs": [
    {
     "data": {
      "text/plain": [
       "0.9756944444444444"
      ]
     },
     "execution_count": 46,
     "metadata": {},
     "output_type": "execute_result"
    }
   ],
   "source": [
    "(gt==llama3_ft).mean()"
   ]
  }
 ],
 "metadata": {
  "kernelspec": {
   "display_name": "Python 3 (ipykernel)",
   "language": "python",
   "name": "python3"
  },
  "language_info": {
   "codemirror_mode": {
    "name": "ipython",
    "version": 3
   },
   "file_extension": ".py",
   "mimetype": "text/x-python",
   "name": "python",
   "nbconvert_exporter": "python",
   "pygments_lexer": "ipython3",
   "version": "3.11.5"
  }
 },
 "nbformat": 4,
 "nbformat_minor": 5
}
