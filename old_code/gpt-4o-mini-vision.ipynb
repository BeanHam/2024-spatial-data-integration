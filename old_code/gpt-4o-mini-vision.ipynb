{
 "cells": [
  {
   "cell_type": "code",
   "execution_count": 1,
   "id": "517aa12e",
   "metadata": {},
   "outputs": [],
   "source": [
    "import os\n",
    "import json\n",
    "import torch\n",
    "import base64\n",
    "import requests\n",
    "import argparse\n",
    "import numpy as np\n",
    "from PIL import Image\n",
    "from tqdm import tqdm\n",
    "from datasets import load_dataset"
   ]
  },
  {
   "cell_type": "code",
   "execution_count": 2,
   "id": "0d47dc62",
   "metadata": {},
   "outputs": [],
   "source": [
    "def encode_image(image_path):\n",
    "    with open(image_path, \"rb\") as image_file:\n",
    "        return base64.b64encode(image_file.read()).decode('utf-8')"
   ]
  },
  {
   "cell_type": "code",
   "execution_count": 3,
   "id": "094d2cd7",
   "metadata": {},
   "outputs": [],
   "source": [
    "def write_completion_request(prompt, base64_image, gpt_model):\n",
    "    \"\"\"\n",
    "    Compose completion request.\n",
    "    \"\"\"\n",
    "    \n",
    "    completion = {\n",
    "      \"model\": gpt_model,\n",
    "      \"messages\": [\n",
    "          {\"role\": \"user\",\n",
    "           \"content\": [\n",
    "               {\"type\": \"text\", \"text\": prompt},\n",
    "               {\"type\": \"image_url\", \"image_url\": {\"url\": f\"data:image/jpeg;base64,{base64_image}\"}}\n",
    "           ]}\n",
    "      ],\n",
    "      \"max_tokens\": 10\n",
    "    }\n",
    "    return completion"
   ]
  },
  {
   "cell_type": "code",
   "execution_count": 4,
   "id": "6510db0f",
   "metadata": {},
   "outputs": [],
   "source": [
    "gpt_model=\"gpt-4o-mini-2024-07-18\"\n",
    "\n",
    "with open('../2024-spatial-join-exp/join_task_data/index.txt', 'r') as f:\n",
    "    index = json.load(f)\n",
    "test_index=index['test']    \n",
    "fp_index=index['fp']\n",
    "fn_index=index['fn']\n",
    "\n",
    "data=load_dataset('beanham/spatial_join')\n",
    "test_data=data['test']\n",
    "fp_data=data['fp']\n",
    "fn_data=data['fn']\n",
    "\n",
    "p_path=f'../2024-spatial-join-exp/join_task_imgs/positive/'\n",
    "n_path=f'../2024-spatial-join-exp/join_task_imgs/negative/'\n",
    "fp_path = f'../2024-spatial-join-exp/join_task_imgs/false_positive/'\n",
    "fn_path = f'../2024-spatial-join-exp/join_task_imgs/false_negative/'\n",
    "api_web = \"https://api.openai.com/v1/chat/completions\"\n",
    "headers = {\n",
    "    \"Content-Type\": \"application/json\",\n",
    "    \"Authorization\": f\"Bearer {api_key}\"\n",
    "}"
   ]
  },
  {
   "cell_type": "code",
   "execution_count": null,
   "id": "0b46ae02",
   "metadata": {},
   "outputs": [],
   "source": [
    "def evaluate_gpt_vision(index, data, split, paths):\n",
    "    model_outputs=[]\n",
    "    for i in tqdm(range(len(index))):\n",
    "        img_name=index[i]\n",
    "        sidewalk = \"\\nSidewalk:\\n\"+str(data['sidewalk'][i])\n",
    "        road = \"\\n\\nRoad:\\n\"+str(data['road'][i])\n",
    "        message=prompt+sidewalk+road\n",
    "        if split=='test':\n",
    "            if 'positive' in img_name:\n",
    "                img_path=paths['p_path']+img_name+'.png'\n",
    "            else:\n",
    "                img_path=paths['n_path']+img_name+'.png'\n",
    "        elif split=='fp':\n",
    "            img_path=paths['fp_path']+img_name+'.png'\n",
    "        else:\n",
    "            img_path=paths['fn_path']+img_name+'.png'\n",
    "            \n",
    "        base64_image = encode_image(img_path)\n",
    "        completion = write_completion_request(message, base64_image, gpt_model)\n",
    "        response = requests.post(api_web, headers=headers, json=completion)\n",
    "        model_outputs.append(response.json()['choices'][0]['message']['content'])\n",
    "    return model_outputs"
   ]
  },
  {
   "cell_type": "code",
   "execution_count": 5,
   "id": "cd6dd32f",
   "metadata": {},
   "outputs": [
    {
     "name": "stderr",
     "output_type": "stream",
     "text": [
      "100%|███████████████████████████████████████████████████████████████████████████████████████████████████████████████████████████████████████████████████████████████████| 762/762 [40:50<00:00,  3.22s/it]\n"
     ]
    }
   ],
   "source": [
    "test_outputs=[]\n",
    "for i in tqdm(range(len(test_index))):\n",
    "    img_name=test_index[i]\n",
    "    sidewalk = \"\\nSidewalk:\\n\"+str(test_data['sidewalk'][i])\n",
    "    road = \"\\n\\nRoad:\\n\"+str(test_data['road'][i])\n",
    "    message=prompt+sidewalk+road\n",
    "    if 'positive' in img_name:img_path=p_path+img_name+'.png'\n",
    "    else:img_path=n_path+img_name+'.png'\n",
    "    base64_image = encode_image(img_path)\n",
    "    completion = write_completion_request(message, base64_image, gpt_model)\n",
    "    response = requests.post(api_web, headers=headers, json=completion)\n",
    "    test_outputs.append(response.json()['choices'][0]['message']['content'])"
   ]
  },
  {
   "cell_type": "code",
   "execution_count": 8,
   "id": "80b755c2",
   "metadata": {},
   "outputs": [
    {
     "name": "stderr",
     "output_type": "stream",
     "text": [
      "100%|█████████████████████████████████████████████████████████████████████████████████████████████████████████████████████████████████████████████████████████████████████| 84/84 [04:02<00:00,  2.89s/it]\n"
     ]
    }
   ],
   "source": [
    "fp_outputs=[]\n",
    "for i in tqdm(range(len(fp_index))):\n",
    "    img_name=fp_index[i]\n",
    "    sidewalk = \"\\nSidewalk:\\n\"+str(fp_data['sidewalk'][i])\n",
    "    road = \"\\n\\nRoad:\\n\"+str(fp_data['road'][i])\n",
    "    message=prompt+sidewalk+road\n",
    "    img_path=fp_path+img_name+'.png'\n",
    "    base64_image = encode_image(img_path)\n",
    "    completion = write_completion_request(message, base64_image, gpt_model)\n",
    "    response = requests.post(api_web, headers=headers, json=completion)\n",
    "    fp_outputs.append(response.json()['choices'][0]['message']['content'])"
   ]
  },
  {
   "cell_type": "code",
   "execution_count": 10,
   "id": "32ab2cdf",
   "metadata": {},
   "outputs": [
    {
     "name": "stderr",
     "output_type": "stream",
     "text": [
      "100%|█████████████████████████████████████████████████████████████████████████████████████████████████████████████████████████████████████████████████████████████████████| 82/82 [03:54<00:00,  2.86s/it]\n"
     ]
    }
   ],
   "source": [
    "fn_outputs=[]\n",
    "for i in tqdm(range(len(fn_index))):\n",
    "    img_name=fn_index[i]\n",
    "    sidewalk = \"\\nSidewalk:\\n\"+str(fn_data['sidewalk'][i])\n",
    "    road = \"\\n\\nRoad:\\n\"+str(fn_data['road'][i])\n",
    "    message=prompt+sidewalk+road\n",
    "    img_path=fn_path+img_name+'.png'\n",
    "    base64_image = encode_image(img_path)\n",
    "    completion = write_completion_request(message, base64_image, gpt_model)\n",
    "    response = requests.post(api_web, headers=headers, json=completion)\n",
    "    fn_outputs.append(response.json()['choices'][0]['message']['content'])"
   ]
  },
  {
   "cell_type": "code",
   "execution_count": 13,
   "id": "780129e1",
   "metadata": {},
   "outputs": [],
   "source": [
    "save_path=f'inference_results/'\n",
    "model_id='gpt-4o-mini-2024-07-18'"
   ]
  },
  {
   "cell_type": "code",
   "execution_count": 14,
   "id": "346026e6",
   "metadata": {},
   "outputs": [],
   "source": [
    "np.save(save_path+f\"{model_id}-vision_finetuned_False_fewshot_False_test.npy\", test_outputs)\n",
    "np.save(save_path+f\"{model_id}-vision_finetuned_False_fewshot_False_fp.npy\", fp_outputs)\n",
    "np.save(save_path+f\"{model_id}-vision_finetuned_False_fewshot_False_fn.npy\", fn_outputs)"
   ]
  }
 ],
 "metadata": {
  "kernelspec": {
   "display_name": "Python 3 (ipykernel)",
   "language": "python",
   "name": "python3"
  },
  "language_info": {
   "codemirror_mode": {
    "name": "ipython",
    "version": 3
   },
   "file_extension": ".py",
   "mimetype": "text/x-python",
   "name": "python",
   "nbconvert_exporter": "python",
   "pygments_lexer": "ipython3",
   "version": "3.10.15"
  }
 },
 "nbformat": 4,
 "nbformat_minor": 5
}
