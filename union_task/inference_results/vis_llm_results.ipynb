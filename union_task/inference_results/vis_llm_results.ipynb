{
 "cells": [
  {
   "cell_type": "code",
   "execution_count": 1,
   "id": "6d37fe41",
   "metadata": {},
   "outputs": [],
   "source": [
    "import numpy as np\n",
    "import pandas as pd\n",
    "import scienceplots\n",
    "import seaborn as sns\n",
    "import matplotlib.pyplot as plt\n",
    "\n",
    "from itertools import product\n",
    "from collections import Counter\n",
    "from datasets import load_dataset\n",
    "from sklearn.metrics import accuracy_score, confusion_matrix, f1_score"
   ]
  },
  {
   "cell_type": "code",
   "execution_count": 2,
   "id": "64c5a9d2-e256-416e-b99c-a568dc10ca1e",
   "metadata": {},
   "outputs": [],
   "source": [
    "def metric_calculation(pred, gt):    \n",
    "    acc=accuracy_score(gt, pred)\n",
    "    f1=f1_score(gt, pred, average='macro')\n",
    "    confusion=confusion_matrix(gt, pred)\n",
    "    fpr=confusion[0,1]/len(gt) ## predict to be 1; actual 0\n",
    "    fnr=confusion[1,0]/len(gt) ## predict to be 0; actual 1\n",
    "    return acc, f1, fpr, fnr"
   ]
  },
  {
   "cell_type": "code",
   "execution_count": 3,
   "id": "4afb2d5c-7e55-4e7a-bfcb-29c98667467c",
   "metadata": {},
   "outputs": [],
   "source": [
    "def post_processing(pred):\n",
    "    new_pred=[]\n",
    "    for i in pred:\n",
    "        i=i.lower()\n",
    "        if 'response' in i:\n",
    "            try: new_pred.append(i.split('response')[1].split()[1].replace('</s>', ''))\n",
    "            except: new_pred.append(2)\n",
    "        elif 'output' in i:\n",
    "            try: new_pred.append(i.split('output')[1].split()[1].replace('</s>', ''))\n",
    "            except: new_pred.append(2)\n",
    "        else:\n",
    "            try: new_pred.append(i.split()[0].replace('</s>', ''))\n",
    "            except:new_pred.append(2)\n",
    "    new_pred = np.array([int(float(i)) if i in ['0', '0.0', '1', '1.0'] else 2 for i in new_pred])\n",
    "    return new_pred"
   ]
  },
  {
   "cell_type": "markdown",
   "id": "50c15002-e54d-4327-b9f8-c415e6375e72",
   "metadata": {},
   "source": [
    "### no values"
   ]
  },
  {
   "cell_type": "code",
   "execution_count": 4,
   "id": "9ad1aa0e-fe18-458e-b5b5-70df9e1443fd",
   "metadata": {},
   "outputs": [],
   "source": [
    "ds = load_dataset(\"beanham/spatial_union_dataset\")\n",
    "test=ds['test']\n",
    "gt=np.array(test['label'])\n",
    "configs = [\n",
    "    'zero_shot_no_heur',    \n",
    "    'zero_shot_with_heur_hint_angle',\n",
    "    'zero_shot_with_heur_hint_area',\n",
    "    'zero_shot_with_heur_hint_angle_area',\n",
    "    'few_shot_no_heur',    \n",
    "    'few_shot_with_heur_hint_angle',\n",
    "    'few_shot_with_heur_hint_area',\n",
    "    'few_shot_with_heur_hint_angle_area',\n",
    "]\n",
    "new_names={\n",
    "    'zero_shot_no_heur':'(plain)', \n",
    "    'zero_shot_with_heur_hint_angle': '(p)',\n",
    "    'zero_shot_with_heur_hint_area': '(o)',\n",
    "    'zero_shot_with_heur_hint_angle_area': '(p,o)',\n",
    "    'few_shot_no_heur':'(plain)', \n",
    "    'few_shot_with_heur_hint_angle': '(p)',\n",
    "    'few_shot_with_heur_hint_area': '(o)',\n",
    "    'few_shot_with_heur_hint_angle_area': '(p,o)'    \n",
    "}"
   ]
  },
  {
   "cell_type": "code",
   "execution_count": 5,
   "id": "cb9c7def-149f-4ea9-95c7-47aa29b4dd76",
   "metadata": {},
   "outputs": [
    {
     "name": "stdout",
     "output_type": "stream",
     "text": [
      "Model: llama3...\n",
      "Model: mistral...\n",
      "Model: 4o_mini...\n",
      "Model: qwen_plus...\n",
      "Model: 4o...\n"
     ]
    }
   ],
   "source": [
    "results=[]\n",
    "models=['llama3', 'mistral', '4o_mini', 'qwen_plus', '4o']\n",
    "for model in models:\n",
    "    print(f'Model: {model}...')\n",
    "    for config in configs:\n",
    "        pred=np.load(f'base/{model}/{model}_{config}.npy')\n",
    "        pred=post_processing(pred)        \n",
    "        metrics=metric_calculation(pred, gt)\n",
    "        if 'zero_shot' in config:prompting='zero shot'\n",
    "        else:prompting='few shot'\n",
    "        results.append([new_names[config], prompting, model, metrics[0], metrics[1]])\n",
    "results=pd.DataFrame(results, columns=['heuristics', 'prompting', 'model', 'acc', 'f1'])"
   ]
  },
  {
   "cell_type": "code",
   "execution_count": 15,
   "id": "0cfb196c-5d18-44c2-8a4e-1f85aad2fac4",
   "metadata": {},
   "outputs": [],
   "source": [
    "pals=sns.color_palette(\"RdBu\", 12)\n",
    "for model in models:\n",
    "    sub=results[results.model==model]\n",
    "    if model == 'llama3':\n",
    "        plt.style.use('science')\n",
    "        plt.rc('text', usetex=False)\n",
    "        plt.figure(figsize=(3,3))\n",
    "        sns.barplot(sub, x=\"heuristics\", y=\"acc\", hue=\"prompting\", palette=[pals[4],pals[2]], legend=False)\n",
    "        plt.axhline(y=0.962, color='red', linestyle='-.', linewidth=2, label='Best Heuritic')\n",
    "        plt.xlabel(\"\")\n",
    "        plt.xticks(fontsize=12,rotation=90,ha='right')\n",
    "        plt.ylabel(\"Spatial Union Accuracy\", fontsize=12)\n",
    "        #plt.title(model, fontsize=14)\n",
    "        plt.savefig(f'../../visualizations/union_task_no_heuristic_values_{model}.png', bbox_inches='tight',pad_inches=0, dpi=600)\n",
    "        plt.close()\n",
    "        pass\n",
    "    elif model == '4o':\n",
    "        plt.style.use('science')\n",
    "        plt.rc('text', usetex=False)\n",
    "        plt.figure(figsize=(3,3))\n",
    "        g=sns.barplot(sub, x=\"heuristics\", y=\"acc\", hue=\"prompting\", palette=[pals[4],pals[2]], legend=False)\n",
    "        plt.axhline(y=0.962, color='red', linestyle='-.', linewidth=2, label='Best Heuritic (0.962)')\n",
    "        plt.xlabel(\"\")\n",
    "        plt.xticks(fontsize=12,rotation=90,ha='right')\n",
    "        plt.ylabel(\"\")\n",
    "        plt.yticks([])\n",
    "        #plt.title(model, fontsize=14)\n",
    "        plt.legend()\n",
    "        plt.savefig(f'../../visualizations/union_task_no_heuristic_values_{model}.png', bbox_inches='tight',pad_inches=0, dpi=600)\n",
    "        plt.close()\n",
    "        pass        \n",
    "    else:\n",
    "        plt.style.use('science')\n",
    "        plt.rc('text', usetex=False)\n",
    "        plt.figure(figsize=(3,3))\n",
    "        sns.barplot(sub, x=\"heuristics\", y=\"acc\", hue=\"prompting\", palette=[pals[4],pals[2]], legend=False)\n",
    "        plt.axhline(y=0.962, color='red', linestyle='-.', linewidth=2, label='Best Heuritic')\n",
    "        plt.xlabel(\"\")\n",
    "        plt.xticks(fontsize=12,rotation=90,ha='right')\n",
    "        plt.ylabel(\"\")\n",
    "        plt.yticks([])\n",
    "        #plt.title(model, fontsize=14)\n",
    "        plt.savefig(f'../../visualizations/union_task_no_heuristic_values_{model}.png', bbox_inches='tight',pad_inches=0, dpi=600)\n",
    "        plt.close()\n",
    "        pass        "
   ]
  },
  {
   "cell_type": "markdown",
   "id": "6bd0f23b-0e8e-41ef-a53c-1dfe10372c0f",
   "metadata": {},
   "source": [
    "### with values"
   ]
  },
  {
   "cell_type": "code",
   "execution_count": 16,
   "id": "7a890578-6952-4da3-bd81-cbcaeee8a25b",
   "metadata": {},
   "outputs": [],
   "source": [
    "configs = [\n",
    "    'zero_shot_with_heur_value_angle',\n",
    "    'zero_shot_with_heur_value_area',\n",
    "    'zero_shot_with_heur_value_angle_area',\n",
    "    'few_shot_with_heur_value_angle',\n",
    "    'few_shot_with_heur_value_area',\n",
    "    'few_shot_with_heur_value_angle_area',\n",
    "]\n",
    "new_names={\n",
    "    'zero_shot_with_heur_value_angle': '(p)',\n",
    "    'zero_shot_with_heur_value_area': '(o)',\n",
    "    'zero_shot_with_heur_value_angle_area': '(p,o)',\n",
    "    'few_shot_with_heur_value_angle': '(p)',\n",
    "    'few_shot_with_heur_value_area': '(o)',\n",
    "    'few_shot_with_heur_value_angle_area': '(p,o)'    \n",
    "}"
   ]
  },
  {
   "cell_type": "code",
   "execution_count": 17,
   "id": "36b81eae-ff08-46ce-b3a4-89b11f84eb8b",
   "metadata": {},
   "outputs": [
    {
     "name": "stdout",
     "output_type": "stream",
     "text": [
      "Model: llama3...\n",
      "Model: mistral...\n",
      "Model: 4o_mini...\n",
      "Model: qwen_plus...\n",
      "Model: 4o...\n"
     ]
    }
   ],
   "source": [
    "results=[]\n",
    "models=['llama3', 'mistral', '4o_mini', 'qwen_plus', '4o']\n",
    "for model in models:\n",
    "    print(f'Model: {model}...')\n",
    "    for config in configs:\n",
    "        pred=np.load(f'base/{model}/{model}_{config}.npy')\n",
    "        pred=post_processing(pred)        \n",
    "        metrics=metric_calculation(pred, gt)\n",
    "        if 'zero_shot' in config:\n",
    "            prompting='zero shot'\n",
    "        else:\n",
    "            prompting='few shot'\n",
    "        results.append([new_names[config], prompting, model, metrics[0], metrics[1]])\n",
    "results=pd.DataFrame(results, columns=['heuristics', 'prompting', 'model', 'acc', 'f1'])"
   ]
  },
  {
   "cell_type": "code",
   "execution_count": 18,
   "id": "344796dd-8a6a-46a7-bc7b-208e5d1c265a",
   "metadata": {},
   "outputs": [],
   "source": [
    "pals=sns.color_palette(\"RdBu\", 12)\n",
    "for model in models:\n",
    "    sub=results[results.model==model]\n",
    "    if model == 'llama3':\n",
    "        plt.style.use('science')\n",
    "        plt.rc('text', usetex=False)\n",
    "        plt.figure(figsize=(3,3))\n",
    "        sns.barplot(sub, x=\"heuristics\", y=\"acc\", hue=\"prompting\", palette=[pals[4],pals[2]],legend=False)\n",
    "        plt.axhline(y=0.962, color='red', linestyle='-.', linewidth=2, label='Best Heuritic (0.962)')\n",
    "        plt.xlabel(\"\")\n",
    "        plt.xticks(fontsize=12,rotation=90,ha='right')\n",
    "        plt.ylabel(\"Spatial Union Accuracy\", fontsize=12)\n",
    "        #plt.title(model, fontsize=14)\n",
    "        plt.legend()\n",
    "        plt.savefig(f'../../visualizations/union_task_with_heuristic_values_{model}.png', bbox_inches='tight',pad_inches=0, dpi=600)\n",
    "        plt.close()\n",
    "        pass\n",
    "    elif model == '4o':\n",
    "        plt.style.use('science')\n",
    "        plt.rc('text', usetex=False)\n",
    "        plt.figure(figsize=(3,3))\n",
    "        g=sns.barplot(sub, x=\"heuristics\", y=\"acc\", hue=\"prompting\", palette=[pals[4],pals[2]], legend=False)\n",
    "        plt.axhline(y=0.962, color='red', linestyle='-.', linewidth=2, label='Best Heuritic (0.990)')\n",
    "        plt.xlabel(\"\")\n",
    "        plt.xticks(fontsize=12,rotation=90,ha='right')\n",
    "        plt.ylabel(\"\")\n",
    "        plt.yticks([])\n",
    "        #plt.title(model, fontsize=14)\n",
    "        plt.savefig(f'../../visualizations/union_task_with_heuristic_values_{model}.png', bbox_inches='tight',pad_inches=0, dpi=600)\n",
    "        plt.close()\n",
    "        pass\n",
    "    else:\n",
    "        plt.style.use('science')\n",
    "        plt.rc('text', usetex=False)\n",
    "        plt.figure(figsize=(3,3))\n",
    "        sns.barplot(sub, x=\"heuristics\", y=\"acc\", hue=\"prompting\", palette=[pals[4],pals[2]], legend=False)\n",
    "        plt.axhline(y=0.962, color='red', linestyle='-.', linewidth=2, label='Best Heuritic')\n",
    "        plt.xlabel(\"\")\n",
    "        plt.xticks(fontsize=12,rotation=90,ha='right')\n",
    "        plt.ylabel(\"\")\n",
    "        plt.yticks([])\n",
    "        #plt.title(model, fontsize=14)\n",
    "        plt.savefig(f'../../visualizations/union_task_with_heuristic_values_{model}.png', bbox_inches='tight',pad_inches=0, dpi=600)\n",
    "        plt.close()\n",
    "        pass        "
   ]
  }
 ],
 "metadata": {
  "kernelspec": {
   "display_name": "Python 3 (ipykernel)",
   "language": "python",
   "name": "python3"
  },
  "language_info": {
   "codemirror_mode": {
    "name": "ipython",
    "version": 3
   },
   "file_extension": ".py",
   "mimetype": "text/x-python",
   "name": "python",
   "nbconvert_exporter": "python",
   "pygments_lexer": "ipython3",
   "version": "3.10.15"
  }
 },
 "nbformat": 4,
 "nbformat_minor": 5
}
