{
 "cells": [
  {
   "cell_type": "code",
   "execution_count": 1,
   "id": "6d37fe41",
   "metadata": {},
   "outputs": [],
   "source": [
    "import string\n",
    "import numpy as np\n",
    "import pandas as pd\n",
    "from itertools import product\n",
    "from collections import Counter\n",
    "from datasets import load_dataset\n",
    "from sklearn.metrics import accuracy_score, confusion_matrix, f1_score"
   ]
  },
  {
   "cell_type": "code",
   "execution_count": 2,
   "id": "64c5a9d2-e256-416e-b99c-a568dc10ca1e",
   "metadata": {},
   "outputs": [],
   "source": [
    "def metric_calculation(pred, gt):    \n",
    "    acc=accuracy_score(gt, pred)\n",
    "    f1=f1_score(gt, pred, average='macro')\n",
    "    confusion=confusion_matrix(gt, pred)\n",
    "    fpr=confusion[0,1]/len(gt) ## predict to be 1; actual 0\n",
    "    fnr=confusion[1,0]/len(gt) ## predict to be 0; actual 1\n",
    "    return acc, f1, fpr, fnr"
   ]
  },
  {
   "cell_type": "code",
   "execution_count": 3,
   "id": "f6c0b2c0-9b40-4c7f-b0b6-d541d284e28c",
   "metadata": {},
   "outputs": [],
   "source": [
    "def post_processing(pred, model):\n",
    "\n",
    "    if model=='mistral':\n",
    "        new_pred = [p.replace('</s>', '').split()[0] for p in pred]\n",
    "        new_pred = np.array([int(float(i)) if i in ['0', '0.0', '1', '1.0'] else 2 for i in new_pred])\n",
    "    else:\n",
    "        new_pred=[]        \n",
    "        for p in pred:\n",
    "            if (p.split()[0]=='0') or (p.split()[0]=='1'):\n",
    "                new_pred.append(p.split()[0])\n",
    "            else:\n",
    "                p = p.lower().replace('</s>', '').replace('boxed', '')\n",
    "                splits=[s for s in p.lower().split('\\n') if s != '']\n",
    "                p = ' '.join(splits[-3:]).translate(str.maketrans('', '', string.punctuation))                \n",
    "                if 'response' in p:\n",
    "                    try: new_pred.append([t for t in p.split('response')[-1].split() if t.isnumeric()][0])\n",
    "                    except: new_pred.append(2)\n",
    "                elif 'output' in p:\n",
    "                    try: new_pred.append([t for t in p.split('output')[-1].split() if t.isnumeric()][0])\n",
    "                    except: new_pred.append(2)\n",
    "                elif 'return' in p:\n",
    "                    try: new_pred.append([t for t in p.split('return')[-1].split() if t.isnumeric()][0])\n",
    "                    except: new_pred.append(2)\n",
    "                elif 'result' in p:\n",
    "                    try: new_pred.append([t for t in p.split('result')[-1].split() if t.isnumeric()][0])\n",
    "                    except: new_pred.append(2)\n",
    "                elif 'plaintext' in p:\n",
    "                    try: new_pred.append([t for t in p.split('plaintext')[-1].split() if t.isnumeric()][0])\n",
    "                    except: new_pred.append(2)\n",
    "                elif 'json' in p:\n",
    "                    try: new_pred.append([t for t in p.split('json')[-1].split() if t.isnumeric()][0])\n",
    "                    except: new_pred.append(2)\n",
    "                else:\n",
    "                    try: new_pred.append(p.split()[0])\n",
    "                    except:new_pred.append(2)\n",
    "        new_pred = np.array([int(float(i)) if i in ['0', '0.0', '1', '1.0'] else 2 for i in new_pred])\n",
    "    return new_pred"
   ]
  },
  {
   "cell_type": "code",
   "execution_count": 4,
   "id": "9ad1aa0e-fe18-458e-b5b5-70df9e1443fd",
   "metadata": {},
   "outputs": [],
   "source": [
    "ds = load_dataset(\"beanham/spatial_union_dataset\")\n",
    "test=ds['test']\n",
    "gt=np.array(test['label'])\n",
    "configs = [\n",
    "    \"few_shot_no_heur_cot\",\n",
    "    'few_shot_with_heur_hint_angle_area_cot',\n",
    "    'few_shot_with_heur_value_angle_area_cot'    \n",
    "]"
   ]
  },
  {
   "cell_type": "code",
   "execution_count": 20,
   "id": "cb9c7def-149f-4ea9-95c7-47aa29b4dd76",
   "metadata": {},
   "outputs": [
    {
     "name": "stdout",
     "output_type": "stream",
     "text": [
      "Model: 4o_mini...\n",
      "Model: qwen_plus...\n"
     ]
    }
   ],
   "source": [
    "results=[]\n",
    "models=['4o_mini', 'qwen_plus']\n",
    "for model in models:\n",
    "    print(f'Model: {model}...')\n",
    "    for config in configs:\n",
    "        pred=np.load(f'base/{model}_cot/{model}_{config}.npy')\n",
    "        pred=post_processing(pred, model)\n",
    "        metrics=metric_calculation(pred, gt)\n",
    "        results.append([config, model, round(metrics[0],3), metrics[1]])\n",
    "results=pd.DataFrame(results, columns=['config', 'model', 'acc', 'f1'])"
   ]
  },
  {
   "cell_type": "code",
   "execution_count": 21,
   "id": "b4b6c4c1-5a31-49fc-b82f-10883ca48cb6",
   "metadata": {},
   "outputs": [
    {
     "data": {
      "text/html": [
       "<div>\n",
       "<style scoped>\n",
       "    .dataframe tbody tr th:only-of-type {\n",
       "        vertical-align: middle;\n",
       "    }\n",
       "\n",
       "    .dataframe tbody tr th {\n",
       "        vertical-align: top;\n",
       "    }\n",
       "\n",
       "    .dataframe thead th {\n",
       "        text-align: right;\n",
       "    }\n",
       "</style>\n",
       "<table border=\"1\" class=\"dataframe\">\n",
       "  <thead>\n",
       "    <tr style=\"text-align: right;\">\n",
       "      <th></th>\n",
       "      <th>config</th>\n",
       "      <th>model</th>\n",
       "      <th>acc</th>\n",
       "      <th>f1</th>\n",
       "    </tr>\n",
       "  </thead>\n",
       "  <tbody>\n",
       "    <tr>\n",
       "      <th>0</th>\n",
       "      <td>few_shot_no_heur_cot</td>\n",
       "      <td>4o_mini</td>\n",
       "      <td>0.499</td>\n",
       "      <td>0.334555</td>\n",
       "    </tr>\n",
       "    <tr>\n",
       "      <th>1</th>\n",
       "      <td>few_shot_with_heur_hint_angle_area_cot</td>\n",
       "      <td>4o_mini</td>\n",
       "      <td>0.519</td>\n",
       "      <td>0.336229</td>\n",
       "    </tr>\n",
       "    <tr>\n",
       "      <th>2</th>\n",
       "      <td>few_shot_with_heur_value_angle_area_cot</td>\n",
       "      <td>4o_mini</td>\n",
       "      <td>0.835</td>\n",
       "      <td>0.794060</td>\n",
       "    </tr>\n",
       "    <tr>\n",
       "      <th>3</th>\n",
       "      <td>few_shot_no_heur_cot</td>\n",
       "      <td>qwen_plus</td>\n",
       "      <td>0.732</td>\n",
       "      <td>0.465809</td>\n",
       "    </tr>\n",
       "    <tr>\n",
       "      <th>4</th>\n",
       "      <td>few_shot_with_heur_hint_angle_area_cot</td>\n",
       "      <td>qwen_plus</td>\n",
       "      <td>0.717</td>\n",
       "      <td>0.483992</td>\n",
       "    </tr>\n",
       "    <tr>\n",
       "      <th>5</th>\n",
       "      <td>few_shot_with_heur_value_angle_area_cot</td>\n",
       "      <td>qwen_plus</td>\n",
       "      <td>0.952</td>\n",
       "      <td>0.632614</td>\n",
       "    </tr>\n",
       "  </tbody>\n",
       "</table>\n",
       "</div>"
      ],
      "text/plain": [
       "                                    config      model    acc        f1\n",
       "0                     few_shot_no_heur_cot    4o_mini  0.499  0.334555\n",
       "1   few_shot_with_heur_hint_angle_area_cot    4o_mini  0.519  0.336229\n",
       "2  few_shot_with_heur_value_angle_area_cot    4o_mini  0.835  0.794060\n",
       "3                     few_shot_no_heur_cot  qwen_plus  0.732  0.465809\n",
       "4   few_shot_with_heur_hint_angle_area_cot  qwen_plus  0.717  0.483992\n",
       "5  few_shot_with_heur_value_angle_area_cot  qwen_plus  0.952  0.632614"
      ]
     },
     "execution_count": 21,
     "metadata": {},
     "output_type": "execute_result"
    }
   ],
   "source": [
    "results"
   ]
  },
  {
   "cell_type": "code",
   "execution_count": 36,
   "id": "e8ce9706-86cf-47a0-a7bd-55d3b2c72eec",
   "metadata": {},
   "outputs": [],
   "source": [
    "model='4o_mini'\n",
    "config='few_shot_no_heur_cot'\n",
    "pred=np.load(f'base/{model}_cot/{model}_{config}.npy')\n",
    "proc_pred=post_processing(pred, model)\n",
    "index=np.where(proc_pred==2)[0]"
   ]
  },
  {
   "cell_type": "code",
   "execution_count": null,
   "id": "b15cf946-7f29-4d0b-9ea8-e747dcc0e1b7",
   "metadata": {},
   "outputs": [],
   "source": []
  },
  {
   "cell_type": "code",
   "execution_count": null,
   "id": "3ff0ec14-1c5c-4c0b-9437-620337e7bc8e",
   "metadata": {},
   "outputs": [],
   "source": []
  },
  {
   "cell_type": "markdown",
   "id": "24d7ad25-3b5d-4f24-8532-a92f995f49d3",
   "metadata": {},
   "source": [
    "### Error Analysis"
   ]
  },
  {
   "cell_type": "code",
   "execution_count": 46,
   "id": "38b365c7-ea88-4d7f-864c-5e27f16b3e70",
   "metadata": {},
   "outputs": [
    {
     "data": {
      "text/plain": [
       "(0.8822055137844611, 0.9097744360902256)"
      ]
     },
     "execution_count": 46,
     "metadata": {},
     "output_type": "execute_result"
    }
   ],
   "source": [
    "model='4o'\n",
    "config='few_shot_with_heur_value_angle_area'\n",
    "## plain\n",
    "pred=np.load(f'base/{model}/{model}_{config}.npy')\n",
    "pred_proc=post_processing_old(pred)\n",
    "## cot\n",
    "cot_pred=np.load(f'base/{model}/{model}_{config}_cot.npy')\n",
    "cot_pred_proc=post_processing(cot_pred, model)\n",
    "## correction\n",
    "correction=np.load(f'base/{model}_correction/{model}_best_comb_{config}_correction.npy')\n",
    "correction_proc=post_processing_old(correction)\n",
    "reviews=np.load(f'base/{model}_correction/{model}_best_comb_{config}_correction_reviews.npy')\n",
    "metric_calculation(pred_proc, gt)[0], metric_calculation(cot_pred_proc, gt)[0]#, metric_calculation(correction_proc, gt)[0]"
   ]
  },
  {
   "cell_type": "code",
   "execution_count": 47,
   "id": "97c92599-0c33-4fe1-8b1b-fe9a116597b2",
   "metadata": {},
   "outputs": [
    {
     "data": {
      "text/plain": [
       "array([  1,  22,  26,  41, 105, 120, 147, 148, 152, 154, 156, 164, 170,\n",
       "       175, 191, 200, 211, 220, 223, 237, 260, 268, 269, 299, 307, 322,\n",
       "       324])"
      ]
     },
     "execution_count": 47,
     "metadata": {},
     "output_type": "execute_result"
    }
   ],
   "source": [
    "index=np.where(pred_proc!=cot_pred_proc)[0]\n",
    "index"
   ]
  },
  {
   "cell_type": "code",
   "execution_count": 54,
   "id": "53b3141c-7b97-4697-a266-278ab188d8e6",
   "metadata": {},
   "outputs": [
    {
     "data": {
      "text/plain": [
       "(0, 1)"
      ]
     },
     "execution_count": 54,
     "metadata": {},
     "output_type": "execute_result"
    }
   ],
   "source": [
    "i=4\n",
    "pred_proc[index[i]], cot_pred_proc[index[i]]#, correction_proc[index[i]]"
   ]
  },
  {
   "cell_type": "code",
   "execution_count": 55,
   "id": "4f76caa9-15f6-4c20-a034-a7f556951ec8",
   "metadata": {},
   "outputs": [
    {
     "name": "stdout",
     "output_type": "stream",
     "text": [
      "0\n"
     ]
    }
   ],
   "source": [
    "print(pred[index[i]])"
   ]
  },
  {
   "cell_type": "code",
   "execution_count": 56,
   "id": "3d78af4d-fc20-4e74-a338-ece80c5e2428",
   "metadata": {},
   "outputs": [
    {
     "name": "stdout",
     "output_type": "stream",
     "text": [
      "To determine whether the given sidewalk and road geometries represent the same sidewalk, either fully or partially, we need to evaluate the conditions of parallelism and overlap based on the provided statistics.\n",
      "\n",
      "1. **Parallelism**: The min_angle value indicates the angular difference between the sidewalk and the road. A small min_angle suggests that the two geometries are approximately parallel. In this case, the min_angle is 3.315739160909672 degrees, which is relatively small and suggests that the sidewalk and road are approximately parallel.\n",
      "\n",
      "2. **Overlap**: The max_area value represents the maximum percentage of overlapping area relative to the sidewalk and road, considering a 10-meter buffer. A higher max_area value indicates a significant overlap. Here, the max_area is 0.5441133330997189, which means there is a 54.41% overlap. This is a substantial overlap, indicating that the sidewalk and road geometries do intersect significantly.\n",
      "\n",
      "Since both conditions of parallelism and overlap are satisfied (small min_angle and significant max_area), we can conclude that the sidewalk and road geometries represent the same sidewalk, either fully or partially.\n",
      "\n",
      "### Response: \n",
      "1\n"
     ]
    }
   ],
   "source": [
    "print(cot_pred[index[i]])"
   ]
  }
 ],
 "metadata": {
  "kernelspec": {
   "display_name": "Python 3 (ipykernel)",
   "language": "python",
   "name": "python3"
  },
  "language_info": {
   "codemirror_mode": {
    "name": "ipython",
    "version": 3
   },
   "file_extension": ".py",
   "mimetype": "text/x-python",
   "name": "python",
   "nbconvert_exporter": "python",
   "pygments_lexer": "ipython3",
   "version": "3.10.15"
  }
 },
 "nbformat": 4,
 "nbformat_minor": 5
}
