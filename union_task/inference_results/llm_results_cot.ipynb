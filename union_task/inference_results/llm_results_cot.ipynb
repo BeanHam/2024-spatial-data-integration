{
 "cells": [
  {
   "cell_type": "code",
   "execution_count": 1,
   "id": "6d37fe41",
   "metadata": {},
   "outputs": [],
   "source": [
    "import string\n",
    "import numpy as np\n",
    "import pandas as pd\n",
    "from itertools import product\n",
    "from collections import Counter\n",
    "from datasets import load_dataset\n",
    "from sklearn.metrics import accuracy_score, confusion_matrix, f1_score"
   ]
  },
  {
   "cell_type": "code",
   "execution_count": 2,
   "id": "64c5a9d2-e256-416e-b99c-a568dc10ca1e",
   "metadata": {},
   "outputs": [],
   "source": [
    "def metric_calculation(pred, gt):    \n",
    "    acc=accuracy_score(gt, pred)\n",
    "    f1=f1_score(gt, pred, average='macro')\n",
    "    confusion=confusion_matrix(gt, pred)\n",
    "    fpr=confusion[0,1]/len(gt) ## predict to be 1; actual 0\n",
    "    fnr=confusion[1,0]/len(gt) ## predict to be 0; actual 1\n",
    "    return acc, f1, fpr, fnr"
   ]
  },
  {
   "cell_type": "code",
   "execution_count": 3,
   "id": "4afb2d5c-7e55-4e7a-bfcb-29c98667467c",
   "metadata": {},
   "outputs": [],
   "source": [
    "def post_processing(pred):\n",
    "\n",
    "    ## only use the last 3 sentences\n",
    "    #proc_pred=[]\n",
    "    #for p in pred:\n",
    "    #    splits=[s for s in p.lower().split('\\n') if s != '']\n",
    "    #    proc_pred.append(' '.join(splits[-3:]).translate(str.maketrans('', '', string.punctuation)))\n",
    "    \n",
    "    proc_pred=[]\n",
    "    for p in pred:\n",
    "        splits=[s for s in p.lower().split('\\n') if s != '']\n",
    "        proc_pred.append(splits[-1].translate(str.maketrans('', '', string.punctuation)))\n",
    "    \n",
    "    new_pred=[]\n",
    "    for p in proc_pred:       \n",
    "        if 'response' in p:\n",
    "            try: new_pred.append([t for t in p.lower().split('response')[1].split() if t.isnumeric()][0])\n",
    "            except: new_pred.append(2)\n",
    "        elif 'output' in p:\n",
    "            try: new_pred.append([t for t in p.lower().split('output')[1].split() if t.isnumeric()][0])\n",
    "            except: new_pred.append(2)\n",
    "        elif 'return' in p:\n",
    "            try: new_pred.append([t for t in p.lower().split('return')[1].split() if t.isnumeric()][0])\n",
    "            except: new_pred.append(2)\n",
    "        elif 'result' in p:\n",
    "            try: new_pred.append([t for t in p.lower().split('result')[1].split() if t.isnumeric()][0])\n",
    "            except: new_pred.append(2)                \n",
    "        else:\n",
    "            try: new_pred.append(p.lower().split()[0].replace('</s>', ''))\n",
    "            except:new_pred.append(2)\n",
    "    new_pred = np.array([int(float(i)) if i in ['0', '0.0', '1', '1.0'] else 2 for i in new_pred])\n",
    "    return new_pred"
   ]
  },
  {
   "cell_type": "code",
   "execution_count": 4,
   "id": "9ad1aa0e-fe18-458e-b5b5-70df9e1443fd",
   "metadata": {},
   "outputs": [],
   "source": [
    "ds = load_dataset(\"beanham/spatial_union_dataset\")\n",
    "test=ds['test']\n",
    "gt=np.array(test['label'])\n",
    "configs = [\n",
    "    'zero_shot_with_heur_value_angle_cot',\n",
    "    'zero_shot_with_heur_value_area_cot',\n",
    "    'zero_shot_with_heur_value_angle_area_cot',    \n",
    "    'few_shot_with_heur_value_angle_cot',\n",
    "    'few_shot_with_heur_value_area_cot',\n",
    "    'few_shot_with_heur_value_angle_area_cot'\n",
    "]"
   ]
  },
  {
   "cell_type": "code",
   "execution_count": 14,
   "id": "cb9c7def-149f-4ea9-95c7-47aa29b4dd76",
   "metadata": {},
   "outputs": [
    {
     "name": "stdout",
     "output_type": "stream",
     "text": [
      "Model: 4o_mini...\n"
     ]
    }
   ],
   "source": [
    "results=[]\n",
    "models=['llama3', 'mistral', '4o_mini', 'qwen_plus', '4o']\n",
    "\n",
    "configs = [\n",
    "    'zero_shot_with_heur_value_angle_cot',\n",
    "    #'zero_shot_with_heur_value_area_cot',\n",
    "    #'zero_shot_with_heur_value_angle_area_cot',    \n",
    "    #'few_shot_with_heur_value_angle_cot',\n",
    "    #'few_shot_with_heur_value_area_cot',\n",
    "    #'few_shot_with_heur_value_angle_area_cot'\n",
    "]\n",
    "models=['4o_mini']\n",
    "for model in models:\n",
    "    print(f'Model: {model}...')\n",
    "    for config in configs:\n",
    "        pred=np.load(f'base/{model}/{model}_{config}.npy')\n",
    "        pred=post_processing(pred)        \n",
    "        metrics=metric_calculation(pred, gt)\n",
    "        results.append([config, model, round(metrics[0],3), metrics[1]])\n",
    "results=pd.DataFrame(results, columns=['config', 'model', 'acc', 'f1'])"
   ]
  },
  {
   "cell_type": "code",
   "execution_count": 18,
   "id": "004d133c-f2e7-413d-b9a8-33b7980b1da2",
   "metadata": {},
   "outputs": [
    {
     "data": {
      "text/plain": [
       "98"
      ]
     },
     "execution_count": 18,
     "metadata": {},
     "output_type": "execute_result"
    }
   ],
   "source": [
    "pred=np.load(f'base/{model}/{model}_{config}.npy')\n",
    "a=post_processing(pred)\n",
    "wrong_index=np.where(a==2)[0]\n",
    "len(wrong_index)"
   ]
  },
  {
   "cell_type": "code",
   "execution_count": 23,
   "id": "a212a132-2da7-4455-a08f-7fb1a278f241",
   "metadata": {},
   "outputs": [
    {
     "name": "stdout",
     "output_type": "stream",
     "text": [
      "To determine whether the two sidewalks represent the same sidewalk, we need to evaluate the parallelism condition based on the provided min_angle statistic.\n",
      "\n",
      "### Step 1: Extract Coordinates\n",
      "We have the following coordinates for the sidewalks and the road:\n",
      "\n",
      "- **Sidewalk 1 (Sidewalk)**:\n",
      "  - Coordinates: \n",
      "    - Point 1: [-122.15352219999998, 47.6177819]\n",
      "    - Point 2: [-122.1535463, 47.617803399999985]\n",
      "    - Point 3: [-122.1535526, 47.61833550000001]\n",
      "    - Point 4: [-122.1535372, 47.61836149999999]\n",
      "    - Point 5: [-122.15353780000001, 47.61844260000001]\n",
      "\n",
      "- **Sidewalk 2 (Road)**:\n",
      "  - Coordinates:\n",
      "    - Point 1: [-122.1535517, 47.6182195]\n",
      "    - Point 2: [-122.1535448, 47.6180968]\n",
      "\n",
      "### Step 2: Calculate the Orientation of Each Line\n",
      "To determine the orientation of each line, we can calculate the angle of the line segments formed by the coordinates.\n",
      "\n",
      "#### Sidewalk Orientation Calculation\n",
      "1. **Calculate the angle of the sidewalk**:\n",
      "   - Using the first two points of the sidewalk:\n",
      "     - Point A: (-122.15352219999998, 47.6177819)\n",
      "     - Point B: (-122.1535463, 47.617803399999985)\n",
      "   - The change in coordinates (Δx, Δy):\n",
      "     - Δx = -122.1535463 - (-122.15352219999998) = -0.000024100000020\n",
      "     - Δy = 47.617803399999985 - 47.6177819 = 0.000021499999985\n",
      "   - The angle (in radians) can be calculated using the arctangent function:\n",
      "     - angle = atan2(Δy, Δx)\n",
      "\n",
      "2. **Calculate the angle of the road**:\n",
      "   - Using the two points of the road:\n",
      "     - Point A: (-122.1535517, 47.6182195)\n",
      "     - Point B: (-122.1535448, 47.6180968)\n",
      "   - The\n"
     ]
    }
   ],
   "source": [
    "print(pred[wrong_index[4]])"
   ]
  },
  {
   "cell_type": "code",
   "execution_count": null,
   "id": "43a256b9-2998-4fd5-b087-855a51692a10",
   "metadata": {},
   "outputs": [],
   "source": []
  },
  {
   "cell_type": "code",
   "execution_count": 15,
   "id": "ec3951e9-45cc-406e-8822-670b126a94b4",
   "metadata": {},
   "outputs": [
    {
     "data": {
      "text/html": [
       "<div>\n",
       "<style scoped>\n",
       "    .dataframe tbody tr th:only-of-type {\n",
       "        vertical-align: middle;\n",
       "    }\n",
       "\n",
       "    .dataframe tbody tr th {\n",
       "        vertical-align: top;\n",
       "    }\n",
       "\n",
       "    .dataframe thead th {\n",
       "        text-align: right;\n",
       "    }\n",
       "</style>\n",
       "<table border=\"1\" class=\"dataframe\">\n",
       "  <thead>\n",
       "    <tr style=\"text-align: right;\">\n",
       "      <th></th>\n",
       "      <th>config</th>\n",
       "      <th>model</th>\n",
       "      <th>acc</th>\n",
       "      <th>f1</th>\n",
       "    </tr>\n",
       "  </thead>\n",
       "  <tbody>\n",
       "    <tr>\n",
       "      <th>0</th>\n",
       "      <td>zero_shot_with_heur_value_angle_cot</td>\n",
       "      <td>4o_mini</td>\n",
       "      <td>0.591</td>\n",
       "      <td>0.380754</td>\n",
       "    </tr>\n",
       "  </tbody>\n",
       "</table>\n",
       "</div>"
      ],
      "text/plain": [
       "                                config    model    acc        f1\n",
       "0  zero_shot_with_heur_value_angle_cot  4o_mini  0.591  0.380754"
      ]
     },
     "execution_count": 15,
     "metadata": {},
     "output_type": "execute_result"
    }
   ],
   "source": [
    "results[results['model']==model]"
   ]
  }
 ],
 "metadata": {
  "kernelspec": {
   "display_name": "Python 3 (ipykernel)",
   "language": "python",
   "name": "python3"
  },
  "language_info": {
   "codemirror_mode": {
    "name": "ipython",
    "version": 3
   },
   "file_extension": ".py",
   "mimetype": "text/x-python",
   "name": "python",
   "nbconvert_exporter": "python",
   "pygments_lexer": "ipython3",
   "version": "3.10.15"
  }
 },
 "nbformat": 4,
 "nbformat_minor": 5
}
