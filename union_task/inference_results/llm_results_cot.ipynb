{
 "cells": [
  {
   "cell_type": "code",
   "execution_count": 1,
   "id": "6d37fe41",
   "metadata": {},
   "outputs": [],
   "source": [
    "import string\n",
    "import numpy as np\n",
    "import pandas as pd\n",
    "from itertools import product\n",
    "from collections import Counter\n",
    "from datasets import load_dataset\n",
    "from sklearn.metrics import accuracy_score, confusion_matrix, f1_score"
   ]
  },
  {
   "cell_type": "code",
   "execution_count": 2,
   "id": "64c5a9d2-e256-416e-b99c-a568dc10ca1e",
   "metadata": {},
   "outputs": [],
   "source": [
    "def metric_calculation(pred, gt):    \n",
    "    acc=accuracy_score(gt, pred)\n",
    "    f1=f1_score(gt, pred, average='macro')\n",
    "    confusion=confusion_matrix(gt, pred)\n",
    "    fpr=confusion[0,1]/len(gt) ## predict to be 1; actual 0\n",
    "    fnr=confusion[1,0]/len(gt) ## predict to be 0; actual 1\n",
    "    return acc, f1, fpr, fnr"
   ]
  },
  {
   "cell_type": "code",
   "execution_count": 3,
   "id": "4afb2d5c-7e55-4e7a-bfcb-29c98667467c",
   "metadata": {},
   "outputs": [],
   "source": [
    "def post_processing(pred):\n",
    "\n",
    "    ## only use the last 3 sentences\n",
    "    #proc_pred=[]\n",
    "    #for p in pred:\n",
    "    #    splits=[s for s in p.lower().split('\\n') if s != '']\n",
    "    #    proc_pred.append(' '.join(splits[-3:]).translate(str.maketrans('', '', string.punctuation)))\n",
    "    \n",
    "    proc_pred=[]\n",
    "    for p in pred:\n",
    "        splits=[s for s in p.lower().split('\\n') if s != '']\n",
    "        proc_pred.append(splits[-1].translate(str.maketrans('', '', string.punctuation)))\n",
    "    \n",
    "    new_pred=[]\n",
    "    for p in proc_pred:       \n",
    "        if 'response' in p:\n",
    "            try: new_pred.append([t for t in p.lower().split('response')[1].split() if t.isnumeric()][0])\n",
    "            except: new_pred.append(2)\n",
    "        elif 'output' in p:\n",
    "            try: new_pred.append([t for t in p.lower().split('output')[1].split() if t.isnumeric()][0])\n",
    "            except: new_pred.append(2)\n",
    "        elif 'return' in p:\n",
    "            try: new_pred.append([t for t in p.lower().split('return')[1].split() if t.isnumeric()][0])\n",
    "            except: new_pred.append(2)\n",
    "        elif 'result' in p:\n",
    "            try: new_pred.append([t for t in p.lower().split('result')[1].split() if t.isnumeric()][0])\n",
    "            except: new_pred.append(2)                \n",
    "        else:\n",
    "            try: new_pred.append(p.lower().split()[0].replace('</s>', ''))\n",
    "            except:new_pred.append(2)\n",
    "    new_pred = np.array([int(float(i)) if i in ['0', '0.0', '1', '1.0'] else 2 for i in new_pred])\n",
    "    return new_pred"
   ]
  },
  {
   "cell_type": "code",
   "execution_count": 4,
   "id": "9ad1aa0e-fe18-458e-b5b5-70df9e1443fd",
   "metadata": {},
   "outputs": [],
   "source": [
    "ds = load_dataset(\"beanham/spatial_union_dataset\")\n",
    "test=ds['test']\n",
    "gt=np.array(test['label'])\n",
    "configs = [\n",
    "    'zero_shot_with_heur_value_angle_cot',\n",
    "    'zero_shot_with_heur_value_area_cot',\n",
    "    'zero_shot_with_heur_value_angle_area_cot',    \n",
    "    'few_shot_with_heur_value_angle_cot',\n",
    "    'few_shot_with_heur_value_area_cot',\n",
    "    'few_shot_with_heur_value_angle_area_cot'\n",
    "]"
   ]
  },
  {
   "cell_type": "code",
   "execution_count": 35,
   "id": "cb9c7def-149f-4ea9-95c7-47aa29b4dd76",
   "metadata": {},
   "outputs": [
    {
     "name": "stdout",
     "output_type": "stream",
     "text": [
      "Model: qwen_plus...\n"
     ]
    }
   ],
   "source": [
    "results=[]\n",
    "models=['llama3', 'mistral', '4o_mini', 'qwen_plus', '4o']\n",
    "\n",
    "configs = [\n",
    "    'zero_shot_with_heur_value_angle_cot',\n",
    "    'zero_shot_with_heur_value_area_cot',\n",
    "    'zero_shot_with_heur_value_angle_area_cot',    \n",
    "    'few_shot_with_heur_value_angle_cot',\n",
    "    #'few_shot_with_heur_value_area_cot',\n",
    "    #'few_shot_with_heur_value_angle_area_cot'\n",
    "]\n",
    "models=['qwen_plus']\n",
    "for model in models:\n",
    "    print(f'Model: {model}...')\n",
    "    for config in configs:\n",
    "        pred=np.load(f'base/{model}/{model}_{config}.npy')\n",
    "        if model=='mistral':\n",
    "            pred=post_processing_old(pred)\n",
    "        else:\n",
    "            pred=post_processing(pred)\n",
    "        metrics=metric_calculation(pred, gt)\n",
    "        results.append([config, model, round(metrics[0],3), metrics[1]])\n",
    "results=pd.DataFrame(results, columns=['config', 'model', 'acc', 'f1'])"
   ]
  },
  {
   "cell_type": "code",
   "execution_count": 37,
   "id": "004d133c-f2e7-413d-b9a8-33b7980b1da2",
   "metadata": {},
   "outputs": [
    {
     "data": {
      "text/plain": [
       "321"
      ]
     },
     "execution_count": 37,
     "metadata": {},
     "output_type": "execute_result"
    }
   ],
   "source": [
    "config='zero_shot_with_heur_value_angle_cot'\n",
    "pred=np.load(f'base/{model}/{model}_{config}.npy')\n",
    "a=post_processing(pred)\n",
    "wrong_index=np.where(a==2)[0]\n",
    "len(wrong_index)"
   ]
  },
  {
   "cell_type": "code",
   "execution_count": 49,
   "id": "fa803839-8880-45f3-899c-20107f00c116",
   "metadata": {},
   "outputs": [
    {
     "data": {
      "text/plain": [
       "'To determine whether the two geometries (sidewalk and road) represent the same sidewalk either fully or partially, we evaluate the condition based on **parallelism**. The key statistic provided is `min_angle`, which represents the minimum angular difference between the sidewalk and the road.\\n\\n### Analysis:\\n- **Parallelism Condition**: If the two geometries are approximately parallel, the angular difference (`min_angle`) should be small. In this case, the provided value of `min_angle` is **0.0908 degrees**.\\n  \\n#### Threshold Evaluation:\\nWhile no explicit threshold for `min_angle` is provided in the instruction, a typical tolerance for determining parallelism between two line geometries in geospatial analysis is often around **1–2 degrees**, depending on the application. Given that the `min_angle` value here is much smaller than even 1 degree (**0.0908 degrees**), it indicates a negligible angular difference between the sidewalk and the road.\\n\\nThus, based on the `min_angle` value, the two geometries satisfy the parallelism condition.\\n\\n### Conclusion:\\nSince the angular difference is sufficiently small, the two geometries can be considered to represent the same sidewalk either fully or partially.\\n\\n### Final Output:\\n```plaintext\\n1\\n```'"
      ]
     },
     "execution_count": 49,
     "metadata": {},
     "output_type": "execute_result"
    }
   ],
   "source": [
    "pred[11]"
   ]
  },
  {
   "cell_type": "code",
   "execution_count": 36,
   "id": "ec3951e9-45cc-406e-8822-670b126a94b4",
   "metadata": {},
   "outputs": [
    {
     "data": {
      "text/html": [
       "<div>\n",
       "<style scoped>\n",
       "    .dataframe tbody tr th:only-of-type {\n",
       "        vertical-align: middle;\n",
       "    }\n",
       "\n",
       "    .dataframe tbody tr th {\n",
       "        vertical-align: top;\n",
       "    }\n",
       "\n",
       "    .dataframe thead th {\n",
       "        text-align: right;\n",
       "    }\n",
       "</style>\n",
       "<table border=\"1\" class=\"dataframe\">\n",
       "  <thead>\n",
       "    <tr style=\"text-align: right;\">\n",
       "      <th></th>\n",
       "      <th>config</th>\n",
       "      <th>model</th>\n",
       "      <th>acc</th>\n",
       "      <th>f1</th>\n",
       "    </tr>\n",
       "  </thead>\n",
       "  <tbody>\n",
       "    <tr>\n",
       "      <th>0</th>\n",
       "      <td>zero_shot_with_heur_value_angle_cot</td>\n",
       "      <td>qwen_plus</td>\n",
       "      <td>0.160</td>\n",
       "      <td>0.149960</td>\n",
       "    </tr>\n",
       "    <tr>\n",
       "      <th>1</th>\n",
       "      <td>zero_shot_with_heur_value_area_cot</td>\n",
       "      <td>qwen_plus</td>\n",
       "      <td>0.346</td>\n",
       "      <td>0.247629</td>\n",
       "    </tr>\n",
       "    <tr>\n",
       "      <th>2</th>\n",
       "      <td>zero_shot_with_heur_value_angle_area_cot</td>\n",
       "      <td>qwen_plus</td>\n",
       "      <td>0.313</td>\n",
       "      <td>0.306839</td>\n",
       "    </tr>\n",
       "    <tr>\n",
       "      <th>3</th>\n",
       "      <td>few_shot_with_heur_value_angle_cot</td>\n",
       "      <td>qwen_plus</td>\n",
       "      <td>0.684</td>\n",
       "      <td>0.471613</td>\n",
       "    </tr>\n",
       "  </tbody>\n",
       "</table>\n",
       "</div>"
      ],
      "text/plain": [
       "                                     config      model    acc        f1\n",
       "0       zero_shot_with_heur_value_angle_cot  qwen_plus  0.160  0.149960\n",
       "1        zero_shot_with_heur_value_area_cot  qwen_plus  0.346  0.247629\n",
       "2  zero_shot_with_heur_value_angle_area_cot  qwen_plus  0.313  0.306839\n",
       "3        few_shot_with_heur_value_angle_cot  qwen_plus  0.684  0.471613"
      ]
     },
     "execution_count": 36,
     "metadata": {},
     "output_type": "execute_result"
    }
   ],
   "source": [
    "results[results['model']==model]"
   ]
  }
 ],
 "metadata": {
  "kernelspec": {
   "display_name": "Python 3 (ipykernel)",
   "language": "python",
   "name": "python3"
  },
  "language_info": {
   "codemirror_mode": {
    "name": "ipython",
    "version": 3
   },
   "file_extension": ".py",
   "mimetype": "text/x-python",
   "name": "python",
   "nbconvert_exporter": "python",
   "pygments_lexer": "ipython3",
   "version": "3.10.15"
  }
 },
 "nbformat": 4,
 "nbformat_minor": 5
}
