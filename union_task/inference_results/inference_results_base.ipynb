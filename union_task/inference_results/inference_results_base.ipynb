{
 "cells": [
  {
   "cell_type": "code",
   "execution_count": 1,
   "id": "6d37fe41",
   "metadata": {},
   "outputs": [],
   "source": [
    "import numpy as np\n",
    "from collections import Counter\n",
    "from datasets import load_dataset,concatenate_datasets\n",
    "from sklearn.metrics import accuracy_score, confusion_matrix"
   ]
  },
  {
   "cell_type": "code",
   "execution_count": 2,
   "id": "ac231661-2663-44fd-b5ef-00a2c57b01ac",
   "metadata": {},
   "outputs": [],
   "source": [
    "ds = load_dataset(\"beanham/spatial_join_dataset\")\n",
    "test=ds['test']\n",
    "gt=np.array(test['label'])"
   ]
  },
  {
   "cell_type": "code",
   "execution_count": 3,
   "id": "ff555aab-6b7c-423c-b022-bfe8b29d0a99",
   "metadata": {},
   "outputs": [],
   "source": [
    "def metric_calculation(pred, gt):    \n",
    "    acc=accuracy_score(gt, pred)    \n",
    "    confusion=confusion_matrix(gt, pred)\n",
    "    fpr=confusion[0,1]/len(gt) ## predict to be 1; actual 0\n",
    "    fnr=confusion[1,0]/len(gt) ## predict to be 0; actual 1\n",
    "    return acc, fpr, fnr"
   ]
  },
  {
   "cell_type": "markdown",
   "id": "617c2ca8-cad7-4707-b7f3-2d98e75e0d6e",
   "metadata": {},
   "source": [
    "### llama"
   ]
  },
  {
   "cell_type": "code",
   "execution_count": 4,
   "id": "285047a4-0567-4640-8cec-0b14ce78113c",
   "metadata": {},
   "outputs": [],
   "source": [
    "zero_no_exp=np.load('base/llama3/llama3_zero_shot_no_exp.npy')\n",
    "zero_with_exp=np.load('base/llama3/llama3_zero_shot_with_exp.npy')\n",
    "few_no_exp=np.load('base/llama3/llama3_few_shot_no_exp.npy')\n",
    "few_with_exp=np.load('base/llama3/llama3_few_shot_with_exp.npy')\n",
    "\n",
    "## post-processing\n",
    "zero_no_exp = np.array([i.split('Response')[1].split('\\n')[1] if 'Response' in i else i.split()[0] for i in zero_no_exp])\n",
    "few_no_exp = np.array([i.split('}')[0].replace('{','') if '{' in i else i.split()[0] for i in few_no_exp])\n",
    "zero_with_exp = np.array([i.split('Response')[1].split()[1] if 'Response' in i else i.split()[0] for i in zero_with_exp])\n",
    "few_with_exp = np.array([i.split('}')[0].replace('{','') if '{' in i else i.split()[0] for i in few_with_exp])\n",
    "zero_no_exp = np.array([int(float(i)) if i in ['0', '0.0', '1', '1.0'] else 2 for i in zero_no_exp])\n",
    "zero_with_exp = np.array([int(float(i)) if i in ['0', '0.0', '1', '1.0'] else 2 for i in zero_with_exp])\n",
    "few_no_exp = np.array([int(float(i)) if i in ['0', '0.0', '1', '1.0'] else 2 for i in few_no_exp])\n",
    "few_with_exp = np.array([int(float(i)) if i in ['0', '0.0', '1', '1.0'] else 2 for i in few_with_exp])"
   ]
  },
  {
   "cell_type": "code",
   "execution_count": 5,
   "id": "511faacd-329b-4acf-8a72-d391f9b3120e",
   "metadata": {},
   "outputs": [
    {
     "data": {
      "text/plain": [
       "(Counter({0: 1962, 1: 1062, 2: 45}),\n",
       " Counter({1: 1942, 0: 1125, 2: 2}),\n",
       " Counter({0: 2668, 1: 392, 2: 9}),\n",
       " Counter({1: 1722, 0: 1334, 2: 13}))"
      ]
     },
     "execution_count": 5,
     "metadata": {},
     "output_type": "execute_result"
    }
   ],
   "source": [
    "Counter(zero_no_exp), Counter(zero_with_exp), Counter(few_no_exp), Counter(few_with_exp)"
   ]
  },
  {
   "cell_type": "code",
   "execution_count": 6,
   "id": "2bd58011-b06a-44e2-9cbd-72651d20683c",
   "metadata": {},
   "outputs": [
    {
     "name": "stdout",
     "output_type": "stream",
     "text": [
      "Zero, No Heuristic (0.47409579667644186, 0.1335940045617465, 0.3776474421635712)\n",
      "Zero, With Heuristic (0.5294884327142392, 0.2512218963831867, 0.21863799283154123)\n",
      "Few, No Heuristic (0.47768002606712284, 0.024437927663734114, 0.494949494949495)\n",
      "Few, With Heuristic (0.6168132942326491, 0.17139133268165527, 0.20755946562398175)\n"
     ]
    }
   ],
   "source": [
    "print('Zero, No Heuristic', metric_calculation(zero_no_exp, gt))\n",
    "print('Zero, With Heuristic', metric_calculation(zero_with_exp, gt))\n",
    "print('Few, No Heuristic', metric_calculation(few_no_exp, gt))\n",
    "print('Few, With Heuristic', metric_calculation(few_with_exp, gt))"
   ]
  },
  {
   "cell_type": "markdown",
   "id": "18fc3f81-6cd4-407e-847a-b3e6927f9da7",
   "metadata": {},
   "source": [
    "### mistral"
   ]
  },
  {
   "cell_type": "code",
   "execution_count": 7,
   "id": "2a1991e2-d0c6-4095-8d16-4f26f76f4c4e",
   "metadata": {},
   "outputs": [],
   "source": [
    "zero_no_exp=np.load('base/mistral/mistral_zero_shot_no_exp.npy')\n",
    "zero_with_exp=np.load('base/mistral/mistral_zero_shot_with_exp.npy')\n",
    "few_no_exp=np.load('base/mistral/mistral_few_shot_no_exp.npy')\n",
    "few_with_exp=np.load('base/mistral/mistral_few_shot_with_exp.npy')"
   ]
  },
  {
   "cell_type": "code",
   "execution_count": 8,
   "id": "a68de35e-2779-4bb5-97e3-fb427463b56e",
   "metadata": {},
   "outputs": [],
   "source": [
    "## post-processing\n",
    "zero_no_exp = np.array([i.split('Response')[1].split('\\n')[1].replace('</s>', '') if 'Response' in i else i.split()[0].replace('</s>', '') for i in zero_no_exp])\n",
    "few_no_exp = np.array([i.split('Response')[1].split('}')[0].split('{')[1] if 'Response' in i else i.split('}')[0].replace('{','').replace('</s>', '') for i in few_no_exp])\n",
    "zero_with_exp = np.array([i.split('Response')[1].split('\\n')[1].replace('</s>', '') if 'Response' in i else i.split()[0].replace('</s>', '') for i in zero_with_exp])\n",
    "few_with_exp = np.array([i.split('Response')[1].split('}')[0].split('{')[1] if 'Response' in i else i.split('}')[0].replace('{','').replace('</s>', '') for i in few_with_exp])\n",
    "zero_no_exp = np.array([int(float(i)) if i in ['0', '0.0', '1', '1.0'] else 2 for i in zero_no_exp])\n",
    "zero_with_exp = np.array([int(float(i)) if i in ['0', '0.0', '1', '1.0'] else 2 for i in zero_with_exp])\n",
    "few_no_exp = np.array([int(float(i)) if i in ['0', '0.0', '1', '1.0'] else 2 for i in few_no_exp])\n",
    "few_with_exp = np.array([int(float(i)) if i in ['0', '0.0', '1', '1.0'] else 2 for i in few_with_exp])"
   ]
  },
  {
   "cell_type": "code",
   "execution_count": 9,
   "id": "3b84619f-5eb5-4f1e-bcca-90a30df3394e",
   "metadata": {},
   "outputs": [
    {
     "data": {
      "text/plain": [
       "(Counter({1: 3065, 0: 4}),\n",
       " Counter({1: 3069}),\n",
       " Counter({0: 2239, 1: 830}),\n",
       " Counter({0: 2429, 1: 637, 2: 3}))"
      ]
     },
     "execution_count": 9,
     "metadata": {},
     "output_type": "execute_result"
    }
   ],
   "source": [
    "Counter(zero_no_exp), Counter(zero_with_exp), Counter(few_no_exp), Counter(few_with_exp)"
   ]
  },
  {
   "cell_type": "code",
   "execution_count": 10,
   "id": "ba94a846-cb05-4719-83d3-5db91e24ce56",
   "metadata": {},
   "outputs": [
    {
     "name": "stdout",
     "output_type": "stream",
     "text": [
      "Zero, No Heuristic (0.6008471814923427, 0.3985011404366243, 0.0006516780710329097)\n",
      "Zero, With Heuristic (0.6008471814923427, 0.3991528185076572, 0.0)\n",
      "Few, No Heuristic (0.5158031932225481, 0.07689801238188335, 0.4072987943955686)\n",
      "Few, With Heuristic (0.5187357445421962, 0.04398826979472141, 0.4362984685565331)\n"
     ]
    }
   ],
   "source": [
    "print('Zero, No Heuristic', metric_calculation(zero_no_exp, gt))\n",
    "print('Zero, With Heuristic', metric_calculation(zero_with_exp, gt))\n",
    "print('Few, No Heuristic', metric_calculation(few_no_exp, gt))\n",
    "print('Few, With Heuristic', metric_calculation(few_with_exp, gt))"
   ]
  },
  {
   "cell_type": "markdown",
   "id": "96785e98-3a55-47b1-b44c-5bc930b1bc2c",
   "metadata": {},
   "source": [
    "### 4o-mini"
   ]
  },
  {
   "cell_type": "code",
   "execution_count": 4,
   "id": "8c9cb2ea-f38c-4c8d-a4a8-c85692b3bc40",
   "metadata": {},
   "outputs": [],
   "source": [
    "zero_no_exp=np.load('base/4o_mini/4o_mini_zero_shot_no_exp.npy')\n",
    "zero_with_exp=np.load('base/4o_mini/4o_mini_zero_shot_with_exp.npy')\n",
    "few_no_exp=np.load('base/4o_mini/4o_mini_few_shot_no_exp.npy')\n",
    "few_with_exp=np.load('base/4o_mini/4o_mini_few_shot_with_exp.npy')\n",
    "\n",
    "## post-processing\n",
    "few_no_exp = np.array([i.split('}')[0].split('{')[1] for i in few_no_exp])\n",
    "few_with_exp = np.array([i.split('}')[0].split('{')[1] for i in few_with_exp])\n",
    "zero_no_exp = np.array([int(float(i)) if i in ['0', '0.0', '1', '1.0'] else 2 for i in zero_no_exp])\n",
    "zero_with_exp = np.array([int(float(i)) if i in ['0', '0.0', '1', '1.0'] else 2 for i in zero_with_exp])\n",
    "few_no_exp = np.array([int(float(i)) if i in ['0', '0.0', '1', '1.0'] else 2 for i in few_no_exp])\n",
    "few_with_exp = np.array([int(float(i)) if i in ['0', '0.0', '1', '1.0'] else 2 for i in few_with_exp])"
   ]
  },
  {
   "cell_type": "code",
   "execution_count": 5,
   "id": "4c0b05db-ef83-4349-95c8-91f976efaa3e",
   "metadata": {},
   "outputs": [
    {
     "data": {
      "text/plain": [
       "(Counter({0: 1873, 1: 1196}),\n",
       " Counter({1: 2321, 0: 748}),\n",
       " Counter({1: 1625, 0: 1444}),\n",
       " Counter({1: 2211, 0: 858}))"
      ]
     },
     "execution_count": 5,
     "metadata": {},
     "output_type": "execute_result"
    }
   ],
   "source": [
    "Counter(zero_no_exp), Counter(zero_with_exp), Counter(few_no_exp), Counter(few_with_exp)"
   ]
  },
  {
   "cell_type": "code",
   "execution_count": 6,
   "id": "f7bf5a72-04e9-451d-9c81-9b9a266409b7",
   "metadata": {},
   "outputs": [
    {
     "name": "stdout",
     "output_type": "stream",
     "text": [
      "Zero, No Heuristic (0.4447702834799609, 0.17204301075268819, 0.3831867057673509)\n",
      "Zero, With Heuristic (0.8126425545780385, 0.17139133268165527, 0.01596611274030629)\n",
      "Few, No Heuristic (0.5135223199739328, 0.20755946562398175, 0.27891821440208536)\n",
      "Few, With Heuristic (0.8797653958944281, 0.11990876507005539, 0.00032583903551645487)\n"
     ]
    }
   ],
   "source": [
    "print('Zero, No Heuristic', metric_calculation(zero_no_exp, gt))\n",
    "print('Zero, With Heuristic', metric_calculation(zero_with_exp, gt))\n",
    "print('Few, No Heuristic', metric_calculation(few_no_exp, gt))\n",
    "print('Few, With Heuristic', metric_calculation(few_with_exp, gt))"
   ]
  },
  {
   "cell_type": "markdown",
   "id": "5287fe31-2399-40f0-b4d2-434fbe7c134a",
   "metadata": {},
   "source": [
    "### 4o"
   ]
  },
  {
   "cell_type": "code",
   "execution_count": 7,
   "id": "81887730-c917-4dd9-a259-e1e5fa18d35c",
   "metadata": {},
   "outputs": [],
   "source": [
    "zero_no_exp=np.load('base/4o/4o_zero_shot_no_exp.npy')\n",
    "zero_with_exp=np.load('base/4o/4o_zero_shot_with_exp.npy')\n",
    "few_no_exp=np.load('base/4o/4o_few_shot_no_exp.npy')\n",
    "few_with_exp=np.load('base/4o/4o_few_shot_with_exp.npy')\n",
    "\n",
    "## post-processing\n",
    "few_no_exp = np.array([i.split('}')[0].split('{')[1] for i in few_no_exp])\n",
    "few_with_exp = np.array([i.split('}')[0].split('{')[1] for i in few_with_exp])\n",
    "zero_no_exp = np.array([int(float(i)) if i in ['0', '0.0', '1', '1.0'] else 2 for i in zero_no_exp])\n",
    "zero_with_exp = np.array([int(float(i)) if i in ['0', '0.0', '1', '1.0'] else 2 for i in zero_with_exp])\n",
    "few_no_exp = np.array([int(float(i)) if i in ['0', '0.0', '1', '1.0'] else 2 for i in few_no_exp])\n",
    "few_with_exp = np.array([int(float(i)) if i in ['0', '0.0', '1', '1.0'] else 2 for i in few_with_exp])"
   ]
  },
  {
   "cell_type": "code",
   "execution_count": 8,
   "id": "a8368e3d-66e4-40e7-baa3-9cc7411fe1a3",
   "metadata": {},
   "outputs": [
    {
     "data": {
      "text/plain": [
       "(Counter({0: 1669, 1: 1400}),\n",
       " Counter({1: 1792, 0: 1277}),\n",
       " Counter({1: 2751, 0: 318}),\n",
       " Counter({1: 2059, 0: 1010}))"
      ]
     },
     "execution_count": 8,
     "metadata": {},
     "output_type": "execute_result"
    }
   ],
   "source": [
    "Counter(zero_no_exp), Counter(zero_with_exp), Counter(few_no_exp), Counter(few_with_exp)"
   ]
  },
  {
   "cell_type": "code",
   "execution_count": 9,
   "id": "4456f30c-37ba-4ea1-bbce-45c2f1fcc0f6",
   "metadata": {},
   "outputs": [
    {
     "name": "stdout",
     "output_type": "stream",
     "text": [
      "Zero, No Heuristic (0.49560117302052786, 0.1798631476050831, 0.32453567937438904)\n",
      "Zero, With Heuristic (0.9139784946236559, 0.03453893776474422, 0.05148256761159987)\n",
      "Few, No Heuristic (0.6340827631150212, 0.3307266210492017, 0.03519061583577713)\n",
      "Few, With Heuristic (0.9273378950798306, 0.07135874877810362, 0.0013033561420658195)\n"
     ]
    }
   ],
   "source": [
    "print('Zero, No Heuristic', metric_calculation(zero_no_exp, gt))\n",
    "print('Zero, With Heuristic', metric_calculation(zero_with_exp, gt))\n",
    "print('Few, No Heuristic', metric_calculation(few_no_exp, gt))\n",
    "print('Few, With Heuristic', metric_calculation(few_with_exp, gt))"
   ]
  },
  {
   "cell_type": "markdown",
   "id": "80ec4007-cd3e-47b5-a7f6-5209e80bcbe8",
   "metadata": {},
   "source": [
    "### o3-mini"
   ]
  },
  {
   "cell_type": "code",
   "execution_count": 49,
   "id": "1c0caf6f-0e96-4563-9425-9973438691a4",
   "metadata": {},
   "outputs": [],
   "source": [
    "zero_no_exp=np.load('base/o3_mini/o3_mini_zero_shot_no_exp.npy')\n",
    "few_no_exp=np.load('base/o3_mini/o3_mini_few_shot_no_exp.npy')\n",
    "few_with_exp=np.load('base/o3_mini/o3_mini_few_shot_with_exp.npy')\n",
    "few_with_exp[np.where(few_with_exp=='1')]='{1}'\n",
    "few_with_exp[np.where(few_with_exp=='0')]='{0}'"
   ]
  },
  {
   "cell_type": "code",
   "execution_count": 50,
   "id": "d35c0a37-c33b-4249-89d4-83932c0d5e2c",
   "metadata": {},
   "outputs": [],
   "source": [
    "few_no_exp = np.array([i.split('Response:')[1].split('}')[0].split('{')[1] if 'Response' in i else  i.split('}')[0].split('{')[1]  for i in few_no_exp])\n",
    "few_with_exp = np.array([i.split('Response:')[1].split('}')[0].split('{')[1] if 'Response' in i else  i.split('}')[0].split('{')[1]  for i in few_with_exp])\n",
    "zero_no_exp = np.array([int(float(i)) if i in ['0', '0.0', '1', '1.0'] else 2 for i in zero_no_exp])\n",
    "few_no_exp = np.array([int(float(i)) if i in ['0', '0.0', '1', '1.0'] else 2 for i in few_no_exp])\n",
    "few_with_exp = np.array([int(float(i)) if i in ['0', '0.0', '1', '1.0'] else 2 for i in few_with_exp])"
   ]
  },
  {
   "cell_type": "code",
   "execution_count": 52,
   "id": "f7223045-3b99-4609-b95b-294cf85fe196",
   "metadata": {},
   "outputs": [
    {
     "name": "stdout",
     "output_type": "stream",
     "text": [
      "Zero, No Heuristic (0.9231019876181167, 0.05311176278918214, 0.023786249592701206)\n",
      "Few, No Heuristic (0.9198435972629521, 0.03779732811990877, 0.042359074617139135)\n",
      "Few, With Heuristic (0.9364613880742912, 0.06158357771260997, 0.0019550342130987292)\n"
     ]
    }
   ],
   "source": [
    "print('Zero, No Heuristic', metric_calculation(zero_no_exp, gt))\n",
    "#print('Zero, With Heuristic', metric_calculation(zero_with_exp, gt))\n",
    "print('Few, No Heuristic', metric_calculation(few_no_exp, gt))\n",
    "print('Few, With Heuristic', metric_calculation(few_with_exp, gt))"
   ]
  }
 ],
 "metadata": {
  "kernelspec": {
   "display_name": "Python 3 (ipykernel)",
   "language": "python",
   "name": "python3"
  },
  "language_info": {
   "codemirror_mode": {
    "name": "ipython",
    "version": 3
   },
   "file_extension": ".py",
   "mimetype": "text/x-python",
   "name": "python",
   "nbconvert_exporter": "python",
   "pygments_lexer": "ipython3",
   "version": "3.10.15"
  }
 },
 "nbformat": 4,
 "nbformat_minor": 5
}
