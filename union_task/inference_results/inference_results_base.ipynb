{
 "cells": [
  {
   "cell_type": "code",
   "execution_count": 1,
   "id": "6d37fe41",
   "metadata": {},
   "outputs": [],
   "source": [
    "import numpy as np\n",
    "from collections import Counter\n",
    "from datasets import load_dataset,concatenate_datasets\n",
    "from sklearn.metrics import accuracy_score, confusion_matrix"
   ]
  },
  {
   "cell_type": "code",
   "execution_count": 2,
   "id": "ac231661-2663-44fd-b5ef-00a2c57b01ac",
   "metadata": {},
   "outputs": [],
   "source": [
    "ds = load_dataset(\"beanham/spatial_union_dataset\")\n",
    "test=ds['test']\n",
    "gt=np.array(test['label'])"
   ]
  },
  {
   "cell_type": "code",
   "execution_count": 3,
   "id": "ff555aab-6b7c-423c-b022-bfe8b29d0a99",
   "metadata": {},
   "outputs": [],
   "source": [
    "def metric_calculation(pred, gt):    \n",
    "    acc=accuracy_score(gt, pred)    \n",
    "    confusion=confusion_matrix(gt, pred)\n",
    "    fpr=confusion[0,1]/len(gt) ## predict to be 1; actual 0\n",
    "    fnr=confusion[1,0]/len(gt) ## predict to be 0; actual 1\n",
    "    return acc, fpr, fnr"
   ]
  },
  {
   "cell_type": "markdown",
   "id": "617c2ca8-cad7-4707-b7f3-2d98e75e0d6e",
   "metadata": {},
   "source": [
    "### llama"
   ]
  },
  {
   "cell_type": "code",
   "execution_count": 4,
   "id": "285047a4-0567-4640-8cec-0b14ce78113c",
   "metadata": {},
   "outputs": [],
   "source": [
    "zero_no_exp=np.load('base/llama3/llama3_zero_shot_no_exp.npy')\n",
    "zero_with_exp=np.load('base/llama3/llama3_zero_shot_with_exp.npy')\n",
    "few_no_exp=np.load('base/llama3/llama3_few_shot_no_exp.npy')\n",
    "few_with_exp=np.load('base/llama3/llama3_few_shot_with_exp.npy')\n",
    "\n",
    "## post-processing\n",
    "zero_no_exp = np.array([i.split('Response')[1].split('\\n')[1] if 'Response' in i else i.split()[0] for i in zero_no_exp])\n",
    "few_no_exp = np.array([i.split('}')[0].replace('{','') if '{' in i else i.split()[0] for i in few_no_exp])\n",
    "zero_with_exp = np.array([i.split('Response')[1].split()[1] if 'Response' in i else i.split()[0] for i in zero_with_exp])\n",
    "few_with_exp = np.array([i.split('}')[0].replace('{','') if '{' in i else i.split()[0] for i in few_with_exp])\n",
    "zero_no_exp = np.array([int(float(i)) if i in ['0', '0.0', '1', '1.0'] else 2 for i in zero_no_exp])\n",
    "zero_with_exp = np.array([int(float(i)) if i in ['0', '0.0', '1', '1.0'] else 2 for i in zero_with_exp])\n",
    "few_no_exp = np.array([int(float(i)) if i in ['0', '0.0', '1', '1.0'] else 2 for i in few_no_exp])\n",
    "few_with_exp = np.array([int(float(i)) if i in ['0', '0.0', '1', '1.0'] else 2 for i in few_with_exp])"
   ]
  },
  {
   "cell_type": "code",
   "execution_count": 5,
   "id": "511faacd-329b-4acf-8a72-d391f9b3120e",
   "metadata": {},
   "outputs": [
    {
     "data": {
      "text/plain": [
       "(Counter({0: 245, 1: 154}),\n",
       " Counter({1: 280, 0: 119}),\n",
       " Counter({0: 256, 1: 138, 2: 5}),\n",
       " Counter({1: 222, 0: 171, 2: 6}))"
      ]
     },
     "execution_count": 5,
     "metadata": {},
     "output_type": "execute_result"
    }
   ],
   "source": [
    "Counter(zero_no_exp), Counter(zero_with_exp), Counter(few_no_exp), Counter(few_with_exp)"
   ]
  },
  {
   "cell_type": "code",
   "execution_count": 6,
   "id": "8f337cca-7be6-4554-9a6b-4b974f1f74e3",
   "metadata": {},
   "outputs": [
    {
     "name": "stdout",
     "output_type": "stream",
     "text": [
      "Zero, No Heuristic (0.5213032581453634, 0.11278195488721804, 0.3659147869674185)\n",
      "Zero, With Heuristic (0.6265664160401002, 0.21804511278195488, 0.15538847117794485)\n",
      "Few, No Heuristic (0.49122807017543857, 0.10776942355889724, 0.38847117794486213)\n",
      "Few, With Heuristic (0.6917293233082706, 0.11278195488721804, 0.18045112781954886)\n"
     ]
    }
   ],
   "source": [
    "print('Zero, No Heuristic', metric_calculation(zero_no_exp, gt))\n",
    "print('Zero, With Heuristic', metric_calculation(zero_with_exp, gt))\n",
    "print('Few, No Heuristic', metric_calculation(few_no_exp, gt))\n",
    "print('Few, With Heuristic', metric_calculation(few_with_exp, gt))"
   ]
  },
  {
   "cell_type": "markdown",
   "id": "18fc3f81-6cd4-407e-847a-b3e6927f9da7",
   "metadata": {},
   "source": [
    "### mistral"
   ]
  },
  {
   "cell_type": "code",
   "execution_count": 7,
   "id": "2a1991e2-d0c6-4095-8d16-4f26f76f4c4e",
   "metadata": {},
   "outputs": [],
   "source": [
    "zero_no_exp=np.load('base/mistral/mistral_zero_shot_no_exp.npy')\n",
    "zero_with_exp=np.load('base/mistral/mistral_zero_shot_with_exp.npy')\n",
    "few_no_exp=np.load('base/mistral/mistral_few_shot_no_exp.npy')\n",
    "few_with_exp=np.load('base/mistral/mistral_few_shot_with_exp.npy')"
   ]
  },
  {
   "cell_type": "code",
   "execution_count": 8,
   "id": "a68de35e-2779-4bb5-97e3-fb427463b56e",
   "metadata": {},
   "outputs": [],
   "source": [
    "## post-processing\n",
    "zero_no_exp = np.array([i.split('Response')[1].split('\\n')[1].replace('</s>', '') if 'Response' in i else i.split()[0].replace('</s>', '') for i in zero_no_exp])\n",
    "few_no_exp = np.array([i.split('Response')[1].split('}')[0].split('{')[1] if 'Response' in i else i.split('}')[0].replace('{','').replace('</s>', '') for i in few_no_exp])\n",
    "zero_with_exp = np.array([i.split('Response')[1].split('\\n')[1].replace('</s>', '') if 'Response' in i else i.split()[0].replace('</s>', '') for i in zero_with_exp])\n",
    "few_with_exp = np.array([i.split('Response')[1].split('}')[0].split('{')[1] if 'Response' in i else i.split('}')[0].replace('{','').replace('</s>', '') for i in few_with_exp])\n",
    "zero_no_exp = np.array([int(float(i)) if i in ['0', '0.0', '1', '1.0'] else 2 for i in zero_no_exp])\n",
    "zero_with_exp = np.array([int(float(i)) if i in ['0', '0.0', '1', '1.0'] else 2 for i in zero_with_exp])\n",
    "few_no_exp = np.array([int(float(i)) if i in ['0', '0.0', '1', '1.0'] else 2 for i in few_no_exp])\n",
    "few_with_exp = np.array([int(float(i)) if i in ['0', '0.0', '1', '1.0'] else 2 for i in few_with_exp])"
   ]
  },
  {
   "cell_type": "code",
   "execution_count": 9,
   "id": "3b84619f-5eb5-4f1e-bcca-90a30df3394e",
   "metadata": {},
   "outputs": [
    {
     "data": {
      "text/plain": [
       "(Counter({1: 375, 0: 24}),\n",
       " Counter({1: 399}),\n",
       " Counter({1: 350, 0: 49}),\n",
       " Counter({1: 326, 0: 73}))"
      ]
     },
     "execution_count": 9,
     "metadata": {},
     "output_type": "execute_result"
    }
   ],
   "source": [
    "Counter(zero_no_exp), Counter(zero_with_exp), Counter(few_no_exp), Counter(few_with_exp)"
   ]
  },
  {
   "cell_type": "code",
   "execution_count": 10,
   "id": "ba94a846-cb05-4719-83d3-5db91e24ce56",
   "metadata": {},
   "outputs": [
    {
     "name": "stdout",
     "output_type": "stream",
     "text": [
      "Zero, No Heuristic (0.6741854636591479, 0.3132832080200501, 0.012531328320802004)\n",
      "Zero, With Heuristic (0.6390977443609023, 0.3609022556390977, 0.0)\n",
      "Few, No Heuristic (0.706766917293233, 0.2656641604010025, 0.02756892230576441)\n",
      "Few, With Heuristic (0.731829573934837, 0.22305764411027568, 0.045112781954887216)\n"
     ]
    }
   ],
   "source": [
    "print('Zero, No Heuristic', metric_calculation(zero_no_exp, gt))\n",
    "print('Zero, With Heuristic', metric_calculation(zero_with_exp, gt))\n",
    "print('Few, No Heuristic', metric_calculation(few_no_exp, gt))\n",
    "print('Few, With Heuristic', metric_calculation(few_with_exp, gt))"
   ]
  },
  {
   "cell_type": "markdown",
   "id": "96785e98-3a55-47b1-b44c-5bc930b1bc2c",
   "metadata": {},
   "source": [
    "### 4o-mini"
   ]
  },
  {
   "cell_type": "code",
   "execution_count": 11,
   "id": "8c9cb2ea-f38c-4c8d-a4a8-c85692b3bc40",
   "metadata": {},
   "outputs": [],
   "source": [
    "zero_no_exp=np.load('base/4o_mini/4o_mini_zero_shot_no_exp.npy')\n",
    "zero_with_exp=np.load('base/4o_mini/4o_mini_zero_shot_with_exp.npy')\n",
    "few_no_exp=np.load('base/4o_mini/4o_mini_few_shot_no_exp.npy')\n",
    "few_with_exp=np.load('base/4o_mini/4o_mini_few_shot_with_exp.npy')\n",
    "\n",
    "## post-processing\n",
    "few_no_exp = np.array([i.split('}')[0].split('{')[1] for i in few_no_exp])\n",
    "few_with_exp = np.array([i.split('}')[0].split('{')[1] for i in few_with_exp])\n",
    "zero_no_exp = np.array([int(float(i)) if i in ['0', '0.0', '1', '1.0'] else 2 for i in zero_no_exp])\n",
    "zero_with_exp = np.array([int(float(i)) if i in ['0', '0.0', '1', '1.0'] else 2 for i in zero_with_exp])\n",
    "few_no_exp = np.array([int(float(i)) if i in ['0', '0.0', '1', '1.0'] else 2 for i in few_no_exp])\n",
    "few_with_exp = np.array([int(float(i)) if i in ['0', '0.0', '1', '1.0'] else 2 for i in few_with_exp])"
   ]
  },
  {
   "cell_type": "code",
   "execution_count": 12,
   "id": "4c0b05db-ef83-4349-95c8-91f976efaa3e",
   "metadata": {},
   "outputs": [
    {
     "data": {
      "text/plain": [
       "(Counter({0: 338, 1: 61}),\n",
       " Counter({1: 309, 0: 90}),\n",
       " Counter({0: 210, 1: 189}),\n",
       " Counter({1: 322, 0: 77}))"
      ]
     },
     "execution_count": 12,
     "metadata": {},
     "output_type": "execute_result"
    }
   ],
   "source": [
    "Counter(zero_no_exp), Counter(zero_with_exp), Counter(few_no_exp), Counter(few_with_exp)"
   ]
  },
  {
   "cell_type": "code",
   "execution_count": 13,
   "id": "8381ed77-ba1b-4ee0-86d0-8a18e24ac0fb",
   "metadata": {},
   "outputs": [
    {
     "name": "stdout",
     "output_type": "stream",
     "text": [
      "Zero, No Heuristic (0.49874686716791977, 0.007518796992481203, 0.49373433583959897)\n",
      "Zero, With Heuristic (0.8245614035087719, 0.15538847117794485, 0.020050125313283207)\n",
      "Few, No Heuristic (0.6942355889724311, 0.07017543859649122, 0.23558897243107768)\n",
      "Few, With Heuristic (0.8220551378446115, 0.17293233082706766, 0.005012531328320802)\n"
     ]
    }
   ],
   "source": [
    "print('Zero, No Heuristic', metric_calculation(zero_no_exp, gt))\n",
    "print('Zero, With Heuristic', metric_calculation(zero_with_exp, gt))\n",
    "print('Few, No Heuristic', metric_calculation(few_no_exp, gt))\n",
    "print('Few, With Heuristic', metric_calculation(few_with_exp, gt))"
   ]
  },
  {
   "cell_type": "markdown",
   "id": "5287fe31-2399-40f0-b4d2-434fbe7c134a",
   "metadata": {},
   "source": [
    "### 4o"
   ]
  },
  {
   "cell_type": "code",
   "execution_count": 14,
   "id": "81887730-c917-4dd9-a259-e1e5fa18d35c",
   "metadata": {},
   "outputs": [],
   "source": [
    "zero_no_exp=np.load('base/4o/4o_zero_shot_no_exp.npy')\n",
    "zero_with_exp=np.load('base/4o/4o_zero_shot_with_exp.npy')\n",
    "few_no_exp=np.load('base/4o/4o_few_shot_no_exp.npy')\n",
    "few_with_exp=np.load('base/4o/4o_few_shot_with_exp.npy')\n",
    "\n",
    "## post-processing\n",
    "few_no_exp = np.array([i.split('}')[0].split('{')[1] for i in few_no_exp])\n",
    "few_with_exp = np.array([i.split('}')[0].split('{')[1] for i in few_with_exp])\n",
    "zero_no_exp = np.array([int(float(i)) if i in ['0', '0.0', '1', '1.0'] else 2 for i in zero_no_exp])\n",
    "zero_with_exp = np.array([int(float(i)) if i in ['0', '0.0', '1', '1.0'] else 2 for i in zero_with_exp])\n",
    "few_no_exp = np.array([int(float(i)) if i in ['0', '0.0', '1', '1.0'] else 2 for i in few_no_exp])\n",
    "few_with_exp = np.array([int(float(i)) if i in ['0', '0.0', '1', '1.0'] else 2 for i in few_with_exp])"
   ]
  },
  {
   "cell_type": "code",
   "execution_count": 15,
   "id": "a8368e3d-66e4-40e7-baa3-9cc7411fe1a3",
   "metadata": {},
   "outputs": [
    {
     "data": {
      "text/plain": [
       "(Counter({0: 220, 1: 179}),\n",
       " Counter({1: 257, 0: 142}),\n",
       " Counter({1: 354, 0: 45}),\n",
       " Counter({1: 292, 0: 107}))"
      ]
     },
     "execution_count": 15,
     "metadata": {},
     "output_type": "execute_result"
    }
   ],
   "source": [
    "Counter(zero_no_exp), Counter(zero_with_exp), Counter(few_no_exp), Counter(few_with_exp)"
   ]
  },
  {
   "cell_type": "code",
   "execution_count": 16,
   "id": "ff03eda0-32bf-4944-99ee-8064783662f3",
   "metadata": {},
   "outputs": [
    {
     "name": "stdout",
     "output_type": "stream",
     "text": [
      "Zero, No Heuristic (0.7794486215538847, 0.015037593984962405, 0.20551378446115287)\n",
      "Zero, With Heuristic (0.949874686716792, 0.02756892230576441, 0.022556390977443608)\n",
      "Few, No Heuristic (0.7418546365914787, 0.2531328320802005, 0.005012531328320802)\n",
      "Few, With Heuristic (0.8972431077694235, 0.09774436090225563, 0.005012531328320802)\n"
     ]
    }
   ],
   "source": [
    "print('Zero, No Heuristic', metric_calculation(zero_no_exp, gt))\n",
    "print('Zero, With Heuristic', metric_calculation(zero_with_exp, gt))\n",
    "print('Few, No Heuristic', metric_calculation(few_no_exp, gt))\n",
    "print('Few, With Heuristic', metric_calculation(few_with_exp, gt))"
   ]
  }
 ],
 "metadata": {
  "kernelspec": {
   "display_name": "Python 3 (ipykernel)",
   "language": "python",
   "name": "python3"
  },
  "language_info": {
   "codemirror_mode": {
    "name": "ipython",
    "version": 3
   },
   "file_extension": ".py",
   "mimetype": "text/x-python",
   "name": "python",
   "nbconvert_exporter": "python",
   "pygments_lexer": "ipython3",
   "version": "3.10.15"
  }
 },
 "nbformat": 4,
 "nbformat_minor": 5
}
