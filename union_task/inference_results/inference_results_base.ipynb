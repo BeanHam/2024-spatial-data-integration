{
 "cells": [
  {
   "cell_type": "code",
   "execution_count": 1,
   "id": "6d37fe41",
   "metadata": {},
   "outputs": [],
   "source": [
    "import numpy as np\n",
    "from collections import Counter\n",
    "from datasets import load_dataset,concatenate_datasets\n",
    "from sklearn.metrics import accuracy_score, confusion_matrix"
   ]
  },
  {
   "cell_type": "code",
   "execution_count": 2,
   "id": "ac231661-2663-44fd-b5ef-00a2c57b01ac",
   "metadata": {},
   "outputs": [],
   "source": [
    "ds = load_dataset(\"beanham/spatial_union_dataset\")\n",
    "test=ds['test']\n",
    "gt=np.array(test['label'])"
   ]
  },
  {
   "cell_type": "code",
   "execution_count": 3,
   "id": "ff555aab-6b7c-423c-b022-bfe8b29d0a99",
   "metadata": {},
   "outputs": [],
   "source": [
    "def metric_calculation(pred, gt):    \n",
    "    acc=accuracy_score(gt, pred)    \n",
    "    confusion=confusion_matrix(gt, pred)\n",
    "    fpr=confusion[0,1]/len(gt) ## predict to be 1; actual 0\n",
    "    fnr=confusion[1,0]/len(gt) ## predict to be 0; actual 1\n",
    "    return acc, fpr, fnr"
   ]
  },
  {
   "cell_type": "markdown",
   "id": "617c2ca8-cad7-4707-b7f3-2d98e75e0d6e",
   "metadata": {},
   "source": [
    "### llama"
   ]
  },
  {
   "cell_type": "code",
   "execution_count": 8,
   "id": "285047a4-0567-4640-8cec-0b14ce78113c",
   "metadata": {},
   "outputs": [],
   "source": [
    "zero_no_exp=np.load('base/llama3/llama3_zero_shot_no_exp.npy')\n",
    "zero_with_exp=np.load('base/llama3/llama3_zero_shot_with_exp.npy')\n",
    "few_no_exp=np.load('base/llama3/llama3_few_shot_no_exp.npy')\n",
    "few_with_exp=np.load('base/llama3/llama3_few_shot_with_exp.npy')\n",
    "\n",
    "## post-processing\n",
    "zero_no_exp = np.array([i.split('Response')[1].split('\\n')[1] if 'Response' in i else i.split()[0] for i in zero_no_exp])\n",
    "few_no_exp = np.array([i.split('}')[0].replace('{','') if '{' in i else i.split()[0] for i in few_no_exp])\n",
    "zero_with_exp = np.array([i.split('Response')[1].split()[1] if 'Response' in i else i.split()[0] for i in zero_with_exp])\n",
    "few_with_exp = np.array([i.split('}')[0].replace('{','') if '{' in i else i.split()[0] for i in few_with_exp])\n",
    "zero_no_exp = np.array([int(float(i)) if i in ['0', '0.0', '1', '1.0'] else 2 for i in zero_no_exp])\n",
    "zero_with_exp = np.array([int(float(i)) if i in ['0', '0.0', '1', '1.0'] else 2 for i in zero_with_exp])\n",
    "few_no_exp = np.array([int(float(i)) if i in ['0', '0.0', '1', '1.0'] else 2 for i in few_no_exp])\n",
    "few_with_exp = np.array([int(float(i)) if i in ['0', '0.0', '1', '1.0'] else 2 for i in few_with_exp])"
   ]
  },
  {
   "cell_type": "code",
   "execution_count": 9,
   "id": "511faacd-329b-4acf-8a72-d391f9b3120e",
   "metadata": {},
   "outputs": [
    {
     "data": {
      "text/plain": [
       "(Counter({0: 257, 1: 142}),\n",
       " Counter({1: 230, 0: 169}),\n",
       " Counter({0: 369, 1: 25, 2: 5}),\n",
       " Counter({0: 252, 1: 141, 2: 6}))"
      ]
     },
     "execution_count": 9,
     "metadata": {},
     "output_type": "execute_result"
    }
   ],
   "source": [
    "Counter(zero_no_exp), Counter(zero_with_exp), Counter(few_no_exp), Counter(few_with_exp)"
   ]
  },
  {
   "cell_type": "code",
   "execution_count": 10,
   "id": "2bd58011-b06a-44e2-9cbd-72651d20683c",
   "metadata": {},
   "outputs": [
    {
     "name": "stdout",
     "output_type": "stream",
     "text": [
      "Zero, No Heuristic (0.5162907268170426, 0.10025062656641603, 0.38345864661654133)\n",
      "Zero, With Heuristic (0.581453634085213, 0.17794486215538846, 0.24060150375939848)\n",
      "Few, No Heuristic (0.38847117794486213, 0.017543859649122806, 0.581453634085213)\n",
      "Few, With Heuristic (0.6240601503759399, 0.045112781954887216, 0.3157894736842105)\n"
     ]
    }
   ],
   "source": [
    "print('Zero, No Heuristic', metric_calculation(zero_no_exp, gt))\n",
    "print('Zero, With Heuristic', metric_calculation(zero_with_exp, gt))\n",
    "print('Few, No Heuristic', metric_calculation(few_no_exp, gt))\n",
    "print('Few, With Heuristic', metric_calculation(few_with_exp, gt))"
   ]
  },
  {
   "cell_type": "markdown",
   "id": "18fc3f81-6cd4-407e-847a-b3e6927f9da7",
   "metadata": {},
   "source": [
    "### mistral"
   ]
  },
  {
   "cell_type": "code",
   "execution_count": 16,
   "id": "2a1991e2-d0c6-4095-8d16-4f26f76f4c4e",
   "metadata": {},
   "outputs": [],
   "source": [
    "zero_no_exp=np.load('base/mistral/mistral_zero_shot_no_exp.npy')\n",
    "zero_with_exp=np.load('base/mistral/mistral_zero_shot_with_exp.npy')\n",
    "few_no_exp=np.load('base/mistral/mistral_few_shot_no_exp.npy')\n",
    "few_with_exp=np.load('base/mistral/mistral_few_shot_with_exp.npy')"
   ]
  },
  {
   "cell_type": "code",
   "execution_count": 17,
   "id": "a68de35e-2779-4bb5-97e3-fb427463b56e",
   "metadata": {},
   "outputs": [],
   "source": [
    "## post-processing\n",
    "zero_no_exp = np.array([i.split('Response')[1].split('\\n')[1].replace('</s>', '') if 'Response' in i else i.split()[0].replace('</s>', '') for i in zero_no_exp])\n",
    "few_no_exp = np.array([i.split('Response')[1].split('}')[0].split('{')[1] if 'Response' in i else i.split('}')[0].replace('{','').replace('</s>', '') for i in few_no_exp])\n",
    "zero_with_exp = np.array([i.split('Response')[1].split('\\n')[1].replace('</s>', '') if 'Response' in i else i.split()[0].replace('</s>', '') for i in zero_with_exp])\n",
    "few_with_exp = np.array([i.split('Response')[1].split('}')[0].split('{')[1] if 'Response' in i else i.split('}')[0].replace('{','').replace('</s>', '') for i in few_with_exp])\n",
    "zero_no_exp = np.array([int(float(i)) if i in ['0', '0.0', '1', '1.0'] else 2 for i in zero_no_exp])\n",
    "zero_with_exp = np.array([int(float(i)) if i in ['0', '0.0', '1', '1.0'] else 2 for i in zero_with_exp])\n",
    "few_no_exp = np.array([int(float(i)) if i in ['0', '0.0', '1', '1.0'] else 2 for i in few_no_exp])\n",
    "few_with_exp = np.array([int(float(i)) if i in ['0', '0.0', '1', '1.0'] else 2 for i in few_with_exp])"
   ]
  },
  {
   "cell_type": "code",
   "execution_count": 18,
   "id": "3b84619f-5eb5-4f1e-bcca-90a30df3394e",
   "metadata": {},
   "outputs": [
    {
     "data": {
      "text/plain": [
       "(Counter({0: 232, 1: 167}),\n",
       " Counter({1: 280, 0: 119}),\n",
       " Counter({0: 399}),\n",
       " Counter({0: 386, 1: 13}))"
      ]
     },
     "execution_count": 18,
     "metadata": {},
     "output_type": "execute_result"
    }
   ],
   "source": [
    "Counter(zero_no_exp), Counter(zero_with_exp), Counter(few_no_exp), Counter(few_with_exp)"
   ]
  },
  {
   "cell_type": "code",
   "execution_count": 19,
   "id": "ba94a846-cb05-4719-83d3-5db91e24ce56",
   "metadata": {},
   "outputs": [
    {
     "name": "stdout",
     "output_type": "stream",
     "text": [
      "Zero, No Heuristic (0.5939849624060151, 0.09273182957393483, 0.3132832080200501)\n",
      "Zero, With Heuristic (0.6265664160401002, 0.21804511278195488, 0.15538847117794485)\n",
      "Few, No Heuristic (0.3609022556390977, 0.0, 0.6390977443609023)\n",
      "Few, With Heuristic (0.39348370927318294, 0.0, 0.606516290726817)\n"
     ]
    }
   ],
   "source": [
    "print('Zero, No Heuristic', metric_calculation(zero_no_exp, gt))\n",
    "print('Zero, With Heuristic', metric_calculation(zero_with_exp, gt))\n",
    "print('Few, No Heuristic', metric_calculation(few_no_exp, gt))\n",
    "print('Few, With Heuristic', metric_calculation(few_with_exp, gt))"
   ]
  },
  {
   "cell_type": "markdown",
   "id": "96785e98-3a55-47b1-b44c-5bc930b1bc2c",
   "metadata": {},
   "source": [
    "### 4o-mini"
   ]
  },
  {
   "cell_type": "code",
   "execution_count": 11,
   "id": "8c9cb2ea-f38c-4c8d-a4a8-c85692b3bc40",
   "metadata": {},
   "outputs": [],
   "source": [
    "zero_no_exp=np.load('base/4o_mini/4o_mini_zero_shot_no_exp.npy')\n",
    "zero_with_exp=np.load('base/4o_mini/4o_mini_zero_shot_with_exp.npy')\n",
    "few_no_exp=np.load('base/4o_mini/4o_mini_few_shot_no_exp.npy')\n",
    "few_with_exp=np.load('base/4o_mini/4o_mini_few_shot_with_exp.npy')\n",
    "\n",
    "## post-processing\n",
    "few_no_exp = np.array([i.split('}')[0].split('{')[1] for i in few_no_exp])\n",
    "few_with_exp = np.array([i.split('}')[0].split('{')[1] for i in few_with_exp])\n",
    "zero_no_exp = np.array([int(float(i)) if i in ['0', '0.0', '1', '1.0'] else 2 for i in zero_no_exp])\n",
    "zero_with_exp = np.array([int(float(i)) if i in ['0', '0.0', '1', '1.0'] else 2 for i in zero_with_exp])\n",
    "few_no_exp = np.array([int(float(i)) if i in ['0', '0.0', '1', '1.0'] else 2 for i in few_no_exp])\n",
    "few_with_exp = np.array([int(float(i)) if i in ['0', '0.0', '1', '1.0'] else 2 for i in few_with_exp])"
   ]
  },
  {
   "cell_type": "code",
   "execution_count": 12,
   "id": "4c0b05db-ef83-4349-95c8-91f976efaa3e",
   "metadata": {},
   "outputs": [
    {
     "data": {
      "text/plain": [
       "(Counter({0: 370, 1: 29}),\n",
       " Counter({1: 345, 0: 54}),\n",
       " Counter({0: 303, 1: 96}),\n",
       " Counter({1: 325, 0: 74}))"
      ]
     },
     "execution_count": 12,
     "metadata": {},
     "output_type": "execute_result"
    }
   ],
   "source": [
    "Counter(zero_no_exp), Counter(zero_with_exp), Counter(few_no_exp), Counter(few_with_exp)"
   ]
  },
  {
   "cell_type": "code",
   "execution_count": 13,
   "id": "f7bf5a72-04e9-451d-9c81-9b9a266409b7",
   "metadata": {},
   "outputs": [
    {
     "name": "stdout",
     "output_type": "stream",
     "text": [
      "Zero, No Heuristic (0.42857142857142855, 0.002506265664160401, 0.568922305764411)\n",
      "Zero, With Heuristic (0.7744360902255639, 0.22556390977443608, 0.0)\n",
      "Few, No Heuristic (0.5764411027568922, 0.012531328320802004, 0.41102756892230574)\n",
      "Few, With Heuristic (0.8195488721804511, 0.17794486215538846, 0.002506265664160401)\n"
     ]
    }
   ],
   "source": [
    "print('Zero, No Heuristic', metric_calculation(zero_no_exp, gt))\n",
    "print('Zero, With Heuristic', metric_calculation(zero_with_exp, gt))\n",
    "print('Few, No Heuristic', metric_calculation(few_no_exp, gt))\n",
    "print('Few, With Heuristic', metric_calculation(few_with_exp, gt))"
   ]
  },
  {
   "cell_type": "markdown",
   "id": "5287fe31-2399-40f0-b4d2-434fbe7c134a",
   "metadata": {},
   "source": [
    "### 4o"
   ]
  },
  {
   "cell_type": "code",
   "execution_count": 10,
   "id": "81887730-c917-4dd9-a259-e1e5fa18d35c",
   "metadata": {},
   "outputs": [],
   "source": [
    "zero_no_exp=np.load('base/4o/4o_zero_shot_no_exp.npy')\n",
    "zero_with_exp=np.load('base/4o/4o_zero_shot_with_exp.npy')\n",
    "few_no_exp=np.load('base/4o/4o_few_shot_no_exp.npy')\n",
    "few_with_exp=np.load('base/4o/4o_few_shot_with_exp.npy')\n",
    "\n",
    "## post-processing\n",
    "few_no_exp = np.array([i.split('}')[0].split('{')[1] for i in few_no_exp])\n",
    "few_with_exp = np.array([i.split('}')[0].split('{')[1] for i in few_with_exp])\n",
    "zero_no_exp = np.array([int(float(i)) if i in ['0', '0.0', '1', '1.0'] else 2 for i in zero_no_exp])\n",
    "zero_with_exp = np.array([int(float(i)) if i in ['0', '0.0', '1', '1.0'] else 2 for i in zero_with_exp])\n",
    "few_no_exp = np.array([int(float(i)) if i in ['0', '0.0', '1', '1.0'] else 2 for i in few_no_exp])\n",
    "few_with_exp = np.array([int(float(i)) if i in ['0', '0.0', '1', '1.0'] else 2 for i in few_with_exp])"
   ]
  },
  {
   "cell_type": "code",
   "execution_count": 11,
   "id": "a8368e3d-66e4-40e7-baa3-9cc7411fe1a3",
   "metadata": {},
   "outputs": [
    {
     "data": {
      "text/plain": [
       "(Counter({0: 307, 1: 92}),\n",
       " Counter({1: 255, 0: 144}),\n",
       " Counter({1: 334, 0: 65}),\n",
       " Counter({1: 288, 0: 111}))"
      ]
     },
     "execution_count": 11,
     "metadata": {},
     "output_type": "execute_result"
    }
   ],
   "source": [
    "Counter(zero_no_exp), Counter(zero_with_exp), Counter(few_no_exp), Counter(few_with_exp)"
   ]
  },
  {
   "cell_type": "code",
   "execution_count": 12,
   "id": "4456f30c-37ba-4ea1-bbce-45c2f1fcc0f6",
   "metadata": {},
   "outputs": [
    {
     "name": "stdout",
     "output_type": "stream",
     "text": [
      "Zero, No Heuristic (0.581453634085213, 0.005012531328320802, 0.41353383458646614)\n",
      "Zero, With Heuristic (0.9598997493734336, 0.020050125313283207, 0.020050125313283207)\n",
      "Few, No Heuristic (0.7769423558897243, 0.21052631578947367, 0.012531328320802004)\n",
      "Few, With Heuristic (0.9072681704260651, 0.08771929824561403, 0.005012531328320802)\n"
     ]
    }
   ],
   "source": [
    "print('Zero, No Heuristic', metric_calculation(zero_no_exp, gt))\n",
    "print('Zero, With Heuristic', metric_calculation(zero_with_exp, gt))\n",
    "print('Few, No Heuristic', metric_calculation(few_no_exp, gt))\n",
    "print('Few, With Heuristic', metric_calculation(few_with_exp, gt))"
   ]
  }
 ],
 "metadata": {
  "kernelspec": {
   "display_name": "Python 3 (ipykernel)",
   "language": "python",
   "name": "python3"
  },
  "language_info": {
   "codemirror_mode": {
    "name": "ipython",
    "version": 3
   },
   "file_extension": ".py",
   "mimetype": "text/x-python",
   "name": "python",
   "nbconvert_exporter": "python",
   "pygments_lexer": "ipython3",
   "version": "3.10.15"
  }
 },
 "nbformat": 4,
 "nbformat_minor": 5
}
